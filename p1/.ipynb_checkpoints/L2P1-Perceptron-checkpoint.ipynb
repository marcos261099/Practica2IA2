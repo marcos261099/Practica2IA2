{
 "cells": [
  {
   "cell_type": "code",
   "execution_count": 964,
   "metadata": {},
   "outputs": [],
   "source": [
    "import numpy as np"
   ]
  },
  {
   "cell_type": "code",
   "execution_count": 965,
   "metadata": {},
   "outputs": [],
   "source": [
    "learn_rate=0.1\n",
    "Umbral=0.2"
   ]
  },
  {
   "cell_type": "code",
   "execution_count": 966,
   "metadata": {},
   "outputs": [
    {
     "data": {
      "text/plain": [
       "array([[ 0.3],\n",
       "       [-0.1]])"
      ]
     },
     "execution_count": 966,
     "metadata": {},
     "output_type": "execute_result"
    }
   ],
   "source": [
    "pesos=2 * np.random.random((2,1)) - 1\n",
    "pesos[0]=0.3\n",
    "pesos[1]=-0.1\n",
    "pesos"
   ]
  },
  {
   "cell_type": "code",
   "execution_count": 967,
   "metadata": {},
   "outputs": [],
   "source": [
    "entradas=np.array([[0,0],[0,1],[1,0],[1,1]])\n",
    "salidas=np.array([[0],[0],[0],[1]])\n"
   ]
  },
  {
   "cell_type": "code",
   "execution_count": 968,
   "metadata": {},
   "outputs": [],
   "source": [
    "def funcionActivacion(S,Umbral):\n",
    "    S=np.less(S,Umbral)\n",
    "    S=np.invert(S)\n",
    "    return S.astype(int)"
   ]
  },
  {
   "cell_type": "code",
   "execution_count": 969,
   "metadata": {},
   "outputs": [],
   "source": [
    "def entrenar(entradas,salidas,pesos,periodo):\n",
    "    for i in range(periodo):\n",
    "        S=np.dot(entradas,pesos)\n",
    "        y=funcionActivacion(S,Umbral)\n",
    "        error=salidas-y\n",
    "        print(pesos)\n",
    "        if np.count_nonzero(error)==0:\n",
    "            print(i+1)\n",
    "            break\n",
    "        pesos=pesos+learn_rate*np.dot(entradas.T,error)\n",
    "    return pesos\n"
   ]
  },
  {
   "cell_type": "code",
   "execution_count": 970,
   "metadata": {},
   "outputs": [],
   "source": [
    "def clasificacion(entradas):\n",
    "    S=np.dot(entradas,pesos)\n",
    "    print(funcionActivacion(S,Umbral))"
   ]
  },
  {
   "cell_type": "code",
   "execution_count": 971,
   "metadata": {
    "scrolled": false
   },
   "outputs": [
    {
     "name": "stdout",
     "output_type": "stream",
     "text": [
      "[[ 0.3]\n",
      " [-0.1]]\n",
      "[[0.3]\n",
      " [0. ]]\n",
      "[[0.2]\n",
      " [0. ]]\n",
      "[[0.3]\n",
      " [0.1]]\n",
      "[[0.2]\n",
      " [0.1]]\n",
      "5\n"
     ]
    },
    {
     "data": {
      "text/plain": [
       "array([[0.2],\n",
       "       [0.1]])"
      ]
     },
     "execution_count": 971,
     "metadata": {},
     "output_type": "execute_result"
    }
   ],
   "source": [
    "periodo=40\n",
    "pesos=entrenar(entradas,salidas,pesos,periodo)\n",
    "pesos"
   ]
  },
  {
   "cell_type": "code",
   "execution_count": 972,
   "metadata": {},
   "outputs": [
    {
     "name": "stdout",
     "output_type": "stream",
     "text": [
      "[0]\n",
      "[0]\n",
      "[0]\n",
      "[1]\n"
     ]
    }
   ],
   "source": [
    "clasificacion(np.array([0,0]))\n",
    "clasificacion(np.array([0,1]))\n",
    "clasificacion(np.array([1,0]))\n",
    "clasificacion(np.array([1,1]))"
   ]
  },
  {
   "cell_type": "code",
   "execution_count": null,
   "metadata": {},
   "outputs": [],
   "source": []
  },
  {
   "cell_type": "code",
   "execution_count": null,
   "metadata": {},
   "outputs": [],
   "source": []
  }
 ],
 "metadata": {
  "kernelspec": {
   "display_name": "Python 3",
   "language": "python",
   "name": "python3"
  },
  "language_info": {
   "codemirror_mode": {
    "name": "ipython",
    "version": 3
   },
   "file_extension": ".py",
   "mimetype": "text/x-python",
   "name": "python",
   "nbconvert_exporter": "python",
   "pygments_lexer": "ipython3",
   "version": "3.8.5"
  }
 },
 "nbformat": 4,
 "nbformat_minor": 4
}
