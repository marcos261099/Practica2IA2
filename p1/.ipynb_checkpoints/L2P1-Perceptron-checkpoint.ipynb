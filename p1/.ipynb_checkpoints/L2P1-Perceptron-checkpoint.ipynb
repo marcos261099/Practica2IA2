{
 "cells": [
  {
   "cell_type": "code",
   "execution_count": 3416,
   "metadata": {},
   "outputs": [],
   "source": [
    "import numpy as np\n",
    "from matplotlib import pyplot as plt\n",
    "import pandas as pd\n",
    "from decimal import Decimal\n",
    "np.random.seed(45)"
   ]
  },
  {
   "cell_type": "code",
   "execution_count": 3417,
   "metadata": {},
   "outputs": [
    {
     "data": {
      "text/html": [
       "<div>\n",
       "<style scoped>\n",
       "    .dataframe tbody tr th:only-of-type {\n",
       "        vertical-align: middle;\n",
       "    }\n",
       "\n",
       "    .dataframe tbody tr th {\n",
       "        vertical-align: top;\n",
       "    }\n",
       "\n",
       "    .dataframe thead th {\n",
       "        text-align: right;\n",
       "    }\n",
       "</style>\n",
       "<table border=\"1\" class=\"dataframe\">\n",
       "  <thead>\n",
       "    <tr style=\"text-align: right;\">\n",
       "      <th></th>\n",
       "      <th>Epoch</th>\n",
       "      <th>Inputs</th>\n",
       "      <th>Desired Output Y</th>\n",
       "      <th>Inicial wights</th>\n",
       "      <th>Actual output</th>\n",
       "      <th>Error</th>\n",
       "      <th>Final weights</th>\n",
       "    </tr>\n",
       "  </thead>\n",
       "  <tbody>\n",
       "  </tbody>\n",
       "</table>\n",
       "</div>"
      ],
      "text/plain": [
       "Empty DataFrame\n",
       "Columns: [Epoch, Inputs, Desired Output Y, Inicial wights, Actual output, Error, Final weights]\n",
       "Index: []"
      ]
     },
     "execution_count": 3417,
     "metadata": {},
     "output_type": "execute_result"
    }
   ],
   "source": [
    "df = pd.DataFrame(columns=['Epoch', 'Inputs', 'Desired Output Y',\"Inicial wights\",\"Actual output\",\"Error\",\"Final weights\"])\n",
    "df"
   ]
  },
  {
   "cell_type": "code",
   "execution_count": 3418,
   "metadata": {},
   "outputs": [],
   "source": [
    "learn_rate=0.1\n",
    "Umbral=0.2"
   ]
  },
  {
   "cell_type": "code",
   "execution_count": 3419,
   "metadata": {},
   "outputs": [
    {
     "data": {
      "text/plain": [
       "array([[0.97802303],\n",
       "       [0.09908945]])"
      ]
     },
     "execution_count": 3419,
     "metadata": {},
     "output_type": "execute_result"
    }
   ],
   "source": [
    "pesos=2 * np.random.random((2,1)) - 1\n",
    "#pesos[0]=Decimal(0.3)\n",
    "#pesos[1]=Decimal(-0.1)\n",
    "pesos"
   ]
  },
  {
   "cell_type": "code",
   "execution_count": 3420,
   "metadata": {},
   "outputs": [],
   "source": [
    "entradas=np.array([[0,0],[0,1],[1,0],[1,1]])\n",
    "salidas=np.array([[0],[0],[0],[1]])"
   ]
  },
  {
   "cell_type": "code",
   "execution_count": 3421,
   "metadata": {},
   "outputs": [],
   "source": [
    "def funcionActivacion(S,Umbral):\n",
    "    if S>=Umbral:\n",
    "        return 1\n",
    "    else:\n",
    "        return 0\n",
    " "
   ]
  },
  {
   "cell_type": "code",
   "execution_count": 3422,
   "metadata": {},
   "outputs": [],
   "source": [
    "def pintamos(i):\n",
    "    plt.plot([0,0,1],[0,1,0],'o', color='blue');\n",
    "    plt.plot([1],[1],'o', color='red');\n",
    "    pendiente=0\n",
    "    OrdenadaOrigen=0\n",
    "    if pesos[1]!=0:\n",
    "        pendiente=-(pesos[0]/pesos[1])\n",
    "        OrdenadaOrigen=Umbral/pesos[1]\n",
    "    else:\n",
    "        print(\"efeffefeef\")\n",
    "    \n",
    "    plt.plot([-2,2],[pendiente*-2 + OrdenadaOrigen,pendiente*2 + OrdenadaOrigen], color='green')\n",
    "    axes = plt.gca()\n",
    "    axes.set_xlim([-0.1,1.1])\n",
    "    axes.set_ylim([-0.1,1.1])\n",
    "    plt.title(\"Epoch: \" +str (i+1))\n",
    "    plt.show()"
   ]
  },
  {
   "cell_type": "code",
   "execution_count": 3423,
   "metadata": {},
   "outputs": [],
   "source": [
    "def entrenar(entradas,salidas,epoch):\n",
    "    global pesos\n",
    "    ErroresEpoch=[]\n",
    "    for i in range(epoch):\n",
    "        errorM=0.0\n",
    "        for x in range(entradas.shape[0]):\n",
    "            S=np.dot(entradas[x],pesos)\n",
    "            y=funcionActivacion(S[0],Umbral)\n",
    "            error=salidas[x]-y\n",
    "            errorM+=abs(error[0])\n",
    "            pesosI=pesos.copy()\n",
    "            pesos=pesos+np.array([learn_rate*entradas[x]*error]).T\n",
    "            df.loc[df.shape[0]]=i+1,str(entradas[x]),salidas[x],np.round(pesosI,decimals=4),y,error,np.round(pesos.copy(),decimals=4)\n",
    "        #pesos+=learn_rate*np.dot(entradas.T,error)\n",
    "        errorM/=entradas.shape[0]\n",
    "        ErroresEpoch.append(errorM)\n",
    "        pintamos(i)    \n",
    "        if errorM==0:\n",
    "            return ErroresEpoch\n",
    "    return ErroresEpoch\n"
   ]
  },
  {
   "cell_type": "code",
   "execution_count": 3424,
   "metadata": {},
   "outputs": [],
   "source": [
    "def clasificacion(entradas):\n",
    "    S=np.dot(entradas,pesos)\n",
    "    print(funcionActivacion(S[0],Umbral))"
   ]
  },
  {
   "cell_type": "code",
   "execution_count": 3425,
   "metadata": {
    "scrolled": false
   },
   "outputs": [
    {
     "data": {
      "image/png": "[encoded data removed]",
      "text/plain": [
       "<Figure size 432x288 with 1 Axes>"
      ]
     },
     "metadata": {
      "needs_background": "light"
     },
     "output_type": "display_data"
    },
    {
     "data": {
      "image/png": "[encoded data removed]",
      "text/plain": [
       "<Figure size 432x288 with 1 Axes>"
      ]
     },
     "metadata": {
      "needs_background": "light"
     },
     "output_type": "display_data"
    },
    {
     "data": {
      "image/png": "[encoded data removed]",
      "text/plain": [
       "<Figure size 432x288 with 1 Axes>"
      ]
     },
     "metadata": {
      "needs_background": "light"
     },
     "output_type": "display_data"
    },
    {
     "data": {
      "image/png": "[encoded data removed]",
      "text/plain": [
       "<Figure size 432x288 with 1 Axes>"
      ]
     },
     "metadata": {
      "needs_background": "light"
     },
     "output_type": "display_data"
    },
    {
     "data": {
      "image/png": "[encoded data removed]",
      "text/plain": [
       "<Figure size 432x288 with 1 Axes>"
      ]
     },
     "metadata": {
      "needs_background": "light"
     },
     "output_type": "display_data"
    },
    {
     "data": {
      "image/png": "[encoded data removed]",
      "text/plain": [
       "<Figure size 432x288 with 1 Axes>"
      ]
     },
     "metadata": {
      "needs_background": "light"
     },
     "output_type": "display_data"
    },
    {
     "data": {
      "image/png": "[encoded data removed]",
      "text/plain": [
       "<Figure size 432x288 with 1 Axes>"
      ]
     },
     "metadata": {
      "needs_background": "light"
     },
     "output_type": "display_data"
    },
    {
     "data": {
      "image/png": "[encoded data removed]",
      "text/plain": [
       "<Figure size 432x288 with 1 Axes>"
      ]
     },
     "metadata": {
      "needs_background": "light"
     },
     "output_type": "display_data"
    },
    {
     "data": {
      "image/png": "[encoded data removed]",
      "text/plain": [
       "<Figure size 432x288 with 1 Axes>"
      ]
     },
     "metadata": {
      "needs_background": "light"
     },
     "output_type": "display_data"
    },
    {
     "data": {
      "text/plain": [
       "array([[0.17802303],\n",
       "       [0.09908945]])"
      ]
     },
     "execution_count": 3425,
     "metadata": {},
     "output_type": "execute_result"
    }
   ],
   "source": [
    "periodo=10\n",
    "ErroresEpoch=entrenar(entradas,salidas,periodo)\n",
    "pesos\n"
   ]
  },
  {
   "cell_type": "code",
   "execution_count": 3426,
   "metadata": {},
   "outputs": [
    {
     "data": {
      "text/html": [
       "<div>\n",
       "<style scoped>\n",
       "    .dataframe tbody tr th:only-of-type {\n",
       "        vertical-align: middle;\n",
       "    }\n",
       "\n",
       "    .dataframe tbody tr th {\n",
       "        vertical-align: top;\n",
       "    }\n",
       "\n",
       "    .dataframe thead th {\n",
       "        text-align: right;\n",
       "    }\n",
       "</style>\n",
       "<table border=\"1\" class=\"dataframe\">\n",
       "  <thead>\n",
       "    <tr style=\"text-align: right;\">\n",
       "      <th></th>\n",
       "      <th></th>\n",
       "      <th>Desired Output Y</th>\n",
       "      <th>Inicial wights</th>\n",
       "      <th>Actual output</th>\n",
       "      <th>Error</th>\n",
       "      <th>Final weights</th>\n",
       "    </tr>\n",
       "    <tr>\n",
       "      <th>Epoch</th>\n",
       "      <th>Inputs</th>\n",
       "      <th></th>\n",
       "      <th></th>\n",
       "      <th></th>\n",
       "      <th></th>\n",
       "      <th></th>\n",
       "    </tr>\n",
       "  </thead>\n",
       "  <tbody>\n",
       "    <tr>\n",
       "      <th rowspan=\"4\" valign=\"top\">1</th>\n",
       "      <th>[0 0]</th>\n",
       "      <td>[0]</td>\n",
       "      <td>[[0.978], [0.0991]]</td>\n",
       "      <td>0</td>\n",
       "      <td>[0]</td>\n",
       "      <td>[[0.978], [0.0991]]</td>\n",
       "    </tr>\n",
       "    <tr>\n",
       "      <th>[0 1]</th>\n",
       "      <td>[0]</td>\n",
       "      <td>[[0.978], [0.0991]]</td>\n",
       "      <td>0</td>\n",
       "      <td>[0]</td>\n",
       "      <td>[[0.978], [0.0991]]</td>\n",
       "    </tr>\n",
       "    <tr>\n",
       "      <th>[1 0]</th>\n",
       "      <td>[0]</td>\n",
       "      <td>[[0.978], [0.0991]]</td>\n",
       "      <td>1</td>\n",
       "      <td>[-1]</td>\n",
       "      <td>[[0.878], [0.0991]]</td>\n",
       "    </tr>\n",
       "    <tr>\n",
       "      <th>[1 1]</th>\n",
       "      <td>[1]</td>\n",
       "      <td>[[0.878], [0.0991]]</td>\n",
       "      <td>1</td>\n",
       "      <td>[0]</td>\n",
       "      <td>[[0.878], [0.0991]]</td>\n",
       "    </tr>\n",
       "    <tr>\n",
       "      <th rowspan=\"4\" valign=\"top\">2</th>\n",
       "      <th>[0 0]</th>\n",
       "      <td>[0]</td>\n",
       "      <td>[[0.878], [0.0991]]</td>\n",
       "      <td>0</td>\n",
       "      <td>[0]</td>\n",
       "      <td>[[0.878], [0.0991]]</td>\n",
       "    </tr>\n",
       "    <tr>\n",
       "      <th>[0 1]</th>\n",
       "      <td>[0]</td>\n",
       "      <td>[[0.878], [0.0991]]</td>\n",
       "      <td>0</td>\n",
       "      <td>[0]</td>\n",
       "      <td>[[0.878], [0.0991]]</td>\n",
       "    </tr>\n",
       "    <tr>\n",
       "      <th>[1 0]</th>\n",
       "      <td>[0]</td>\n",
       "      <td>[[0.878], [0.0991]]</td>\n",
       "      <td>1</td>\n",
       "      <td>[-1]</td>\n",
       "      <td>[[0.778], [0.0991]]</td>\n",
       "    </tr>\n",
       "    <tr>\n",
       "      <th>[1 1]</th>\n",
       "      <td>[1]</td>\n",
       "      <td>[[0.778], [0.0991]]</td>\n",
       "      <td>1</td>\n",
       "      <td>[0]</td>\n",
       "      <td>[[0.778], [0.0991]]</td>\n",
       "    </tr>\n",
       "    <tr>\n",
       "      <th rowspan=\"4\" valign=\"top\">3</th>\n",
       "      <th>[0 0]</th>\n",
       "      <td>[0]</td>\n",
       "      <td>[[0.778], [0.0991]]</td>\n",
       "      <td>0</td>\n",
       "      <td>[0]</td>\n",
       "      <td>[[0.778], [0.0991]]</td>\n",
       "    </tr>\n",
       "    <tr>\n",
       "      <th>[0 1]</th>\n",
       "      <td>[0]</td>\n",
       "      <td>[[0.778], [0.0991]]</td>\n",
       "      <td>0</td>\n",
       "      <td>[0]</td>\n",
       "      <td>[[0.778], [0.0991]]</td>\n",
       "    </tr>\n",
       "    <tr>\n",
       "      <th>[1 0]</th>\n",
       "      <td>[0]</td>\n",
       "      <td>[[0.778], [0.0991]]</td>\n",
       "      <td>1</td>\n",
       "      <td>[-1]</td>\n",
       "      <td>[[0.678], [0.0991]]</td>\n",
       "    </tr>\n",
       "    <tr>\n",
       "      <th>[1 1]</th>\n",
       "      <td>[1]</td>\n",
       "      <td>[[0.678], [0.0991]]</td>\n",
       "      <td>1</td>\n",
       "      <td>[0]</td>\n",
       "      <td>[[0.678], [0.0991]]</td>\n",
       "    </tr>\n",
       "    <tr>\n",
       "      <th rowspan=\"4\" valign=\"top\">4</th>\n",
       "      <th>[0 0]</th>\n",
       "      <td>[0]</td>\n",
       "      <td>[[0.678], [0.0991]]</td>\n",
       "      <td>0</td>\n",
       "      <td>[0]</td>\n",
       "      <td>[[0.678], [0.0991]]</td>\n",
       "    </tr>\n",
       "    <tr>\n",
       "      <th>[0 1]</th>\n",
       "      <td>[0]</td>\n",
       "      <td>[[0.678], [0.0991]]</td>\n",
       "      <td>0</td>\n",
       "      <td>[0]</td>\n",
       "      <td>[[0.678], [0.0991]]</td>\n",
       "    </tr>\n",
       "    <tr>\n",
       "      <th>[1 0]</th>\n",
       "      <td>[0]</td>\n",
       "      <td>[[0.678], [0.0991]]</td>\n",
       "      <td>1</td>\n",
       "      <td>[-1]</td>\n",
       "      <td>[[0.578], [0.0991]]</td>\n",
       "    </tr>\n",
       "    <tr>\n",
       "      <th>[1 1]</th>\n",
       "      <td>[1]</td>\n",
       "      <td>[[0.578], [0.0991]]</td>\n",
       "      <td>1</td>\n",
       "      <td>[0]</td>\n",
       "      <td>[[0.578], [0.0991]]</td>\n",
       "    </tr>\n",
       "    <tr>\n",
       "      <th rowspan=\"4\" valign=\"top\">5</th>\n",
       "      <th>[0 0]</th>\n",
       "      <td>[0]</td>\n",
       "      <td>[[0.578], [0.0991]]</td>\n",
       "      <td>0</td>\n",
       "      <td>[0]</td>\n",
       "      <td>[[0.578], [0.0991]]</td>\n",
       "    </tr>\n",
       "    <tr>\n",
       "      <th>[0 1]</th>\n",
       "      <td>[0]</td>\n",
       "      <td>[[0.578], [0.0991]]</td>\n",
       "      <td>0</td>\n",
       "      <td>[0]</td>\n",
       "      <td>[[0.578], [0.0991]]</td>\n",
       "    </tr>\n",
       "    <tr>\n",
       "      <th>[1 0]</th>\n",
       "      <td>[0]</td>\n",
       "      <td>[[0.578], [0.0991]]</td>\n",
       "      <td>1</td>\n",
       "      <td>[-1]</td>\n",
       "      <td>[[0.478], [0.0991]]</td>\n",
       "    </tr>\n",
       "    <tr>\n",
       "      <th>[1 1]</th>\n",
       "      <td>[1]</td>\n",
       "      <td>[[0.478], [0.0991]]</td>\n",
       "      <td>1</td>\n",
       "      <td>[0]</td>\n",
       "      <td>[[0.478], [0.0991]]</td>\n",
       "    </tr>\n",
       "    <tr>\n",
       "      <th rowspan=\"4\" valign=\"top\">6</th>\n",
       "      <th>[0 0]</th>\n",
       "      <td>[0]</td>\n",
       "      <td>[[0.478], [0.0991]]</td>\n",
       "      <td>0</td>\n",
       "      <td>[0]</td>\n",
       "      <td>[[0.478], [0.0991]]</td>\n",
       "    </tr>\n",
       "    <tr>\n",
       "      <th>[0 1]</th>\n",
       "      <td>[0]</td>\n",
       "      <td>[[0.478], [0.0991]]</td>\n",
       "      <td>0</td>\n",
       "      <td>[0]</td>\n",
       "      <td>[[0.478], [0.0991]]</td>\n",
       "    </tr>\n",
       "    <tr>\n",
       "      <th>[1 0]</th>\n",
       "      <td>[0]</td>\n",
       "      <td>[[0.478], [0.0991]]</td>\n",
       "      <td>1</td>\n",
       "      <td>[-1]</td>\n",
       "      <td>[[0.378], [0.0991]]</td>\n",
       "    </tr>\n",
       "    <tr>\n",
       "      <th>[1 1]</th>\n",
       "      <td>[1]</td>\n",
       "      <td>[[0.378], [0.0991]]</td>\n",
       "      <td>1</td>\n",
       "      <td>[0]</td>\n",
       "      <td>[[0.378], [0.0991]]</td>\n",
       "    </tr>\n",
       "    <tr>\n",
       "      <th rowspan=\"4\" valign=\"top\">7</th>\n",
       "      <th>[0 0]</th>\n",
       "      <td>[0]</td>\n",
       "      <td>[[0.378], [0.0991]]</td>\n",
       "      <td>0</td>\n",
       "      <td>[0]</td>\n",
       "      <td>[[0.378], [0.0991]]</td>\n",
       "    </tr>\n",
       "    <tr>\n",
       "      <th>[0 1]</th>\n",
       "      <td>[0]</td>\n",
       "      <td>[[0.378], [0.0991]]</td>\n",
       "      <td>0</td>\n",
       "      <td>[0]</td>\n",
       "      <td>[[0.378], [0.0991]]</td>\n",
       "    </tr>\n",
       "    <tr>\n",
       "      <th>[1 0]</th>\n",
       "      <td>[0]</td>\n",
       "      <td>[[0.378], [0.0991]]</td>\n",
       "      <td>1</td>\n",
       "      <td>[-1]</td>\n",
       "      <td>[[0.278], [0.0991]]</td>\n",
       "    </tr>\n",
       "    <tr>\n",
       "      <th>[1 1]</th>\n",
       "      <td>[1]</td>\n",
       "      <td>[[0.278], [0.0991]]</td>\n",
       "      <td>1</td>\n",
       "      <td>[0]</td>\n",
       "      <td>[[0.278], [0.0991]]</td>\n",
       "    </tr>\n",
       "    <tr>\n",
       "      <th rowspan=\"4\" valign=\"top\">8</th>\n",
       "      <th>[0 0]</th>\n",
       "      <td>[0]</td>\n",
       "      <td>[[0.278], [0.0991]]</td>\n",
       "      <td>0</td>\n",
       "      <td>[0]</td>\n",
       "      <td>[[0.278], [0.0991]]</td>\n",
       "    </tr>\n",
       "    <tr>\n",
       "      <th>[0 1]</th>\n",
       "      <td>[0]</td>\n",
       "      <td>[[0.278], [0.0991]]</td>\n",
       "      <td>0</td>\n",
       "      <td>[0]</td>\n",
       "      <td>[[0.278], [0.0991]]</td>\n",
       "    </tr>\n",
       "    <tr>\n",
       "      <th>[1 0]</th>\n",
       "      <td>[0]</td>\n",
       "      <td>[[0.278], [0.0991]]</td>\n",
       "      <td>1</td>\n",
       "      <td>[-1]</td>\n",
       "      <td>[[0.178], [0.0991]]</td>\n",
       "    </tr>\n",
       "    <tr>\n",
       "      <th>[1 1]</th>\n",
       "      <td>[1]</td>\n",
       "      <td>[[0.178], [0.0991]]</td>\n",
       "      <td>1</td>\n",
       "      <td>[0]</td>\n",
       "      <td>[[0.178], [0.0991]]</td>\n",
       "    </tr>\n",
       "    <tr>\n",
       "      <th rowspan=\"4\" valign=\"top\">9</th>\n",
       "      <th>[0 0]</th>\n",
       "      <td>[0]</td>\n",
       "      <td>[[0.178], [0.0991]]</td>\n",
       "      <td>0</td>\n",
       "      <td>[0]</td>\n",
       "      <td>[[0.178], [0.0991]]</td>\n",
       "    </tr>\n",
       "    <tr>\n",
       "      <th>[0 1]</th>\n",
       "      <td>[0]</td>\n",
       "      <td>[[0.178], [0.0991]]</td>\n",
       "      <td>0</td>\n",
       "      <td>[0]</td>\n",
       "      <td>[[0.178], [0.0991]]</td>\n",
       "    </tr>\n",
       "    <tr>\n",
       "      <th>[1 0]</th>\n",
       "      <td>[0]</td>\n",
       "      <td>[[0.178], [0.0991]]</td>\n",
       "      <td>0</td>\n",
       "      <td>[0]</td>\n",
       "      <td>[[0.178], [0.0991]]</td>\n",
       "    </tr>\n",
       "    <tr>\n",
       "      <th>[1 1]</th>\n",
       "      <td>[1]</td>\n",
       "      <td>[[0.178], [0.0991]]</td>\n",
       "      <td>1</td>\n",
       "      <td>[0]</td>\n",
       "      <td>[[0.178], [0.0991]]</td>\n",
       "    </tr>\n",
       "  </tbody>\n",
       "</table>\n",
       "</div>"
      ],
      "text/plain": [
       "             Desired Output Y       Inicial wights Actual output Error  \\\n",
       "Epoch Inputs                                                             \n",
       "1     [0 0]               [0]  [[0.978], [0.0991]]             0   [0]   \n",
       "      [0 1]               [0]  [[0.978], [0.0991]]             0   [0]   \n",
       "      [1 0]               [0]  [[0.978], [0.0991]]             1  [-1]   \n",
       "      [1 1]               [1]  [[0.878], [0.0991]]             1   [0]   \n",
       "2     [0 0]               [0]  [[0.878], [0.0991]]             0   [0]   \n",
       "      [0 1]               [0]  [[0.878], [0.0991]]             0   [0]   \n",
       "      [1 0]               [0]  [[0.878], [0.0991]]             1  [-1]   \n",
       "      [1 1]               [1]  [[0.778], [0.0991]]             1   [0]   \n",
       "3     [0 0]               [0]  [[0.778], [0.0991]]             0   [0]   \n",
       "      [0 1]               [0]  [[0.778], [0.0991]]             0   [0]   \n",
       "      [1 0]               [0]  [[0.778], [0.0991]]             1  [-1]   \n",
       "      [1 1]               [1]  [[0.678], [0.0991]]             1   [0]   \n",
       "4     [0 0]               [0]  [[0.678], [0.0991]]             0   [0]   \n",
       "      [0 1]               [0]  [[0.678], [0.0991]]             0   [0]   \n",
       "      [1 0]               [0]  [[0.678], [0.0991]]             1  [-1]   \n",
       "      [1 1]               [1]  [[0.578], [0.0991]]             1   [0]   \n",
       "5     [0 0]               [0]  [[0.578], [0.0991]]             0   [0]   \n",
       "      [0 1]               [0]  [[0.578], [0.0991]]             0   [0]   \n",
       "      [1 0]               [0]  [[0.578], [0.0991]]             1  [-1]   \n",
       "      [1 1]               [1]  [[0.478], [0.0991]]             1   [0]   \n",
       "6     [0 0]               [0]  [[0.478], [0.0991]]             0   [0]   \n",
       "      [0 1]               [0]  [[0.478], [0.0991]]             0   [0]   \n",
       "      [1 0]               [0]  [[0.478], [0.0991]]             1  [-1]   \n",
       "      [1 1]               [1]  [[0.378], [0.0991]]             1   [0]   \n",
       "7     [0 0]               [0]  [[0.378], [0.0991]]             0   [0]   \n",
       "      [0 1]               [0]  [[0.378], [0.0991]]             0   [0]   \n",
       "      [1 0]               [0]  [[0.378], [0.0991]]             1  [-1]   \n",
       "      [1 1]               [1]  [[0.278], [0.0991]]             1   [0]   \n",
       "8     [0 0]               [0]  [[0.278], [0.0991]]             0   [0]   \n",
       "      [0 1]               [0]  [[0.278], [0.0991]]             0   [0]   \n",
       "      [1 0]               [0]  [[0.278], [0.0991]]             1  [-1]   \n",
       "      [1 1]               [1]  [[0.178], [0.0991]]             1   [0]   \n",
       "9     [0 0]               [0]  [[0.178], [0.0991]]             0   [0]   \n",
       "      [0 1]               [0]  [[0.178], [0.0991]]             0   [0]   \n",
       "      [1 0]               [0]  [[0.178], [0.0991]]             0   [0]   \n",
       "      [1 1]               [1]  [[0.178], [0.0991]]             1   [0]   \n",
       "\n",
       "                    Final weights  \n",
       "Epoch Inputs                       \n",
       "1     [0 0]   [[0.978], [0.0991]]  \n",
       "      [0 1]   [[0.978], [0.0991]]  \n",
       "      [1 0]   [[0.878], [0.0991]]  \n",
       "      [1 1]   [[0.878], [0.0991]]  \n",
       "2     [0 0]   [[0.878], [0.0991]]  \n",
       "      [0 1]   [[0.878], [0.0991]]  \n",
       "      [1 0]   [[0.778], [0.0991]]  \n",
       "      [1 1]   [[0.778], [0.0991]]  \n",
       "3     [0 0]   [[0.778], [0.0991]]  \n",
       "      [0 1]   [[0.778], [0.0991]]  \n",
       "      [1 0]   [[0.678], [0.0991]]  \n",
       "      [1 1]   [[0.678], [0.0991]]  \n",
       "4     [0 0]   [[0.678], [0.0991]]  \n",
       "      [0 1]   [[0.678], [0.0991]]  \n",
       "      [1 0]   [[0.578], [0.0991]]  \n",
       "      [1 1]   [[0.578], [0.0991]]  \n",
       "5     [0 0]   [[0.578], [0.0991]]  \n",
       "      [0 1]   [[0.578], [0.0991]]  \n",
       "      [1 0]   [[0.478], [0.0991]]  \n",
       "      [1 1]   [[0.478], [0.0991]]  \n",
       "6     [0 0]   [[0.478], [0.0991]]  \n",
       "      [0 1]   [[0.478], [0.0991]]  \n",
       "      [1 0]   [[0.378], [0.0991]]  \n",
       "      [1 1]   [[0.378], [0.0991]]  \n",
       "7     [0 0]   [[0.378], [0.0991]]  \n",
       "      [0 1]   [[0.378], [0.0991]]  \n",
       "      [1 0]   [[0.278], [0.0991]]  \n",
       "      [1 1]   [[0.278], [0.0991]]  \n",
       "8     [0 0]   [[0.278], [0.0991]]  \n",
       "      [0 1]   [[0.278], [0.0991]]  \n",
       "      [1 0]   [[0.178], [0.0991]]  \n",
       "      [1 1]   [[0.178], [0.0991]]  \n",
       "9     [0 0]   [[0.178], [0.0991]]  \n",
       "      [0 1]   [[0.178], [0.0991]]  \n",
       "      [1 0]   [[0.178], [0.0991]]  \n",
       "      [1 1]   [[0.178], [0.0991]]  "
      ]
     },
     "execution_count": 3426,
     "metadata": {},
     "output_type": "execute_result"
    }
   ],
   "source": [
    "df=df.set_index([\"Epoch\",\"Inputs\"])\n",
    "df.sort_index(inplace=True)\n",
    "df"
   ]
  },
  {
   "cell_type": "code",
   "execution_count": 3427,
   "metadata": {},
   "outputs": [
    {
     "ename": "ValueError",
     "evalue": "x and y must have same first dimension, but have shapes (10,) and (9,)",
     "output_type": "error",
     "traceback": [
      "\u001b[1;31m---------------------------------------------------------------------------\u001b[0m",
      "\u001b[1;31mValueError\u001b[0m                                Traceback (most recent call last)",
      "\u001b[1;32m<ipython-input-3427-ba41776bde55>\u001b[0m in \u001b[0;36m<module>\u001b[1;34m\u001b[0m\n\u001b[1;32m----> 1\u001b[1;33m \u001b[0mplt\u001b[0m\u001b[1;33m.\u001b[0m\u001b[0mplot\u001b[0m\u001b[1;33m(\u001b[0m\u001b[0mnp\u001b[0m\u001b[1;33m.\u001b[0m\u001b[0marange\u001b[0m\u001b[1;33m(\u001b[0m\u001b[0mperiodo\u001b[0m\u001b[1;33m)\u001b[0m\u001b[1;33m,\u001b[0m\u001b[0mErroresEpoch\u001b[0m\u001b[1;33m)\u001b[0m\u001b[1;33m\u001b[0m\u001b[1;33m\u001b[0m\u001b[0m\n\u001b[0m\u001b[0;32m      2\u001b[0m \u001b[0maxes\u001b[0m \u001b[1;33m=\u001b[0m \u001b[0mplt\u001b[0m\u001b[1;33m.\u001b[0m\u001b[0mgca\u001b[0m\u001b[1;33m(\u001b[0m\u001b[1;33m)\u001b[0m\u001b[1;33m\u001b[0m\u001b[1;33m\u001b[0m\u001b[0m\n\u001b[0;32m      3\u001b[0m \u001b[0maxes\u001b[0m\u001b[1;33m.\u001b[0m\u001b[0mset_ylim\u001b[0m\u001b[1;33m(\u001b[0m\u001b[1;33m[\u001b[0m\u001b[1;36m0\u001b[0m\u001b[1;33m,\u001b[0m\u001b[1;36m1\u001b[0m\u001b[1;33m]\u001b[0m\u001b[1;33m)\u001b[0m\u001b[1;33m\u001b[0m\u001b[1;33m\u001b[0m\u001b[0m\n\u001b[0;32m      4\u001b[0m \u001b[0mplt\u001b[0m\u001b[1;33m.\u001b[0m\u001b[0mshow\u001b[0m\u001b[1;33m(\u001b[0m\u001b[1;33m)\u001b[0m\u001b[1;33m\u001b[0m\u001b[1;33m\u001b[0m\u001b[0m\n\u001b[0;32m      5\u001b[0m \u001b[0mErroresEpoch\u001b[0m\u001b[1;33m\u001b[0m\u001b[1;33m\u001b[0m\u001b[0m\n",
      "\u001b[1;32m~\\anaconda3\\lib\\site-packages\\matplotlib\\pyplot.py\u001b[0m in \u001b[0;36mplot\u001b[1;34m(scalex, scaley, data, *args, **kwargs)\u001b[0m\n\u001b[0;32m   2838\u001b[0m \u001b[1;33m@\u001b[0m\u001b[0m_copy_docstring_and_deprecators\u001b[0m\u001b[1;33m(\u001b[0m\u001b[0mAxes\u001b[0m\u001b[1;33m.\u001b[0m\u001b[0mplot\u001b[0m\u001b[1;33m)\u001b[0m\u001b[1;33m\u001b[0m\u001b[1;33m\u001b[0m\u001b[0m\n\u001b[0;32m   2839\u001b[0m \u001b[1;32mdef\u001b[0m \u001b[0mplot\u001b[0m\u001b[1;33m(\u001b[0m\u001b[1;33m*\u001b[0m\u001b[0margs\u001b[0m\u001b[1;33m,\u001b[0m \u001b[0mscalex\u001b[0m\u001b[1;33m=\u001b[0m\u001b[1;32mTrue\u001b[0m\u001b[1;33m,\u001b[0m \u001b[0mscaley\u001b[0m\u001b[1;33m=\u001b[0m\u001b[1;32mTrue\u001b[0m\u001b[1;33m,\u001b[0m \u001b[0mdata\u001b[0m\u001b[1;33m=\u001b[0m\u001b[1;32mNone\u001b[0m\u001b[1;33m,\u001b[0m \u001b[1;33m**\u001b[0m\u001b[0mkwargs\u001b[0m\u001b[1;33m)\u001b[0m\u001b[1;33m:\u001b[0m\u001b[1;33m\u001b[0m\u001b[1;33m\u001b[0m\u001b[0m\n\u001b[1;32m-> 2840\u001b[1;33m     return gca().plot(\n\u001b[0m\u001b[0;32m   2841\u001b[0m         \u001b[1;33m*\u001b[0m\u001b[0margs\u001b[0m\u001b[1;33m,\u001b[0m \u001b[0mscalex\u001b[0m\u001b[1;33m=\u001b[0m\u001b[0mscalex\u001b[0m\u001b[1;33m,\u001b[0m \u001b[0mscaley\u001b[0m\u001b[1;33m=\u001b[0m\u001b[0mscaley\u001b[0m\u001b[1;33m,\u001b[0m\u001b[1;33m\u001b[0m\u001b[1;33m\u001b[0m\u001b[0m\n\u001b[0;32m   2842\u001b[0m         **({\"data\": data} if data is not None else {}), **kwargs)\n",
      "\u001b[1;32m~\\anaconda3\\lib\\site-packages\\matplotlib\\axes\\_axes.py\u001b[0m in \u001b[0;36mplot\u001b[1;34m(self, scalex, scaley, data, *args, **kwargs)\u001b[0m\n\u001b[0;32m   1741\u001b[0m         \"\"\"\n\u001b[0;32m   1742\u001b[0m         \u001b[0mkwargs\u001b[0m \u001b[1;33m=\u001b[0m \u001b[0mcbook\u001b[0m\u001b[1;33m.\u001b[0m\u001b[0mnormalize_kwargs\u001b[0m\u001b[1;33m(\u001b[0m\u001b[0mkwargs\u001b[0m\u001b[1;33m,\u001b[0m \u001b[0mmlines\u001b[0m\u001b[1;33m.\u001b[0m\u001b[0mLine2D\u001b[0m\u001b[1;33m)\u001b[0m\u001b[1;33m\u001b[0m\u001b[1;33m\u001b[0m\u001b[0m\n\u001b[1;32m-> 1743\u001b[1;33m         \u001b[0mlines\u001b[0m \u001b[1;33m=\u001b[0m \u001b[1;33m[\u001b[0m\u001b[1;33m*\u001b[0m\u001b[0mself\u001b[0m\u001b[1;33m.\u001b[0m\u001b[0m_get_lines\u001b[0m\u001b[1;33m(\u001b[0m\u001b[1;33m*\u001b[0m\u001b[0margs\u001b[0m\u001b[1;33m,\u001b[0m \u001b[0mdata\u001b[0m\u001b[1;33m=\u001b[0m\u001b[0mdata\u001b[0m\u001b[1;33m,\u001b[0m \u001b[1;33m**\u001b[0m\u001b[0mkwargs\u001b[0m\u001b[1;33m)\u001b[0m\u001b[1;33m]\u001b[0m\u001b[1;33m\u001b[0m\u001b[1;33m\u001b[0m\u001b[0m\n\u001b[0m\u001b[0;32m   1744\u001b[0m         \u001b[1;32mfor\u001b[0m \u001b[0mline\u001b[0m \u001b[1;32min\u001b[0m \u001b[0mlines\u001b[0m\u001b[1;33m:\u001b[0m\u001b[1;33m\u001b[0m\u001b[1;33m\u001b[0m\u001b[0m\n\u001b[0;32m   1745\u001b[0m             \u001b[0mself\u001b[0m\u001b[1;33m.\u001b[0m\u001b[0madd_line\u001b[0m\u001b[1;33m(\u001b[0m\u001b[0mline\u001b[0m\u001b[1;33m)\u001b[0m\u001b[1;33m\u001b[0m\u001b[1;33m\u001b[0m\u001b[0m\n",
      "\u001b[1;32m~\\anaconda3\\lib\\site-packages\\matplotlib\\axes\\_base.py\u001b[0m in \u001b[0;36m__call__\u001b[1;34m(self, data, *args, **kwargs)\u001b[0m\n\u001b[0;32m    271\u001b[0m                 \u001b[0mthis\u001b[0m \u001b[1;33m+=\u001b[0m \u001b[0margs\u001b[0m\u001b[1;33m[\u001b[0m\u001b[1;36m0\u001b[0m\u001b[1;33m]\u001b[0m\u001b[1;33m,\u001b[0m\u001b[1;33m\u001b[0m\u001b[1;33m\u001b[0m\u001b[0m\n\u001b[0;32m    272\u001b[0m                 \u001b[0margs\u001b[0m \u001b[1;33m=\u001b[0m \u001b[0margs\u001b[0m\u001b[1;33m[\u001b[0m\u001b[1;36m1\u001b[0m\u001b[1;33m:\u001b[0m\u001b[1;33m]\u001b[0m\u001b[1;33m\u001b[0m\u001b[1;33m\u001b[0m\u001b[0m\n\u001b[1;32m--> 273\u001b[1;33m             \u001b[1;32myield\u001b[0m \u001b[1;32mfrom\u001b[0m \u001b[0mself\u001b[0m\u001b[1;33m.\u001b[0m\u001b[0m_plot_args\u001b[0m\u001b[1;33m(\u001b[0m\u001b[0mthis\u001b[0m\u001b[1;33m,\u001b[0m \u001b[0mkwargs\u001b[0m\u001b[1;33m)\u001b[0m\u001b[1;33m\u001b[0m\u001b[1;33m\u001b[0m\u001b[0m\n\u001b[0m\u001b[0;32m    274\u001b[0m \u001b[1;33m\u001b[0m\u001b[0m\n\u001b[0;32m    275\u001b[0m     \u001b[1;32mdef\u001b[0m \u001b[0mget_next_color\u001b[0m\u001b[1;33m(\u001b[0m\u001b[0mself\u001b[0m\u001b[1;33m)\u001b[0m\u001b[1;33m:\u001b[0m\u001b[1;33m\u001b[0m\u001b[1;33m\u001b[0m\u001b[0m\n",
      "\u001b[1;32m~\\anaconda3\\lib\\site-packages\\matplotlib\\axes\\_base.py\u001b[0m in \u001b[0;36m_plot_args\u001b[1;34m(self, tup, kwargs)\u001b[0m\n\u001b[0;32m    397\u001b[0m \u001b[1;33m\u001b[0m\u001b[0m\n\u001b[0;32m    398\u001b[0m         \u001b[1;32mif\u001b[0m \u001b[0mx\u001b[0m\u001b[1;33m.\u001b[0m\u001b[0mshape\u001b[0m\u001b[1;33m[\u001b[0m\u001b[1;36m0\u001b[0m\u001b[1;33m]\u001b[0m \u001b[1;33m!=\u001b[0m \u001b[0my\u001b[0m\u001b[1;33m.\u001b[0m\u001b[0mshape\u001b[0m\u001b[1;33m[\u001b[0m\u001b[1;36m0\u001b[0m\u001b[1;33m]\u001b[0m\u001b[1;33m:\u001b[0m\u001b[1;33m\u001b[0m\u001b[1;33m\u001b[0m\u001b[0m\n\u001b[1;32m--> 399\u001b[1;33m             raise ValueError(f\"x and y must have same first dimension, but \"\n\u001b[0m\u001b[0;32m    400\u001b[0m                              f\"have shapes {x.shape} and {y.shape}\")\n\u001b[0;32m    401\u001b[0m         \u001b[1;32mif\u001b[0m \u001b[0mx\u001b[0m\u001b[1;33m.\u001b[0m\u001b[0mndim\u001b[0m \u001b[1;33m>\u001b[0m \u001b[1;36m2\u001b[0m \u001b[1;32mor\u001b[0m \u001b[0my\u001b[0m\u001b[1;33m.\u001b[0m\u001b[0mndim\u001b[0m \u001b[1;33m>\u001b[0m \u001b[1;36m2\u001b[0m\u001b[1;33m:\u001b[0m\u001b[1;33m\u001b[0m\u001b[1;33m\u001b[0m\u001b[0m\n",
      "\u001b[1;31mValueError\u001b[0m: x and y must have same first dimension, but have shapes (10,) and (9,)"
     ]
    },
    {
     "data": {
      "image/png": "[encoded data removed]",
      "text/plain": [
       "<Figure size 432x288 with 1 Axes>"
      ]
     },
     "metadata": {
      "needs_background": "light"
     },
     "output_type": "display_data"
    }
   ],
   "source": [
    "\n",
    "plt.plot(np.arange(periodo),ErroresEpoch)\n",
    "axes = plt.gca()\n",
    "axes.set_ylim([0,1])\n",
    "plt.show()\n",
    "ErroresEpoch"
   ]
  },
  {
   "cell_type": "code",
   "execution_count": null,
   "metadata": {},
   "outputs": [],
   "source": [
    "clasificacion(np.array([0,0]))\n",
    "clasificacion(np.array([0,1]))\n",
    "clasificacion(np.array([1,0]))\n",
    "clasificacion(np.array([1,1]))"
   ]
  },
  {
   "cell_type": "code",
   "execution_count": null,
   "metadata": {},
   "outputs": [],
   "source": []
  }
 ],
 "metadata": {
  "kernelspec": {
   "display_name": "Python 3",
   "language": "python",
   "name": "python3"
  },
  "language_info": {
   "codemirror_mode": {
    "name": "ipython",
    "version": 3
   },
   "file_extension": ".py",
   "mimetype": "text/x-python",
   "name": "python",
   "nbconvert_exporter": "python",
   "pygments_lexer": "ipython3",
   "version": "3.8.5"
  }
 },
 "nbformat": 4,
 "nbformat_minor": 4
}
