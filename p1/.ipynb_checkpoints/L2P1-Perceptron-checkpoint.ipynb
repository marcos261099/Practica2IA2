{
 "cells": [
  {
   "cell_type": "markdown",
   "metadata": {},
   "source": [
    "# Practica 2.1\n",
    "## Juan Latasa, David Arranz, Jesus tejada y Marcos Rodríguez\n",
    "## Perceptron"
   ]
  },
  {
   "cell_type": "code",
   "execution_count": 124,
   "metadata": {},
   "outputs": [],
   "source": [
    "#declaración de librerías\n",
    "import numpy as np\n",
    "from matplotlib import pyplot as plt\n",
    "import pandas as pd\n",
    "np.random.seed(45) #declaramos una semilla para que nos de los mismo resultados"
   ]
  },
  {
   "cell_type": "markdown",
   "metadata": {},
   "source": [
    "Aqui lo que hace es crear un DataFrame, para posteriormente representar la tabla que se nos pide.\n",
    "\n",
    "Ponemos las columnas correspondientes."
   ]
  },
  {
   "cell_type": "code",
   "execution_count": 125,
   "metadata": {},
   "outputs": [
    {
     "data": {
      "text/html": [
       "<div>\n",
       "<style scoped>\n",
       "    .dataframe tbody tr th:only-of-type {\n",
       "        vertical-align: middle;\n",
       "    }\n",
       "\n",
       "    .dataframe tbody tr th {\n",
       "        vertical-align: top;\n",
       "    }\n",
       "\n",
       "    .dataframe thead th {\n",
       "        text-align: right;\n",
       "    }\n",
       "</style>\n",
       "<table border=\"1\" class=\"dataframe\">\n",
       "  <thead>\n",
       "    <tr style=\"text-align: right;\">\n",
       "      <th></th>\n",
       "      <th>Epoch</th>\n",
       "      <th>Entradas</th>\n",
       "      <th>Pesos iniciales</th>\n",
       "      <th>Desired Output Yr</th>\n",
       "      <th>Actual output Yd</th>\n",
       "      <th>Error</th>\n",
       "      <th>Pesos finales</th>\n",
       "    </tr>\n",
       "  </thead>\n",
       "  <tbody>\n",
       "  </tbody>\n",
       "</table>\n",
       "</div>"
      ],
      "text/plain": [
       "Empty DataFrame\n",
       "Columns: [Epoch, Entradas, Pesos iniciales, Desired Output Yr, Actual output Yd, Error, Pesos finales]\n",
       "Index: []"
      ]
     },
     "execution_count": 125,
     "metadata": {},
     "output_type": "execute_result"
    }
   ],
   "source": [
    "df = pd.DataFrame(columns=['Epoch', 'Entradas',\"Pesos iniciales\",'Desired Output Yr',\"Actual output Yd\",\"Error\",\"Pesos finales\"])\n",
    "df"
   ]
  },
  {
   "cell_type": "code",
   "execution_count": 126,
   "metadata": {},
   "outputs": [],
   "source": [
    "learn_rate=0.1 #declaramoa el learning rate\n",
    "Umbral=0.2 #declaramos el umbral"
   ]
  },
  {
   "cell_type": "code",
   "execution_count": 127,
   "metadata": {
    "scrolled": true
   },
   "outputs": [
    {
     "data": {
      "text/plain": [
       "array([[0.97802303],\n",
       "       [0.09908945]])"
      ]
     },
     "execution_count": 127,
     "metadata": {},
     "output_type": "execute_result"
    }
   ],
   "source": [
    "np.random.seed(45) #declaramos una semilla para que nos de los mismo resultados\n",
    "pesos=2 * np.random.random((2,1)) - 1 #inicilaizamos los pesos, los cuales van a ir de -1 a 1\n",
    "Inipesos=pesos\n",
    "pesos"
   ]
  },
  {
   "cell_type": "markdown",
   "metadata": {},
   "source": [
    "### Función de activación"
   ]
  },
  {
   "cell_type": "code",
   "execution_count": 128,
   "metadata": {},
   "outputs": [],
   "source": [
    "def funcionActivacion(S,Umbral):\n",
    "    if S>=Umbral:\n",
    "        return 1\n",
    "    else:\n",
    "        return 0"
   ]
  },
  {
   "cell_type": "markdown",
   "metadata": {},
   "source": [
    "### Representación ecuación general"
   ]
  },
  {
   "cell_type": "code",
   "execution_count": 129,
   "metadata": {},
   "outputs": [],
   "source": [
    "def pintamos(i,Func):\n",
    "    if Func:\n",
    "        plt.plot([0,0,1],[0,1,0],'o', color='blue');\n",
    "        plt.plot([1],[1],'o', color='red');\n",
    "    else:\n",
    "        plt.plot([0,1],[1,0],'o', color='red');\n",
    "        plt.plot([0,1],[0,1],'o', color='blue');        \n",
    "    pendiente=0\n",
    "    OrdenadaOrigen=0\n",
    "    if pesos[1]!=0:\n",
    "        pendiente=-(pesos[0]/pesos[1])\n",
    "        OrdenadaOrigen=Umbral/pesos[1]\n",
    "    \n",
    "    plt.plot([-2,2],[pendiente*-2 + OrdenadaOrigen,pendiente*2 + OrdenadaOrigen], color='green')\n",
    "    axes = plt.gca()\n",
    "    axes.set_xlim([-0.1,1.1])\n",
    "    axes.set_ylim([-0.1,1.1])\n",
    "    plt.title(\"Epoch: \" +str (i+1))\n",
    "    plt.show()\n",
    "    print(\"Ecuación del hiperplano: {:.2f}*x + {:.2f}\".format(pendiente[0],OrdenadaOrigen[0]))"
   ]
  },
  {
   "cell_type": "markdown",
   "metadata": {},
   "source": [
    "### Entrenamiento Red Neuronal"
   ]
  },
  {
   "cell_type": "code",
   "execution_count": 130,
   "metadata": {},
   "outputs": [],
   "source": [
    "def entrenar(entradas,salidas,epoch,FAnd):\n",
    "    global pesos\n",
    "    ErroresEpoch=[]\n",
    "    for i in range(epoch):\n",
    "        errorM=0.0\n",
    "        for x in range(entradas.shape[0]):\n",
    "            S=np.dot(entradas[x],pesos)\n",
    "            y=funcionActivacion(S[0],Umbral)\n",
    "            error=salidas[x]-y\n",
    "            errorM+=abs(error[0])\n",
    "            pesosI=pesos.copy()\n",
    "            pesos=pesos+np.array([learn_rate*entradas[x]*error]).T\n",
    "            df.loc[df.shape[0]]=i+1,str(entradas[x]),np.round(pesosI,decimals=4),salidas[x][0],y,error[0],np.round(pesos.copy(),decimals=4)\n",
    "        #pesos+=learn_rate*np.dot(entradas.T,error)\n",
    "        errorM/=entradas.shape[0]\n",
    "        ErroresEpoch.append(errorM)\n",
    "        pintamos(i,FAnd)    \n",
    "        if errorM==0:\n",
    "            return i,ErroresEpoch\n",
    "    return i,ErroresEpoch\n"
   ]
  },
  {
   "cell_type": "markdown",
   "metadata": {},
   "source": [
    "### Clasificación"
   ]
  },
  {
   "cell_type": "code",
   "execution_count": 131,
   "metadata": {},
   "outputs": [],
   "source": [
    "def clasificacion(entradas):\n",
    "    S=np.dot(entradas,pesos)\n",
    "    print(funcionActivacion(S[0],Umbral))"
   ]
  },
  {
   "cell_type": "markdown",
   "metadata": {},
   "source": [
    "### Función AND"
   ]
  },
  {
   "cell_type": "code",
   "execution_count": 132,
   "metadata": {
    "scrolled": false
   },
   "outputs": [
    {
     "data": {
      "image/png": "[encoded data removed]",
      "text/plain": [
       "<Figure size 432x288 with 1 Axes>"
      ]
     },
     "metadata": {
      "needs_background": "light"
     },
     "output_type": "display_data"
    },
    {
     "name": "stdout",
     "output_type": "stream",
     "text": [
      "Ecuación del hiperplano: -8.86*x + 2.02\n"
     ]
    },
    {
     "data": {
      "image/png": "[encoded data removed]",
      "text/plain": [
       "<Figure size 432x288 with 1 Axes>"
      ]
     },
     "metadata": {
      "needs_background": "light"
     },
     "output_type": "display_data"
    },
    {
     "name": "stdout",
     "output_type": "stream",
     "text": [
      "Ecuación del hiperplano: -7.85*x + 2.02\n"
     ]
    },
    {
     "data": {
      "image/png": "[encoded data removed]",
      "text/plain": [
       "<Figure size 432x288 with 1 Axes>"
      ]
     },
     "metadata": {
      "needs_background": "light"
     },
     "output_type": "display_data"
    },
    {
     "name": "stdout",
     "output_type": "stream",
     "text": [
      "Ecuación del hiperplano: -6.84*x + 2.02\n"
     ]
    },
    {
     "data": {
      "image/png": "[encoded data removed]",
      "text/plain": [
       "<Figure size 432x288 with 1 Axes>"
      ]
     },
     "metadata": {
      "needs_background": "light"
     },
     "output_type": "display_data"
    },
    {
     "name": "stdout",
     "output_type": "stream",
     "text": [
      "Ecuación del hiperplano: -5.83*x + 2.02\n"
     ]
    },
    {
     "data": {
      "image/png": "[encoded data removed]",
      "text/plain": [
       "<Figure size 432x288 with 1 Axes>"
      ]
     },
     "metadata": {
      "needs_background": "light"
     },
     "output_type": "display_data"
    },
    {
     "name": "stdout",
     "output_type": "stream",
     "text": [
      "Ecuación del hiperplano: -4.82*x + 2.02\n"
     ]
    },
    {
     "data": {
      "image/png": "[encoded data removed]",
      "text/plain": [
       "<Figure size 432x288 with 1 Axes>"
      ]
     },
     "metadata": {
      "needs_background": "light"
     },
     "output_type": "display_data"
    },
    {
     "name": "stdout",
     "output_type": "stream",
     "text": [
      "Ecuación del hiperplano: -3.81*x + 2.02\n"
     ]
    },
    {
     "data": {
      "image/png": "[encoded data removed]",
      "text/plain": [
       "<Figure size 432x288 with 1 Axes>"
      ]
     },
     "metadata": {
      "needs_background": "light"
     },
     "output_type": "display_data"
    },
    {
     "name": "stdout",
     "output_type": "stream",
     "text": [
      "Ecuación del hiperplano: -2.81*x + 2.02\n"
     ]
    },
    {
     "data": {
      "image/png": "[encoded data removed]",
      "text/plain": [
       "<Figure size 432x288 with 1 Axes>"
      ]
     },
     "metadata": {
      "needs_background": "light"
     },
     "output_type": "display_data"
    },
    {
     "name": "stdout",
     "output_type": "stream",
     "text": [
      "Ecuación del hiperplano: -1.80*x + 2.02\n"
     ]
    },
    {
     "data": {
      "image/png": "[encoded data removed]",
      "text/plain": [
       "<Figure size 432x288 with 1 Axes>"
      ]
     },
     "metadata": {
      "needs_background": "light"
     },
     "output_type": "display_data"
    },
    {
     "name": "stdout",
     "output_type": "stream",
     "text": [
      "Ecuación del hiperplano: -1.80*x + 2.02\n"
     ]
    },
    {
     "data": {
      "text/plain": [
       "array([[0.17802303],\n",
       "       [0.09908945]])"
      ]
     },
     "execution_count": 132,
     "metadata": {},
     "output_type": "execute_result"
    }
   ],
   "source": [
    "entradas=np.array([[0,0],[0,1],[1,0],[1,1]])\n",
    "salidas=np.array([[0],[0],[0],[1]])\n",
    "\n",
    "periodo=100\n",
    "EpochNecesarios,ErroresEpoch=entrenar(entradas,salidas,periodo,True)\n",
    "pesos\n"
   ]
  },
  {
   "cell_type": "code",
   "execution_count": 133,
   "metadata": {},
   "outputs": [
    {
     "data": {
      "text/html": [
       "<div>\n",
       "<style scoped>\n",
       "    .dataframe tbody tr th:only-of-type {\n",
       "        vertical-align: middle;\n",
       "    }\n",
       "\n",
       "    .dataframe tbody tr th {\n",
       "        vertical-align: top;\n",
       "    }\n",
       "\n",
       "    .dataframe thead th {\n",
       "        text-align: right;\n",
       "    }\n",
       "</style>\n",
       "<table border=\"1\" class=\"dataframe\">\n",
       "  <thead>\n",
       "    <tr style=\"text-align: right;\">\n",
       "      <th></th>\n",
       "      <th></th>\n",
       "      <th>Pesos iniciales</th>\n",
       "      <th>Desired Output Yr</th>\n",
       "      <th>Actual output Yd</th>\n",
       "      <th>Error</th>\n",
       "      <th>Pesos finales</th>\n",
       "    </tr>\n",
       "    <tr>\n",
       "      <th>Epoch</th>\n",
       "      <th>Entradas</th>\n",
       "      <th></th>\n",
       "      <th></th>\n",
       "      <th></th>\n",
       "      <th></th>\n",
       "      <th></th>\n",
       "    </tr>\n",
       "  </thead>\n",
       "  <tbody>\n",
       "    <tr>\n",
       "      <th rowspan=\"4\" valign=\"top\">1</th>\n",
       "      <th>[0 0]</th>\n",
       "      <td>[[0.978], [0.0991]]</td>\n",
       "      <td>0</td>\n",
       "      <td>0</td>\n",
       "      <td>0</td>\n",
       "      <td>[[0.978], [0.0991]]</td>\n",
       "    </tr>\n",
       "    <tr>\n",
       "      <th>[0 1]</th>\n",
       "      <td>[[0.978], [0.0991]]</td>\n",
       "      <td>0</td>\n",
       "      <td>0</td>\n",
       "      <td>0</td>\n",
       "      <td>[[0.978], [0.0991]]</td>\n",
       "    </tr>\n",
       "    <tr>\n",
       "      <th>[1 0]</th>\n",
       "      <td>[[0.978], [0.0991]]</td>\n",
       "      <td>0</td>\n",
       "      <td>1</td>\n",
       "      <td>-1</td>\n",
       "      <td>[[0.878], [0.0991]]</td>\n",
       "    </tr>\n",
       "    <tr>\n",
       "      <th>[1 1]</th>\n",
       "      <td>[[0.878], [0.0991]]</td>\n",
       "      <td>1</td>\n",
       "      <td>1</td>\n",
       "      <td>0</td>\n",
       "      <td>[[0.878], [0.0991]]</td>\n",
       "    </tr>\n",
       "    <tr>\n",
       "      <th rowspan=\"4\" valign=\"top\">2</th>\n",
       "      <th>[0 0]</th>\n",
       "      <td>[[0.878], [0.0991]]</td>\n",
       "      <td>0</td>\n",
       "      <td>0</td>\n",
       "      <td>0</td>\n",
       "      <td>[[0.878], [0.0991]]</td>\n",
       "    </tr>\n",
       "    <tr>\n",
       "      <th>[0 1]</th>\n",
       "      <td>[[0.878], [0.0991]]</td>\n",
       "      <td>0</td>\n",
       "      <td>0</td>\n",
       "      <td>0</td>\n",
       "      <td>[[0.878], [0.0991]]</td>\n",
       "    </tr>\n",
       "    <tr>\n",
       "      <th>[1 0]</th>\n",
       "      <td>[[0.878], [0.0991]]</td>\n",
       "      <td>0</td>\n",
       "      <td>1</td>\n",
       "      <td>-1</td>\n",
       "      <td>[[0.778], [0.0991]]</td>\n",
       "    </tr>\n",
       "    <tr>\n",
       "      <th>[1 1]</th>\n",
       "      <td>[[0.778], [0.0991]]</td>\n",
       "      <td>1</td>\n",
       "      <td>1</td>\n",
       "      <td>0</td>\n",
       "      <td>[[0.778], [0.0991]]</td>\n",
       "    </tr>\n",
       "    <tr>\n",
       "      <th rowspan=\"4\" valign=\"top\">3</th>\n",
       "      <th>[0 0]</th>\n",
       "      <td>[[0.778], [0.0991]]</td>\n",
       "      <td>0</td>\n",
       "      <td>0</td>\n",
       "      <td>0</td>\n",
       "      <td>[[0.778], [0.0991]]</td>\n",
       "    </tr>\n",
       "    <tr>\n",
       "      <th>[0 1]</th>\n",
       "      <td>[[0.778], [0.0991]]</td>\n",
       "      <td>0</td>\n",
       "      <td>0</td>\n",
       "      <td>0</td>\n",
       "      <td>[[0.778], [0.0991]]</td>\n",
       "    </tr>\n",
       "    <tr>\n",
       "      <th>[1 0]</th>\n",
       "      <td>[[0.778], [0.0991]]</td>\n",
       "      <td>0</td>\n",
       "      <td>1</td>\n",
       "      <td>-1</td>\n",
       "      <td>[[0.678], [0.0991]]</td>\n",
       "    </tr>\n",
       "    <tr>\n",
       "      <th>[1 1]</th>\n",
       "      <td>[[0.678], [0.0991]]</td>\n",
       "      <td>1</td>\n",
       "      <td>1</td>\n",
       "      <td>0</td>\n",
       "      <td>[[0.678], [0.0991]]</td>\n",
       "    </tr>\n",
       "    <tr>\n",
       "      <th rowspan=\"4\" valign=\"top\">4</th>\n",
       "      <th>[0 0]</th>\n",
       "      <td>[[0.678], [0.0991]]</td>\n",
       "      <td>0</td>\n",
       "      <td>0</td>\n",
       "      <td>0</td>\n",
       "      <td>[[0.678], [0.0991]]</td>\n",
       "    </tr>\n",
       "    <tr>\n",
       "      <th>[0 1]</th>\n",
       "      <td>[[0.678], [0.0991]]</td>\n",
       "      <td>0</td>\n",
       "      <td>0</td>\n",
       "      <td>0</td>\n",
       "      <td>[[0.678], [0.0991]]</td>\n",
       "    </tr>\n",
       "    <tr>\n",
       "      <th>[1 0]</th>\n",
       "      <td>[[0.678], [0.0991]]</td>\n",
       "      <td>0</td>\n",
       "      <td>1</td>\n",
       "      <td>-1</td>\n",
       "      <td>[[0.578], [0.0991]]</td>\n",
       "    </tr>\n",
       "    <tr>\n",
       "      <th>[1 1]</th>\n",
       "      <td>[[0.578], [0.0991]]</td>\n",
       "      <td>1</td>\n",
       "      <td>1</td>\n",
       "      <td>0</td>\n",
       "      <td>[[0.578], [0.0991]]</td>\n",
       "    </tr>\n",
       "    <tr>\n",
       "      <th rowspan=\"4\" valign=\"top\">5</th>\n",
       "      <th>[0 0]</th>\n",
       "      <td>[[0.578], [0.0991]]</td>\n",
       "      <td>0</td>\n",
       "      <td>0</td>\n",
       "      <td>0</td>\n",
       "      <td>[[0.578], [0.0991]]</td>\n",
       "    </tr>\n",
       "    <tr>\n",
       "      <th>[0 1]</th>\n",
       "      <td>[[0.578], [0.0991]]</td>\n",
       "      <td>0</td>\n",
       "      <td>0</td>\n",
       "      <td>0</td>\n",
       "      <td>[[0.578], [0.0991]]</td>\n",
       "    </tr>\n",
       "    <tr>\n",
       "      <th>[1 0]</th>\n",
       "      <td>[[0.578], [0.0991]]</td>\n",
       "      <td>0</td>\n",
       "      <td>1</td>\n",
       "      <td>-1</td>\n",
       "      <td>[[0.478], [0.0991]]</td>\n",
       "    </tr>\n",
       "    <tr>\n",
       "      <th>[1 1]</th>\n",
       "      <td>[[0.478], [0.0991]]</td>\n",
       "      <td>1</td>\n",
       "      <td>1</td>\n",
       "      <td>0</td>\n",
       "      <td>[[0.478], [0.0991]]</td>\n",
       "    </tr>\n",
       "    <tr>\n",
       "      <th rowspan=\"4\" valign=\"top\">6</th>\n",
       "      <th>[0 0]</th>\n",
       "      <td>[[0.478], [0.0991]]</td>\n",
       "      <td>0</td>\n",
       "      <td>0</td>\n",
       "      <td>0</td>\n",
       "      <td>[[0.478], [0.0991]]</td>\n",
       "    </tr>\n",
       "    <tr>\n",
       "      <th>[0 1]</th>\n",
       "      <td>[[0.478], [0.0991]]</td>\n",
       "      <td>0</td>\n",
       "      <td>0</td>\n",
       "      <td>0</td>\n",
       "      <td>[[0.478], [0.0991]]</td>\n",
       "    </tr>\n",
       "    <tr>\n",
       "      <th>[1 0]</th>\n",
       "      <td>[[0.478], [0.0991]]</td>\n",
       "      <td>0</td>\n",
       "      <td>1</td>\n",
       "      <td>-1</td>\n",
       "      <td>[[0.378], [0.0991]]</td>\n",
       "    </tr>\n",
       "    <tr>\n",
       "      <th>[1 1]</th>\n",
       "      <td>[[0.378], [0.0991]]</td>\n",
       "      <td>1</td>\n",
       "      <td>1</td>\n",
       "      <td>0</td>\n",
       "      <td>[[0.378], [0.0991]]</td>\n",
       "    </tr>\n",
       "    <tr>\n",
       "      <th rowspan=\"4\" valign=\"top\">7</th>\n",
       "      <th>[0 0]</th>\n",
       "      <td>[[0.378], [0.0991]]</td>\n",
       "      <td>0</td>\n",
       "      <td>0</td>\n",
       "      <td>0</td>\n",
       "      <td>[[0.378], [0.0991]]</td>\n",
       "    </tr>\n",
       "    <tr>\n",
       "      <th>[0 1]</th>\n",
       "      <td>[[0.378], [0.0991]]</td>\n",
       "      <td>0</td>\n",
       "      <td>0</td>\n",
       "      <td>0</td>\n",
       "      <td>[[0.378], [0.0991]]</td>\n",
       "    </tr>\n",
       "    <tr>\n",
       "      <th>[1 0]</th>\n",
       "      <td>[[0.378], [0.0991]]</td>\n",
       "      <td>0</td>\n",
       "      <td>1</td>\n",
       "      <td>-1</td>\n",
       "      <td>[[0.278], [0.0991]]</td>\n",
       "    </tr>\n",
       "    <tr>\n",
       "      <th>[1 1]</th>\n",
       "      <td>[[0.278], [0.0991]]</td>\n",
       "      <td>1</td>\n",
       "      <td>1</td>\n",
       "      <td>0</td>\n",
       "      <td>[[0.278], [0.0991]]</td>\n",
       "    </tr>\n",
       "    <tr>\n",
       "      <th rowspan=\"4\" valign=\"top\">8</th>\n",
       "      <th>[0 0]</th>\n",
       "      <td>[[0.278], [0.0991]]</td>\n",
       "      <td>0</td>\n",
       "      <td>0</td>\n",
       "      <td>0</td>\n",
       "      <td>[[0.278], [0.0991]]</td>\n",
       "    </tr>\n",
       "    <tr>\n",
       "      <th>[0 1]</th>\n",
       "      <td>[[0.278], [0.0991]]</td>\n",
       "      <td>0</td>\n",
       "      <td>0</td>\n",
       "      <td>0</td>\n",
       "      <td>[[0.278], [0.0991]]</td>\n",
       "    </tr>\n",
       "    <tr>\n",
       "      <th>[1 0]</th>\n",
       "      <td>[[0.278], [0.0991]]</td>\n",
       "      <td>0</td>\n",
       "      <td>1</td>\n",
       "      <td>-1</td>\n",
       "      <td>[[0.178], [0.0991]]</td>\n",
       "    </tr>\n",
       "    <tr>\n",
       "      <th>[1 1]</th>\n",
       "      <td>[[0.178], [0.0991]]</td>\n",
       "      <td>1</td>\n",
       "      <td>1</td>\n",
       "      <td>0</td>\n",
       "      <td>[[0.178], [0.0991]]</td>\n",
       "    </tr>\n",
       "    <tr>\n",
       "      <th rowspan=\"4\" valign=\"top\">9</th>\n",
       "      <th>[0 0]</th>\n",
       "      <td>[[0.178], [0.0991]]</td>\n",
       "      <td>0</td>\n",
       "      <td>0</td>\n",
       "      <td>0</td>\n",
       "      <td>[[0.178], [0.0991]]</td>\n",
       "    </tr>\n",
       "    <tr>\n",
       "      <th>[0 1]</th>\n",
       "      <td>[[0.178], [0.0991]]</td>\n",
       "      <td>0</td>\n",
       "      <td>0</td>\n",
       "      <td>0</td>\n",
       "      <td>[[0.178], [0.0991]]</td>\n",
       "    </tr>\n",
       "    <tr>\n",
       "      <th>[1 0]</th>\n",
       "      <td>[[0.178], [0.0991]]</td>\n",
       "      <td>0</td>\n",
       "      <td>0</td>\n",
       "      <td>0</td>\n",
       "      <td>[[0.178], [0.0991]]</td>\n",
       "    </tr>\n",
       "    <tr>\n",
       "      <th>[1 1]</th>\n",
       "      <td>[[0.178], [0.0991]]</td>\n",
       "      <td>1</td>\n",
       "      <td>1</td>\n",
       "      <td>0</td>\n",
       "      <td>[[0.178], [0.0991]]</td>\n",
       "    </tr>\n",
       "  </tbody>\n",
       "</table>\n",
       "</div>"
      ],
      "text/plain": [
       "                    Pesos iniciales Desired Output Yr Actual output Yd Error  \\\n",
       "Epoch Entradas                                                                 \n",
       "1     [0 0]     [[0.978], [0.0991]]                 0                0     0   \n",
       "      [0 1]     [[0.978], [0.0991]]                 0                0     0   \n",
       "      [1 0]     [[0.978], [0.0991]]                 0                1    -1   \n",
       "      [1 1]     [[0.878], [0.0991]]                 1                1     0   \n",
       "2     [0 0]     [[0.878], [0.0991]]                 0                0     0   \n",
       "      [0 1]     [[0.878], [0.0991]]                 0                0     0   \n",
       "      [1 0]     [[0.878], [0.0991]]                 0                1    -1   \n",
       "      [1 1]     [[0.778], [0.0991]]                 1                1     0   \n",
       "3     [0 0]     [[0.778], [0.0991]]                 0                0     0   \n",
       "      [0 1]     [[0.778], [0.0991]]                 0                0     0   \n",
       "      [1 0]     [[0.778], [0.0991]]                 0                1    -1   \n",
       "      [1 1]     [[0.678], [0.0991]]                 1                1     0   \n",
       "4     [0 0]     [[0.678], [0.0991]]                 0                0     0   \n",
       "      [0 1]     [[0.678], [0.0991]]                 0                0     0   \n",
       "      [1 0]     [[0.678], [0.0991]]                 0                1    -1   \n",
       "      [1 1]     [[0.578], [0.0991]]                 1                1     0   \n",
       "5     [0 0]     [[0.578], [0.0991]]                 0                0     0   \n",
       "      [0 1]     [[0.578], [0.0991]]                 0                0     0   \n",
       "      [1 0]     [[0.578], [0.0991]]                 0                1    -1   \n",
       "      [1 1]     [[0.478], [0.0991]]                 1                1     0   \n",
       "6     [0 0]     [[0.478], [0.0991]]                 0                0     0   \n",
       "      [0 1]     [[0.478], [0.0991]]                 0                0     0   \n",
       "      [1 0]     [[0.478], [0.0991]]                 0                1    -1   \n",
       "      [1 1]     [[0.378], [0.0991]]                 1                1     0   \n",
       "7     [0 0]     [[0.378], [0.0991]]                 0                0     0   \n",
       "      [0 1]     [[0.378], [0.0991]]                 0                0     0   \n",
       "      [1 0]     [[0.378], [0.0991]]                 0                1    -1   \n",
       "      [1 1]     [[0.278], [0.0991]]                 1                1     0   \n",
       "8     [0 0]     [[0.278], [0.0991]]                 0                0     0   \n",
       "      [0 1]     [[0.278], [0.0991]]                 0                0     0   \n",
       "      [1 0]     [[0.278], [0.0991]]                 0                1    -1   \n",
       "      [1 1]     [[0.178], [0.0991]]                 1                1     0   \n",
       "9     [0 0]     [[0.178], [0.0991]]                 0                0     0   \n",
       "      [0 1]     [[0.178], [0.0991]]                 0                0     0   \n",
       "      [1 0]     [[0.178], [0.0991]]                 0                0     0   \n",
       "      [1 1]     [[0.178], [0.0991]]                 1                1     0   \n",
       "\n",
       "                      Pesos finales  \n",
       "Epoch Entradas                       \n",
       "1     [0 0]     [[0.978], [0.0991]]  \n",
       "      [0 1]     [[0.978], [0.0991]]  \n",
       "      [1 0]     [[0.878], [0.0991]]  \n",
       "      [1 1]     [[0.878], [0.0991]]  \n",
       "2     [0 0]     [[0.878], [0.0991]]  \n",
       "      [0 1]     [[0.878], [0.0991]]  \n",
       "      [1 0]     [[0.778], [0.0991]]  \n",
       "      [1 1]     [[0.778], [0.0991]]  \n",
       "3     [0 0]     [[0.778], [0.0991]]  \n",
       "      [0 1]     [[0.778], [0.0991]]  \n",
       "      [1 0]     [[0.678], [0.0991]]  \n",
       "      [1 1]     [[0.678], [0.0991]]  \n",
       "4     [0 0]     [[0.678], [0.0991]]  \n",
       "      [0 1]     [[0.678], [0.0991]]  \n",
       "      [1 0]     [[0.578], [0.0991]]  \n",
       "      [1 1]     [[0.578], [0.0991]]  \n",
       "5     [0 0]     [[0.578], [0.0991]]  \n",
       "      [0 1]     [[0.578], [0.0991]]  \n",
       "      [1 0]     [[0.478], [0.0991]]  \n",
       "      [1 1]     [[0.478], [0.0991]]  \n",
       "6     [0 0]     [[0.478], [0.0991]]  \n",
       "      [0 1]     [[0.478], [0.0991]]  \n",
       "      [1 0]     [[0.378], [0.0991]]  \n",
       "      [1 1]     [[0.378], [0.0991]]  \n",
       "7     [0 0]     [[0.378], [0.0991]]  \n",
       "      [0 1]     [[0.378], [0.0991]]  \n",
       "      [1 0]     [[0.278], [0.0991]]  \n",
       "      [1 1]     [[0.278], [0.0991]]  \n",
       "8     [0 0]     [[0.278], [0.0991]]  \n",
       "      [0 1]     [[0.278], [0.0991]]  \n",
       "      [1 0]     [[0.178], [0.0991]]  \n",
       "      [1 1]     [[0.178], [0.0991]]  \n",
       "9     [0 0]     [[0.178], [0.0991]]  \n",
       "      [0 1]     [[0.178], [0.0991]]  \n",
       "      [1 0]     [[0.178], [0.0991]]  \n",
       "      [1 1]     [[0.178], [0.0991]]  "
      ]
     },
     "execution_count": 133,
     "metadata": {},
     "output_type": "execute_result"
    }
   ],
   "source": [
    "df2=df.set_index([\"Epoch\",\"Entradas\"])\n",
    "df2.sort_index(inplace=True)\n",
    "df2"
   ]
  },
  {
   "cell_type": "code",
   "execution_count": 134,
   "metadata": {},
   "outputs": [
    {
     "data": {
      "image/png": "[encoded data removed]",
      "text/plain": [
       "<Figure size 432x288 with 1 Axes>"
      ]
     },
     "metadata": {
      "needs_background": "light"
     },
     "output_type": "display_data"
    }
   ],
   "source": [
    "plt.plot(np.arange(EpochNecesarios+1)+1,ErroresEpoch)\n",
    "axes = plt.gca()\n",
    "axes.set_ylim([0,1])\n",
    "plt.show()"
   ]
  },
  {
   "cell_type": "code",
   "execution_count": 135,
   "metadata": {},
   "outputs": [
    {
     "name": "stdout",
     "output_type": "stream",
     "text": [
      "0\n",
      "0\n",
      "0\n",
      "1\n"
     ]
    }
   ],
   "source": [
    "clasificacion(np.array([0,0]))\n",
    "clasificacion(np.array([0,1]))\n",
    "clasificacion(np.array([1,0]))\n",
    "clasificacion(np.array([1,1]))"
   ]
  },
  {
   "cell_type": "markdown",
   "metadata": {},
   "source": [
    "### Funcion XOR"
   ]
  },
  {
   "cell_type": "code",
   "execution_count": 136,
   "metadata": {},
   "outputs": [
    {
     "data": {
      "image/png": "[encoded data removed]",
      "text/plain": [
       "<Figure size 432x288 with 1 Axes>"
      ]
     },
     "metadata": {
      "needs_background": "light"
     },
     "output_type": "display_data"
    },
    {
     "name": "stdout",
     "output_type": "stream",
     "text": [
      "Ecuación del hiperplano: -8.86*x + 2.02\n"
     ]
    },
    {
     "data": {
      "image/png": "[encoded data removed]",
      "text/plain": [
       "<Figure size 432x288 with 1 Axes>"
      ]
     },
     "metadata": {
      "needs_background": "light"
     },
     "output_type": "display_data"
    },
    {
     "name": "stdout",
     "output_type": "stream",
     "text": [
      "Ecuación del hiperplano: -7.85*x + 2.02\n"
     ]
    },
    {
     "data": {
      "image/png": "[encoded data removed]",
      "text/plain": [
       "<Figure size 432x288 with 1 Axes>"
      ]
     },
     "metadata": {
      "needs_background": "light"
     },
     "output_type": "display_data"
    },
    {
     "name": "stdout",
     "output_type": "stream",
     "text": [
      "Ecuación del hiperplano: -6.84*x + 2.02\n"
     ]
    },
    {
     "data": {
      "image/png": "[encoded data removed]",
      "text/plain": [
       "<Figure size 432x288 with 1 Axes>"
      ]
     },
     "metadata": {
      "needs_background": "light"
     },
     "output_type": "display_data"
    },
    {
     "name": "stdout",
     "output_type": "stream",
     "text": [
      "Ecuación del hiperplano: -5.83*x + 2.02\n"
     ]
    },
    {
     "data": {
      "image/png": "[encoded data removed]",
      "text/plain": [
       "<Figure size 432x288 with 1 Axes>"
      ]
     },
     "metadata": {
      "needs_background": "light"
     },
     "output_type": "display_data"
    },
    {
     "name": "stdout",
     "output_type": "stream",
     "text": [
      "Ecuación del hiperplano: -4.82*x + 2.02\n"
     ]
    },
    {
     "data": {
      "image/png": "[encoded data removed]",
      "text/plain": [
       "<Figure size 432x288 with 1 Axes>"
      ]
     },
     "metadata": {
      "needs_background": "light"
     },
     "output_type": "display_data"
    },
    {
     "name": "stdout",
     "output_type": "stream",
     "text": [
      "Ecuación del hiperplano: -3.81*x + 2.02\n"
     ]
    },
    {
     "data": {
      "image/png": "[encoded data removed]",
      "text/plain": [
       "<Figure size 432x288 with 1 Axes>"
      ]
     },
     "metadata": {
      "needs_background": "light"
     },
     "output_type": "display_data"
    },
    {
     "name": "stdout",
     "output_type": "stream",
     "text": [
      "Ecuación del hiperplano: -2.81*x + 2.02\n"
     ]
    },
    {
     "data": {
      "image/png": "[encoded data removed]",
      "text/plain": [
       "<Figure size 432x288 with 1 Axes>"
      ]
     },
     "metadata": {
      "needs_background": "light"
     },
     "output_type": "display_data"
    },
    {
     "name": "stdout",
     "output_type": "stream",
     "text": [
      "Ecuación del hiperplano: -1.80*x + 2.02\n"
     ]
    },
    {
     "data": {
      "image/png": "[encoded data removed]",
      "text/plain": [
       "<Figure size 432x288 with 1 Axes>"
      ]
     },
     "metadata": {
      "needs_background": "light"
     },
     "output_type": "display_data"
    },
    {
     "name": "stdout",
     "output_type": "stream",
     "text": [
      "Ecuación del hiperplano: -1.80*x + 2.02\n"
     ]
    },
    {
     "data": {
      "image/png": "[encoded data removed]",
      "text/plain": [
       "<Figure size 432x288 with 1 Axes>"
      ]
     },
     "metadata": {
      "needs_background": "light"
     },
     "output_type": "display_data"
    },
    {
     "name": "stdout",
     "output_type": "stream",
     "text": [
      "Ecuación del hiperplano: -1.80*x + 2.02\n"
     ]
    },
    {
     "data": {
      "text/plain": [
       "array([[0.17802303],\n",
       "       [0.09908945]])"
      ]
     },
     "execution_count": 136,
     "metadata": {},
     "output_type": "execute_result"
    }
   ],
   "source": [
    "pesos=Inipesos\n",
    "df.drop(df.index, inplace=True)\n",
    "entradas=np.array([[0,0],[0,1],[1,0],[1,1]])\n",
    "salidas=np.array([[0],[1],[1],[0]])\n",
    "\n",
    "periodo=10\n",
    "EpochNecesariosXOR,ErroresEpochXOR=entrenar(entradas,salidas,periodo,False)\n",
    "pesos"
   ]
  },
  {
   "cell_type": "code",
   "execution_count": 137,
   "metadata": {},
   "outputs": [
    {
     "data": {
      "text/html": [
       "<div>\n",
       "<style scoped>\n",
       "    .dataframe tbody tr th:only-of-type {\n",
       "        vertical-align: middle;\n",
       "    }\n",
       "\n",
       "    .dataframe tbody tr th {\n",
       "        vertical-align: top;\n",
       "    }\n",
       "\n",
       "    .dataframe thead th {\n",
       "        text-align: right;\n",
       "    }\n",
       "</style>\n",
       "<table border=\"1\" class=\"dataframe\">\n",
       "  <thead>\n",
       "    <tr style=\"text-align: right;\">\n",
       "      <th></th>\n",
       "      <th></th>\n",
       "      <th>Pesos iniciales</th>\n",
       "      <th>Desired Output Yr</th>\n",
       "      <th>Actual output Yd</th>\n",
       "      <th>Error</th>\n",
       "      <th>Pesos finales</th>\n",
       "    </tr>\n",
       "    <tr>\n",
       "      <th>Epoch</th>\n",
       "      <th>Entradas</th>\n",
       "      <th></th>\n",
       "      <th></th>\n",
       "      <th></th>\n",
       "      <th></th>\n",
       "      <th></th>\n",
       "    </tr>\n",
       "  </thead>\n",
       "  <tbody>\n",
       "    <tr>\n",
       "      <th rowspan=\"4\" valign=\"top\">1</th>\n",
       "      <th>[0 0]</th>\n",
       "      <td>[[0.978], [0.0991]]</td>\n",
       "      <td>0</td>\n",
       "      <td>0</td>\n",
       "      <td>0</td>\n",
       "      <td>[[0.978], [0.0991]]</td>\n",
       "    </tr>\n",
       "    <tr>\n",
       "      <th>[0 1]</th>\n",
       "      <td>[[0.978], [0.0991]]</td>\n",
       "      <td>1</td>\n",
       "      <td>0</td>\n",
       "      <td>1</td>\n",
       "      <td>[[0.978], [0.1991]]</td>\n",
       "    </tr>\n",
       "    <tr>\n",
       "      <th>[1 0]</th>\n",
       "      <td>[[0.978], [0.1991]]</td>\n",
       "      <td>1</td>\n",
       "      <td>1</td>\n",
       "      <td>0</td>\n",
       "      <td>[[0.978], [0.1991]]</td>\n",
       "    </tr>\n",
       "    <tr>\n",
       "      <th>[1 1]</th>\n",
       "      <td>[[0.978], [0.1991]]</td>\n",
       "      <td>0</td>\n",
       "      <td>1</td>\n",
       "      <td>-1</td>\n",
       "      <td>[[0.878], [0.0991]]</td>\n",
       "    </tr>\n",
       "    <tr>\n",
       "      <th rowspan=\"4\" valign=\"top\">2</th>\n",
       "      <th>[0 0]</th>\n",
       "      <td>[[0.878], [0.0991]]</td>\n",
       "      <td>0</td>\n",
       "      <td>0</td>\n",
       "      <td>0</td>\n",
       "      <td>[[0.878], [0.0991]]</td>\n",
       "    </tr>\n",
       "    <tr>\n",
       "      <th>[0 1]</th>\n",
       "      <td>[[0.878], [0.0991]]</td>\n",
       "      <td>1</td>\n",
       "      <td>0</td>\n",
       "      <td>1</td>\n",
       "      <td>[[0.878], [0.1991]]</td>\n",
       "    </tr>\n",
       "    <tr>\n",
       "      <th>[1 0]</th>\n",
       "      <td>[[0.878], [0.1991]]</td>\n",
       "      <td>1</td>\n",
       "      <td>1</td>\n",
       "      <td>0</td>\n",
       "      <td>[[0.878], [0.1991]]</td>\n",
       "    </tr>\n",
       "    <tr>\n",
       "      <th>[1 1]</th>\n",
       "      <td>[[0.878], [0.1991]]</td>\n",
       "      <td>0</td>\n",
       "      <td>1</td>\n",
       "      <td>-1</td>\n",
       "      <td>[[0.778], [0.0991]]</td>\n",
       "    </tr>\n",
       "    <tr>\n",
       "      <th rowspan=\"4\" valign=\"top\">3</th>\n",
       "      <th>[0 0]</th>\n",
       "      <td>[[0.778], [0.0991]]</td>\n",
       "      <td>0</td>\n",
       "      <td>0</td>\n",
       "      <td>0</td>\n",
       "      <td>[[0.778], [0.0991]]</td>\n",
       "    </tr>\n",
       "    <tr>\n",
       "      <th>[0 1]</th>\n",
       "      <td>[[0.778], [0.0991]]</td>\n",
       "      <td>1</td>\n",
       "      <td>0</td>\n",
       "      <td>1</td>\n",
       "      <td>[[0.778], [0.1991]]</td>\n",
       "    </tr>\n",
       "    <tr>\n",
       "      <th>[1 0]</th>\n",
       "      <td>[[0.778], [0.1991]]</td>\n",
       "      <td>1</td>\n",
       "      <td>1</td>\n",
       "      <td>0</td>\n",
       "      <td>[[0.778], [0.1991]]</td>\n",
       "    </tr>\n",
       "    <tr>\n",
       "      <th>[1 1]</th>\n",
       "      <td>[[0.778], [0.1991]]</td>\n",
       "      <td>0</td>\n",
       "      <td>1</td>\n",
       "      <td>-1</td>\n",
       "      <td>[[0.678], [0.0991]]</td>\n",
       "    </tr>\n",
       "    <tr>\n",
       "      <th rowspan=\"4\" valign=\"top\">4</th>\n",
       "      <th>[0 0]</th>\n",
       "      <td>[[0.678], [0.0991]]</td>\n",
       "      <td>0</td>\n",
       "      <td>0</td>\n",
       "      <td>0</td>\n",
       "      <td>[[0.678], [0.0991]]</td>\n",
       "    </tr>\n",
       "    <tr>\n",
       "      <th>[0 1]</th>\n",
       "      <td>[[0.678], [0.0991]]</td>\n",
       "      <td>1</td>\n",
       "      <td>0</td>\n",
       "      <td>1</td>\n",
       "      <td>[[0.678], [0.1991]]</td>\n",
       "    </tr>\n",
       "    <tr>\n",
       "      <th>[1 0]</th>\n",
       "      <td>[[0.678], [0.1991]]</td>\n",
       "      <td>1</td>\n",
       "      <td>1</td>\n",
       "      <td>0</td>\n",
       "      <td>[[0.678], [0.1991]]</td>\n",
       "    </tr>\n",
       "    <tr>\n",
       "      <th>[1 1]</th>\n",
       "      <td>[[0.678], [0.1991]]</td>\n",
       "      <td>0</td>\n",
       "      <td>1</td>\n",
       "      <td>-1</td>\n",
       "      <td>[[0.578], [0.0991]]</td>\n",
       "    </tr>\n",
       "    <tr>\n",
       "      <th rowspan=\"4\" valign=\"top\">5</th>\n",
       "      <th>[0 0]</th>\n",
       "      <td>[[0.578], [0.0991]]</td>\n",
       "      <td>0</td>\n",
       "      <td>0</td>\n",
       "      <td>0</td>\n",
       "      <td>[[0.578], [0.0991]]</td>\n",
       "    </tr>\n",
       "    <tr>\n",
       "      <th>[0 1]</th>\n",
       "      <td>[[0.578], [0.0991]]</td>\n",
       "      <td>1</td>\n",
       "      <td>0</td>\n",
       "      <td>1</td>\n",
       "      <td>[[0.578], [0.1991]]</td>\n",
       "    </tr>\n",
       "    <tr>\n",
       "      <th>[1 0]</th>\n",
       "      <td>[[0.578], [0.1991]]</td>\n",
       "      <td>1</td>\n",
       "      <td>1</td>\n",
       "      <td>0</td>\n",
       "      <td>[[0.578], [0.1991]]</td>\n",
       "    </tr>\n",
       "    <tr>\n",
       "      <th>[1 1]</th>\n",
       "      <td>[[0.578], [0.1991]]</td>\n",
       "      <td>0</td>\n",
       "      <td>1</td>\n",
       "      <td>-1</td>\n",
       "      <td>[[0.478], [0.0991]]</td>\n",
       "    </tr>\n",
       "    <tr>\n",
       "      <th rowspan=\"4\" valign=\"top\">6</th>\n",
       "      <th>[0 0]</th>\n",
       "      <td>[[0.478], [0.0991]]</td>\n",
       "      <td>0</td>\n",
       "      <td>0</td>\n",
       "      <td>0</td>\n",
       "      <td>[[0.478], [0.0991]]</td>\n",
       "    </tr>\n",
       "    <tr>\n",
       "      <th>[0 1]</th>\n",
       "      <td>[[0.478], [0.0991]]</td>\n",
       "      <td>1</td>\n",
       "      <td>0</td>\n",
       "      <td>1</td>\n",
       "      <td>[[0.478], [0.1991]]</td>\n",
       "    </tr>\n",
       "    <tr>\n",
       "      <th>[1 0]</th>\n",
       "      <td>[[0.478], [0.1991]]</td>\n",
       "      <td>1</td>\n",
       "      <td>1</td>\n",
       "      <td>0</td>\n",
       "      <td>[[0.478], [0.1991]]</td>\n",
       "    </tr>\n",
       "    <tr>\n",
       "      <th>[1 1]</th>\n",
       "      <td>[[0.478], [0.1991]]</td>\n",
       "      <td>0</td>\n",
       "      <td>1</td>\n",
       "      <td>-1</td>\n",
       "      <td>[[0.378], [0.0991]]</td>\n",
       "    </tr>\n",
       "    <tr>\n",
       "      <th rowspan=\"4\" valign=\"top\">7</th>\n",
       "      <th>[0 0]</th>\n",
       "      <td>[[0.378], [0.0991]]</td>\n",
       "      <td>0</td>\n",
       "      <td>0</td>\n",
       "      <td>0</td>\n",
       "      <td>[[0.378], [0.0991]]</td>\n",
       "    </tr>\n",
       "    <tr>\n",
       "      <th>[0 1]</th>\n",
       "      <td>[[0.378], [0.0991]]</td>\n",
       "      <td>1</td>\n",
       "      <td>0</td>\n",
       "      <td>1</td>\n",
       "      <td>[[0.378], [0.1991]]</td>\n",
       "    </tr>\n",
       "    <tr>\n",
       "      <th>[1 0]</th>\n",
       "      <td>[[0.378], [0.1991]]</td>\n",
       "      <td>1</td>\n",
       "      <td>1</td>\n",
       "      <td>0</td>\n",
       "      <td>[[0.378], [0.1991]]</td>\n",
       "    </tr>\n",
       "    <tr>\n",
       "      <th>[1 1]</th>\n",
       "      <td>[[0.378], [0.1991]]</td>\n",
       "      <td>0</td>\n",
       "      <td>1</td>\n",
       "      <td>-1</td>\n",
       "      <td>[[0.278], [0.0991]]</td>\n",
       "    </tr>\n",
       "    <tr>\n",
       "      <th rowspan=\"4\" valign=\"top\">8</th>\n",
       "      <th>[0 0]</th>\n",
       "      <td>[[0.278], [0.0991]]</td>\n",
       "      <td>0</td>\n",
       "      <td>0</td>\n",
       "      <td>0</td>\n",
       "      <td>[[0.278], [0.0991]]</td>\n",
       "    </tr>\n",
       "    <tr>\n",
       "      <th>[0 1]</th>\n",
       "      <td>[[0.278], [0.0991]]</td>\n",
       "      <td>1</td>\n",
       "      <td>0</td>\n",
       "      <td>1</td>\n",
       "      <td>[[0.278], [0.1991]]</td>\n",
       "    </tr>\n",
       "    <tr>\n",
       "      <th>[1 0]</th>\n",
       "      <td>[[0.278], [0.1991]]</td>\n",
       "      <td>1</td>\n",
       "      <td>1</td>\n",
       "      <td>0</td>\n",
       "      <td>[[0.278], [0.1991]]</td>\n",
       "    </tr>\n",
       "    <tr>\n",
       "      <th>[1 1]</th>\n",
       "      <td>[[0.278], [0.1991]]</td>\n",
       "      <td>0</td>\n",
       "      <td>1</td>\n",
       "      <td>-1</td>\n",
       "      <td>[[0.178], [0.0991]]</td>\n",
       "    </tr>\n",
       "    <tr>\n",
       "      <th rowspan=\"4\" valign=\"top\">9</th>\n",
       "      <th>[0 0]</th>\n",
       "      <td>[[0.178], [0.0991]]</td>\n",
       "      <td>0</td>\n",
       "      <td>0</td>\n",
       "      <td>0</td>\n",
       "      <td>[[0.178], [0.0991]]</td>\n",
       "    </tr>\n",
       "    <tr>\n",
       "      <th>[0 1]</th>\n",
       "      <td>[[0.178], [0.0991]]</td>\n",
       "      <td>1</td>\n",
       "      <td>0</td>\n",
       "      <td>1</td>\n",
       "      <td>[[0.178], [0.1991]]</td>\n",
       "    </tr>\n",
       "    <tr>\n",
       "      <th>[1 0]</th>\n",
       "      <td>[[0.178], [0.1991]]</td>\n",
       "      <td>1</td>\n",
       "      <td>0</td>\n",
       "      <td>1</td>\n",
       "      <td>[[0.278], [0.1991]]</td>\n",
       "    </tr>\n",
       "    <tr>\n",
       "      <th>[1 1]</th>\n",
       "      <td>[[0.278], [0.1991]]</td>\n",
       "      <td>0</td>\n",
       "      <td>1</td>\n",
       "      <td>-1</td>\n",
       "      <td>[[0.178], [0.0991]]</td>\n",
       "    </tr>\n",
       "    <tr>\n",
       "      <th rowspan=\"4\" valign=\"top\">10</th>\n",
       "      <th>[0 0]</th>\n",
       "      <td>[[0.178], [0.0991]]</td>\n",
       "      <td>0</td>\n",
       "      <td>0</td>\n",
       "      <td>0</td>\n",
       "      <td>[[0.178], [0.0991]]</td>\n",
       "    </tr>\n",
       "    <tr>\n",
       "      <th>[0 1]</th>\n",
       "      <td>[[0.178], [0.0991]]</td>\n",
       "      <td>1</td>\n",
       "      <td>0</td>\n",
       "      <td>1</td>\n",
       "      <td>[[0.178], [0.1991]]</td>\n",
       "    </tr>\n",
       "    <tr>\n",
       "      <th>[1 0]</th>\n",
       "      <td>[[0.178], [0.1991]]</td>\n",
       "      <td>1</td>\n",
       "      <td>0</td>\n",
       "      <td>1</td>\n",
       "      <td>[[0.278], [0.1991]]</td>\n",
       "    </tr>\n",
       "    <tr>\n",
       "      <th>[1 1]</th>\n",
       "      <td>[[0.278], [0.1991]]</td>\n",
       "      <td>0</td>\n",
       "      <td>1</td>\n",
       "      <td>-1</td>\n",
       "      <td>[[0.178], [0.0991]]</td>\n",
       "    </tr>\n",
       "  </tbody>\n",
       "</table>\n",
       "</div>"
      ],
      "text/plain": [
       "                    Pesos iniciales Desired Output Yr Actual output Yd Error  \\\n",
       "Epoch Entradas                                                                 \n",
       "1     [0 0]     [[0.978], [0.0991]]                 0                0     0   \n",
       "      [0 1]     [[0.978], [0.0991]]                 1                0     1   \n",
       "      [1 0]     [[0.978], [0.1991]]                 1                1     0   \n",
       "      [1 1]     [[0.978], [0.1991]]                 0                1    -1   \n",
       "2     [0 0]     [[0.878], [0.0991]]                 0                0     0   \n",
       "      [0 1]     [[0.878], [0.0991]]                 1                0     1   \n",
       "      [1 0]     [[0.878], [0.1991]]                 1                1     0   \n",
       "      [1 1]     [[0.878], [0.1991]]                 0                1    -1   \n",
       "3     [0 0]     [[0.778], [0.0991]]                 0                0     0   \n",
       "      [0 1]     [[0.778], [0.0991]]                 1                0     1   \n",
       "      [1 0]     [[0.778], [0.1991]]                 1                1     0   \n",
       "      [1 1]     [[0.778], [0.1991]]                 0                1    -1   \n",
       "4     [0 0]     [[0.678], [0.0991]]                 0                0     0   \n",
       "      [0 1]     [[0.678], [0.0991]]                 1                0     1   \n",
       "      [1 0]     [[0.678], [0.1991]]                 1                1     0   \n",
       "      [1 1]     [[0.678], [0.1991]]                 0                1    -1   \n",
       "5     [0 0]     [[0.578], [0.0991]]                 0                0     0   \n",
       "      [0 1]     [[0.578], [0.0991]]                 1                0     1   \n",
       "      [1 0]     [[0.578], [0.1991]]                 1                1     0   \n",
       "      [1 1]     [[0.578], [0.1991]]                 0                1    -1   \n",
       "6     [0 0]     [[0.478], [0.0991]]                 0                0     0   \n",
       "      [0 1]     [[0.478], [0.0991]]                 1                0     1   \n",
       "      [1 0]     [[0.478], [0.1991]]                 1                1     0   \n",
       "      [1 1]     [[0.478], [0.1991]]                 0                1    -1   \n",
       "7     [0 0]     [[0.378], [0.0991]]                 0                0     0   \n",
       "      [0 1]     [[0.378], [0.0991]]                 1                0     1   \n",
       "      [1 0]     [[0.378], [0.1991]]                 1                1     0   \n",
       "      [1 1]     [[0.378], [0.1991]]                 0                1    -1   \n",
       "8     [0 0]     [[0.278], [0.0991]]                 0                0     0   \n",
       "      [0 1]     [[0.278], [0.0991]]                 1                0     1   \n",
       "      [1 0]     [[0.278], [0.1991]]                 1                1     0   \n",
       "      [1 1]     [[0.278], [0.1991]]                 0                1    -1   \n",
       "9     [0 0]     [[0.178], [0.0991]]                 0                0     0   \n",
       "      [0 1]     [[0.178], [0.0991]]                 1                0     1   \n",
       "      [1 0]     [[0.178], [0.1991]]                 1                0     1   \n",
       "      [1 1]     [[0.278], [0.1991]]                 0                1    -1   \n",
       "10    [0 0]     [[0.178], [0.0991]]                 0                0     0   \n",
       "      [0 1]     [[0.178], [0.0991]]                 1                0     1   \n",
       "      [1 0]     [[0.178], [0.1991]]                 1                0     1   \n",
       "      [1 1]     [[0.278], [0.1991]]                 0                1    -1   \n",
       "\n",
       "                      Pesos finales  \n",
       "Epoch Entradas                       \n",
       "1     [0 0]     [[0.978], [0.0991]]  \n",
       "      [0 1]     [[0.978], [0.1991]]  \n",
       "      [1 0]     [[0.978], [0.1991]]  \n",
       "      [1 1]     [[0.878], [0.0991]]  \n",
       "2     [0 0]     [[0.878], [0.0991]]  \n",
       "      [0 1]     [[0.878], [0.1991]]  \n",
       "      [1 0]     [[0.878], [0.1991]]  \n",
       "      [1 1]     [[0.778], [0.0991]]  \n",
       "3     [0 0]     [[0.778], [0.0991]]  \n",
       "      [0 1]     [[0.778], [0.1991]]  \n",
       "      [1 0]     [[0.778], [0.1991]]  \n",
       "      [1 1]     [[0.678], [0.0991]]  \n",
       "4     [0 0]     [[0.678], [0.0991]]  \n",
       "      [0 1]     [[0.678], [0.1991]]  \n",
       "      [1 0]     [[0.678], [0.1991]]  \n",
       "      [1 1]     [[0.578], [0.0991]]  \n",
       "5     [0 0]     [[0.578], [0.0991]]  \n",
       "      [0 1]     [[0.578], [0.1991]]  \n",
       "      [1 0]     [[0.578], [0.1991]]  \n",
       "      [1 1]     [[0.478], [0.0991]]  \n",
       "6     [0 0]     [[0.478], [0.0991]]  \n",
       "      [0 1]     [[0.478], [0.1991]]  \n",
       "      [1 0]     [[0.478], [0.1991]]  \n",
       "      [1 1]     [[0.378], [0.0991]]  \n",
       "7     [0 0]     [[0.378], [0.0991]]  \n",
       "      [0 1]     [[0.378], [0.1991]]  \n",
       "      [1 0]     [[0.378], [0.1991]]  \n",
       "      [1 1]     [[0.278], [0.0991]]  \n",
       "8     [0 0]     [[0.278], [0.0991]]  \n",
       "      [0 1]     [[0.278], [0.1991]]  \n",
       "      [1 0]     [[0.278], [0.1991]]  \n",
       "      [1 1]     [[0.178], [0.0991]]  \n",
       "9     [0 0]     [[0.178], [0.0991]]  \n",
       "      [0 1]     [[0.178], [0.1991]]  \n",
       "      [1 0]     [[0.278], [0.1991]]  \n",
       "      [1 1]     [[0.178], [0.0991]]  \n",
       "10    [0 0]     [[0.178], [0.0991]]  \n",
       "      [0 1]     [[0.178], [0.1991]]  \n",
       "      [1 0]     [[0.278], [0.1991]]  \n",
       "      [1 1]     [[0.178], [0.0991]]  "
      ]
     },
     "execution_count": 137,
     "metadata": {},
     "output_type": "execute_result"
    }
   ],
   "source": [
    "df2=df.set_index([\"Epoch\",\"Entradas\"])\n",
    "df2.sort_index(inplace=True)\n",
    "df2"
   ]
  },
  {
   "cell_type": "code",
   "execution_count": 138,
   "metadata": {},
   "outputs": [
    {
     "data": {
      "image/png": "[encoded data removed]",
      "text/plain": [
       "<Figure size 432x288 with 1 Axes>"
      ]
     },
     "metadata": {
      "needs_background": "light"
     },
     "output_type": "display_data"
    }
   ],
   "source": [
    "plt.plot(np.arange(EpochNecesariosXOR+1)+1,ErroresEpochXOR)\n",
    "axes = plt.gca()\n",
    "axes.set_ylim([0,1])\n",
    "plt.show()"
   ]
  },
  {
   "cell_type": "code",
   "execution_count": 139,
   "metadata": {},
   "outputs": [
    {
     "name": "stdout",
     "output_type": "stream",
     "text": [
      "0\n",
      "0\n",
      "0\n",
      "1\n"
     ]
    }
   ],
   "source": [
    "clasificacion(np.array([0,0]))\n",
    "clasificacion(np.array([0,1]))\n",
    "clasificacion(np.array([1,0]))\n",
    "clasificacion(np.array([1,1]))"
   ]
  },
  {
   "cell_type": "code",
   "execution_count": null,
   "metadata": {},
   "outputs": [],
   "source": []
  }
 ],
 "metadata": {
  "kernelspec": {
   "display_name": "Python 3",
   "language": "python",
   "name": "python3"
  },
  "language_info": {
   "codemirror_mode": {
    "name": "ipython",
    "version": 3
   },
   "file_extension": ".py",
   "mimetype": "text/x-python",
   "name": "python",
   "nbconvert_exporter": "python",
   "pygments_lexer": "ipython3",
   "version": "3.8.8"
  }
 },
 "nbformat": 4,
 "nbformat_minor": 4
}
