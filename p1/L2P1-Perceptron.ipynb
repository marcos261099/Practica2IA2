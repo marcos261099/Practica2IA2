{
 "cells": [
  {
   "cell_type": "markdown",
   "metadata": {},
   "source": [
    "# Practica 2.1\n",
    "## Juan Latasa, David Arranz, Jesus tejada y Marcos Rodríguez\n",
    "## Perceptron"
   ]
  },
  {
   "cell_type": "code",
   "execution_count": 17,
   "metadata": {},
   "outputs": [],
   "source": [
    "#declaración de librerías\n",
    "import numpy as np\n",
    "from matplotlib import pyplot as plt\n",
    "import pandas as pd\n",
    "np.random.seed(245) #declaramos una semilla para que nos de los mismo resultados"
   ]
  },
  {
   "cell_type": "markdown",
   "metadata": {},
   "source": [
    "Aqui lo que hace es crear un DataFrame, para posteriormente representar la tabla que se nos pide.\n",
    "\n",
    "Ponemos las columnas correspondientes."
   ]
  },
  {
   "cell_type": "code",
   "execution_count": 18,
   "metadata": {},
   "outputs": [
    {
     "data": {
      "text/html": [
       "<div>\n",
       "<style scoped>\n",
       "    .dataframe tbody tr th:only-of-type {\n",
       "        vertical-align: middle;\n",
       "    }\n",
       "\n",
       "    .dataframe tbody tr th {\n",
       "        vertical-align: top;\n",
       "    }\n",
       "\n",
       "    .dataframe thead th {\n",
       "        text-align: right;\n",
       "    }\n",
       "</style>\n",
       "<table border=\"1\" class=\"dataframe\">\n",
       "  <thead>\n",
       "    <tr style=\"text-align: right;\">\n",
       "      <th></th>\n",
       "      <th>Epoch</th>\n",
       "      <th>Entradas</th>\n",
       "      <th>Pesos iniciales</th>\n",
       "      <th>Desired Output Yr</th>\n",
       "      <th>Actual output Yd</th>\n",
       "      <th>Error</th>\n",
       "      <th>Pesos finales</th>\n",
       "    </tr>\n",
       "  </thead>\n",
       "  <tbody>\n",
       "  </tbody>\n",
       "</table>\n",
       "</div>"
      ],
      "text/plain": [
       "Empty DataFrame\n",
       "Columns: [Epoch, Entradas, Pesos iniciales, Desired Output Yr, Actual output Yd, Error, Pesos finales]\n",
       "Index: []"
      ]
     },
     "execution_count": 18,
     "metadata": {},
     "output_type": "execute_result"
    }
   ],
   "source": [
    "#creamos un dataframe, para posteriormente mostrar la tabla que se nos pide\n",
    "df = pd.DataFrame(columns=['Epoch', 'Entradas',\"Pesos iniciales\",'Desired Output Yr',\"Actual output Yd\",\"Error\",\"Pesos finales\"])\n",
    "df"
   ]
  },
  {
   "cell_type": "code",
   "execution_count": 19,
   "metadata": {},
   "outputs": [],
   "source": [
    "learn_rate=0.1 #declaramoa el learning rate\n",
    "Umbral=1 #declaramos el umbral"
   ]
  },
  {
   "cell_type": "code",
   "execution_count": 20,
   "metadata": {
    "scrolled": true
   },
   "outputs": [
    {
     "data": {
      "text/plain": [
       "array([[ 0.81370773],\n",
       "       [-0.77493999]])"
      ]
     },
     "execution_count": 20,
     "metadata": {},
     "output_type": "execute_result"
    }
   ],
   "source": [
    "pesos=2 * np.random.random((2,1)) - 1 #inicilaizamos los pesos, los cuales van a ir de -1 a 1\n",
    "Inipesos=pesos #guardamos los pesos iniciales\n",
    "pesos"
   ]
  },
  {
   "cell_type": "markdown",
   "metadata": {},
   "source": [
    "### Función de activación"
   ]
  },
  {
   "cell_type": "code",
   "execution_count": 21,
   "metadata": {},
   "outputs": [],
   "source": [
    "def funcionActivacion(S,Umbral):\n",
    "    if S>=Umbral: # si el sumatorio es >= que el umbral devuelve 1, si no 0\n",
    "        return 1\n",
    "    else:\n",
    "        return 0"
   ]
  },
  {
   "cell_type": "markdown",
   "metadata": {},
   "source": [
    "### Representación ecuación general"
   ]
  },
  {
   "cell_type": "code",
   "execution_count": 22,
   "metadata": {},
   "outputs": [],
   "source": [
    "def pintamos(i,Func): #aqui representaremos la ecuacion general tran finalizar cada epoch\n",
    "    if Func: #si es la funcion and ...\n",
    "        plt.plot([0,0,1],[0,1,0],'o', color='blue');\n",
    "        plt.plot([1],[1],'o', color='red');\n",
    "    else: # si es la función xor\n",
    "        plt.plot([0,1],[1,0],'o', color='red');\n",
    "        plt.plot([0,1],[0,1],'o', color='blue');        \n",
    "    pendiente=0\n",
    "    OrdenadaOrigen=0\n",
    "    if pesos[1]!=0: #para no dividir entre 0\n",
    "        pendiente=-(pesos[0]/pesos[1])  #calculamos la pendiente\n",
    "        OrdenadaOrigen=Umbral/pesos[1]  # calculamos la ordenada en el origen\n",
    "    \n",
    "    plt.plot([-2,2],[pendiente*-2 + OrdenadaOrigen,pendiente*2 + OrdenadaOrigen], color='green') #pintamos la recta, de -2 a 2\n",
    "    axes = plt.gca()\n",
    "    axes.set_xlim([-0.1,1.1]) #ponemos el tamaño que tendra, es decir en x, se vera desde el -0.1, al 1.1\n",
    "    axes.set_ylim([-0.1,1.1])\n",
    "    plt.title(\"Epoch: \" +str (i+1))\n",
    "    plt.show()\n",
    "    print(\"Ecuación del hiperplano: {:.2f}*x + {:.2f}\".format(pendiente[0],OrdenadaOrigen[0])) #imprimimos la ecuación"
   ]
  },
  {
   "cell_type": "markdown",
   "metadata": {},
   "source": [
    "### Entrenamiento Red Neuronal"
   ]
  },
  {
   "cell_type": "code",
   "execution_count": 23,
   "metadata": {},
   "outputs": [],
   "source": [
    "#aqui entrenamos nuestro perceptrón\n",
    "def entrenar(entradas,salidas,epoch,FAnd):\n",
    "    global pesos #ponemos esto para que coja la variable de pesos global y la podamos modificar\n",
    "    ErroresEpoch=[] #aqui guardaremos el error de cada epoch, para mostrarlo posteriormente en una gráfica\n",
    "    for i in range(epoch):\n",
    "        errorM=0.0\n",
    "        for x in range(entradas.shape[0]): #recorremos los elementos del array\n",
    "            S=np.dot(entradas[x],pesos) #hacemos el sumatorio\n",
    "            y=funcionActivacion(S[0],Umbral)#aplicacmos la funcion de activación\n",
    "            error=salidas[x]-y #calculamos el error\n",
    "            errorM+=abs(error[0]) #guardamos el error en valor absoluto y lo sumamos\n",
    "            pesosI=pesos.copy() #guardamos los pesos anteriores, para la tabla que mostraremos posteriormente\n",
    "            pesos=pesos+np.array([learn_rate*entradas[x]*error]).T #actualizamos los pesos\n",
    "            df.loc[df.shape[0]]=i+1,str(entradas[x]),np.round(pesosI,decimals=4),salidas[x][0],y,error[0],np.round(pesos.copy(),decimals=4)\n",
    "\n",
    "        errorM/=entradas.shape[0]#sacamos el eror medio\n",
    "        ErroresEpoch.append(errorM) #lo guardamos\n",
    "        pintamos(i,FAnd)#pintamos la recta  \n",
    "        if errorM==0: # si el error es 0, entonces ya ha acabado\n",
    "            return i,ErroresEpoch #devolvemos en que epoch y que errores ha tenido al finalizar\n",
    "    return i,ErroresEpoch\n"
   ]
  },
  {
   "cell_type": "markdown",
   "metadata": {},
   "source": [
    "### Clasificación"
   ]
  },
  {
   "cell_type": "code",
   "execution_count": 24,
   "metadata": {},
   "outputs": [],
   "source": [
    "def clasificacion(entradas): #aqui podremos hacer la clasificación, es decir comprobaremos los resultados que nos da la red\n",
    "    S=np.dot(entradas,pesos) #una vez ya entrenada\n",
    "    print(funcionActivacion(S[0],Umbral))"
   ]
  },
  {
   "cell_type": "markdown",
   "metadata": {},
   "source": [
    "### Función AND"
   ]
  },
  {
   "cell_type": "code",
   "execution_count": 25,
   "metadata": {
    "scrolled": true
   },
   "outputs": [
    {
     "data": {
      "image/png": "[encoded data removed]",
      "text/plain": [
       "<Figure size 432x288 with 1 Axes>"
      ]
     },
     "metadata": {
      "needs_background": "light"
     },
     "output_type": "display_data"
    },
    {
     "name": "stdout",
     "output_type": "stream",
     "text": [
      "Ecuación del hiperplano: 1.35*x + -1.48\n"
     ]
    },
    {
     "data": {
      "image/png": "[encoded data removed]",
      "text/plain": [
       "<Figure size 432x288 with 1 Axes>"
      ]
     },
     "metadata": {
      "needs_background": "light"
     },
     "output_type": "display_data"
    },
    {
     "name": "stdout",
     "output_type": "stream",
     "text": [
      "Ecuación del hiperplano: 1.76*x + -1.74\n"
     ]
    },
    {
     "data": {
      "image/png": "[encoded data removed]",
      "text/plain": [
       "<Figure size 432x288 with 1 Axes>"
      ]
     },
     "metadata": {
      "needs_background": "light"
     },
     "output_type": "display_data"
    },
    {
     "name": "stdout",
     "output_type": "stream",
     "text": [
      "Ecuación del hiperplano: 2.13*x + -2.11\n"
     ]
    },
    {
     "data": {
      "image/png": "[encoded data removed]",
      "text/plain": [
       "<Figure size 432x288 with 1 Axes>"
      ]
     },
     "metadata": {
      "needs_background": "light"
     },
     "output_type": "display_data"
    },
    {
     "name": "stdout",
     "output_type": "stream",
     "text": [
      "Ecuación del hiperplano: 2.70*x + -2.67\n"
     ]
    },
    {
     "data": {
      "image/png": "[encoded data removed]",
      "text/plain": [
       "<Figure size 432x288 with 1 Axes>"
      ]
     },
     "metadata": {
      "needs_background": "light"
     },
     "output_type": "display_data"
    },
    {
     "name": "stdout",
     "output_type": "stream",
     "text": [
      "Ecuación del hiperplano: 3.69*x + -3.64\n"
     ]
    },
    {
     "data": {
      "image/png": "[encoded data removed]",
      "text/plain": [
       "<Figure size 432x288 with 1 Axes>"
      ]
     },
     "metadata": {
      "needs_background": "light"
     },
     "output_type": "display_data"
    },
    {
     "name": "stdout",
     "output_type": "stream",
     "text": [
      "Ecuación del hiperplano: 5.79*x + -5.72\n"
     ]
    },
    {
     "data": {
      "image/png": "[encoded data removed]",
      "text/plain": [
       "<Figure size 432x288 with 1 Axes>"
      ]
     },
     "metadata": {
      "needs_background": "light"
     },
     "output_type": "display_data"
    },
    {
     "name": "stdout",
     "output_type": "stream",
     "text": [
      "Ecuación del hiperplano: 13.53*x + -13.34\n"
     ]
    },
    {
     "data": {
      "image/png": "[encoded data removed]",
      "text/plain": [
       "<Figure size 432x288 with 1 Axes>"
      ]
     },
     "metadata": {
      "needs_background": "light"
     },
     "output_type": "display_data"
    },
    {
     "name": "stdout",
     "output_type": "stream",
     "text": [
      "Ecuación del hiperplano: -40.45*x + 39.90\n"
     ]
    },
    {
     "data": {
      "image/png": "[encoded data removed]",
      "text/plain": [
       "<Figure size 432x288 with 1 Axes>"
      ]
     },
     "metadata": {
      "needs_background": "light"
     },
     "output_type": "display_data"
    },
    {
     "name": "stdout",
     "output_type": "stream",
     "text": [
      "Ecuación del hiperplano: -8.11*x + 8.00\n"
     ]
    },
    {
     "data": {
      "image/png": "[encoded data removed]",
      "text/plain": [
       "<Figure size 432x288 with 1 Axes>"
      ]
     },
     "metadata": {
      "needs_background": "light"
     },
     "output_type": "display_data"
    },
    {
     "name": "stdout",
     "output_type": "stream",
     "text": [
      "Ecuación del hiperplano: -7.31*x + 8.00\n"
     ]
    },
    {
     "data": {
      "image/png": "[encoded data removed]",
      "text/plain": [
       "<Figure size 432x288 with 1 Axes>"
      ]
     },
     "metadata": {
      "needs_background": "light"
     },
     "output_type": "display_data"
    },
    {
     "name": "stdout",
     "output_type": "stream",
     "text": [
      "Ecuación del hiperplano: -7.31*x + 8.00\n"
     ]
    },
    {
     "data": {
      "text/plain": [
       "array([[0.91370773],\n",
       "       [0.12506001]])"
      ]
     },
     "execution_count": 25,
     "metadata": {},
     "output_type": "execute_result"
    }
   ],
   "source": [
    "entradas=np.array([[0,0],[0,1],[1,0],[1,1]])\n",
    "salidas=np.array([[0],[0],[0],[1]])\n",
    "\n",
    "#las epochs\n",
    "periodo=30\n",
    "#si ve que el error es 0 antes de llegar al numero de epochs, saldra y nos devolvera en que epoch donde ha conseguido el error 0\n",
    "EpochNecesarios,ErroresEpoch=entrenar(entradas,salidas,periodo,True)\n",
    "pesos\n"
   ]
  },
  {
   "cell_type": "code",
   "execution_count": 26,
   "metadata": {},
   "outputs": [
    {
     "data": {
      "text/html": [
       "<div>\n",
       "<style scoped>\n",
       "    .dataframe tbody tr th:only-of-type {\n",
       "        vertical-align: middle;\n",
       "    }\n",
       "\n",
       "    .dataframe tbody tr th {\n",
       "        vertical-align: top;\n",
       "    }\n",
       "\n",
       "    .dataframe thead th {\n",
       "        text-align: right;\n",
       "    }\n",
       "</style>\n",
       "<table border=\"1\" class=\"dataframe\">\n",
       "  <thead>\n",
       "    <tr style=\"text-align: right;\">\n",
       "      <th></th>\n",
       "      <th></th>\n",
       "      <th>Pesos iniciales</th>\n",
       "      <th>Desired Output Yr</th>\n",
       "      <th>Actual output Yd</th>\n",
       "      <th>Error</th>\n",
       "      <th>Pesos finales</th>\n",
       "    </tr>\n",
       "    <tr>\n",
       "      <th>Epoch</th>\n",
       "      <th>Entradas</th>\n",
       "      <th></th>\n",
       "      <th></th>\n",
       "      <th></th>\n",
       "      <th></th>\n",
       "      <th></th>\n",
       "    </tr>\n",
       "  </thead>\n",
       "  <tbody>\n",
       "    <tr>\n",
       "      <th rowspan=\"4\" valign=\"top\">1</th>\n",
       "      <th>[0 0]</th>\n",
       "      <td>[[0.8137], [-0.7749]]</td>\n",
       "      <td>0</td>\n",
       "      <td>0</td>\n",
       "      <td>0</td>\n",
       "      <td>[[0.8137], [-0.7749]]</td>\n",
       "    </tr>\n",
       "    <tr>\n",
       "      <th>[0 1]</th>\n",
       "      <td>[[0.8137], [-0.7749]]</td>\n",
       "      <td>0</td>\n",
       "      <td>0</td>\n",
       "      <td>0</td>\n",
       "      <td>[[0.8137], [-0.7749]]</td>\n",
       "    </tr>\n",
       "    <tr>\n",
       "      <th>[1 0]</th>\n",
       "      <td>[[0.8137], [-0.7749]]</td>\n",
       "      <td>0</td>\n",
       "      <td>0</td>\n",
       "      <td>0</td>\n",
       "      <td>[[0.8137], [-0.7749]]</td>\n",
       "    </tr>\n",
       "    <tr>\n",
       "      <th>[1 1]</th>\n",
       "      <td>[[0.8137], [-0.7749]]</td>\n",
       "      <td>1</td>\n",
       "      <td>0</td>\n",
       "      <td>1</td>\n",
       "      <td>[[0.9137], [-0.6749]]</td>\n",
       "    </tr>\n",
       "    <tr>\n",
       "      <th rowspan=\"4\" valign=\"top\">2</th>\n",
       "      <th>[0 0]</th>\n",
       "      <td>[[0.9137], [-0.6749]]</td>\n",
       "      <td>0</td>\n",
       "      <td>0</td>\n",
       "      <td>0</td>\n",
       "      <td>[[0.9137], [-0.6749]]</td>\n",
       "    </tr>\n",
       "    <tr>\n",
       "      <th>[0 1]</th>\n",
       "      <td>[[0.9137], [-0.6749]]</td>\n",
       "      <td>0</td>\n",
       "      <td>0</td>\n",
       "      <td>0</td>\n",
       "      <td>[[0.9137], [-0.6749]]</td>\n",
       "    </tr>\n",
       "    <tr>\n",
       "      <th>[1 0]</th>\n",
       "      <td>[[0.9137], [-0.6749]]</td>\n",
       "      <td>0</td>\n",
       "      <td>0</td>\n",
       "      <td>0</td>\n",
       "      <td>[[0.9137], [-0.6749]]</td>\n",
       "    </tr>\n",
       "    <tr>\n",
       "      <th>[1 1]</th>\n",
       "      <td>[[0.9137], [-0.6749]]</td>\n",
       "      <td>1</td>\n",
       "      <td>0</td>\n",
       "      <td>1</td>\n",
       "      <td>[[1.0137], [-0.5749]]</td>\n",
       "    </tr>\n",
       "    <tr>\n",
       "      <th rowspan=\"4\" valign=\"top\">3</th>\n",
       "      <th>[0 0]</th>\n",
       "      <td>[[1.0137], [-0.5749]]</td>\n",
       "      <td>0</td>\n",
       "      <td>0</td>\n",
       "      <td>0</td>\n",
       "      <td>[[1.0137], [-0.5749]]</td>\n",
       "    </tr>\n",
       "    <tr>\n",
       "      <th>[0 1]</th>\n",
       "      <td>[[1.0137], [-0.5749]]</td>\n",
       "      <td>0</td>\n",
       "      <td>0</td>\n",
       "      <td>0</td>\n",
       "      <td>[[1.0137], [-0.5749]]</td>\n",
       "    </tr>\n",
       "    <tr>\n",
       "      <th>[1 0]</th>\n",
       "      <td>[[1.0137], [-0.5749]]</td>\n",
       "      <td>0</td>\n",
       "      <td>1</td>\n",
       "      <td>-1</td>\n",
       "      <td>[[0.9137], [-0.5749]]</td>\n",
       "    </tr>\n",
       "    <tr>\n",
       "      <th>[1 1]</th>\n",
       "      <td>[[0.9137], [-0.5749]]</td>\n",
       "      <td>1</td>\n",
       "      <td>0</td>\n",
       "      <td>1</td>\n",
       "      <td>[[1.0137], [-0.4749]]</td>\n",
       "    </tr>\n",
       "    <tr>\n",
       "      <th rowspan=\"4\" valign=\"top\">4</th>\n",
       "      <th>[0 0]</th>\n",
       "      <td>[[1.0137], [-0.4749]]</td>\n",
       "      <td>0</td>\n",
       "      <td>0</td>\n",
       "      <td>0</td>\n",
       "      <td>[[1.0137], [-0.4749]]</td>\n",
       "    </tr>\n",
       "    <tr>\n",
       "      <th>[0 1]</th>\n",
       "      <td>[[1.0137], [-0.4749]]</td>\n",
       "      <td>0</td>\n",
       "      <td>0</td>\n",
       "      <td>0</td>\n",
       "      <td>[[1.0137], [-0.4749]]</td>\n",
       "    </tr>\n",
       "    <tr>\n",
       "      <th>[1 0]</th>\n",
       "      <td>[[1.0137], [-0.4749]]</td>\n",
       "      <td>0</td>\n",
       "      <td>1</td>\n",
       "      <td>-1</td>\n",
       "      <td>[[0.9137], [-0.4749]]</td>\n",
       "    </tr>\n",
       "    <tr>\n",
       "      <th>[1 1]</th>\n",
       "      <td>[[0.9137], [-0.4749]]</td>\n",
       "      <td>1</td>\n",
       "      <td>0</td>\n",
       "      <td>1</td>\n",
       "      <td>[[1.0137], [-0.3749]]</td>\n",
       "    </tr>\n",
       "    <tr>\n",
       "      <th rowspan=\"4\" valign=\"top\">5</th>\n",
       "      <th>[0 0]</th>\n",
       "      <td>[[1.0137], [-0.3749]]</td>\n",
       "      <td>0</td>\n",
       "      <td>0</td>\n",
       "      <td>0</td>\n",
       "      <td>[[1.0137], [-0.3749]]</td>\n",
       "    </tr>\n",
       "    <tr>\n",
       "      <th>[0 1]</th>\n",
       "      <td>[[1.0137], [-0.3749]]</td>\n",
       "      <td>0</td>\n",
       "      <td>0</td>\n",
       "      <td>0</td>\n",
       "      <td>[[1.0137], [-0.3749]]</td>\n",
       "    </tr>\n",
       "    <tr>\n",
       "      <th>[1 0]</th>\n",
       "      <td>[[1.0137], [-0.3749]]</td>\n",
       "      <td>0</td>\n",
       "      <td>1</td>\n",
       "      <td>-1</td>\n",
       "      <td>[[0.9137], [-0.3749]]</td>\n",
       "    </tr>\n",
       "    <tr>\n",
       "      <th>[1 1]</th>\n",
       "      <td>[[0.9137], [-0.3749]]</td>\n",
       "      <td>1</td>\n",
       "      <td>0</td>\n",
       "      <td>1</td>\n",
       "      <td>[[1.0137], [-0.2749]]</td>\n",
       "    </tr>\n",
       "    <tr>\n",
       "      <th rowspan=\"4\" valign=\"top\">6</th>\n",
       "      <th>[0 0]</th>\n",
       "      <td>[[1.0137], [-0.2749]]</td>\n",
       "      <td>0</td>\n",
       "      <td>0</td>\n",
       "      <td>0</td>\n",
       "      <td>[[1.0137], [-0.2749]]</td>\n",
       "    </tr>\n",
       "    <tr>\n",
       "      <th>[0 1]</th>\n",
       "      <td>[[1.0137], [-0.2749]]</td>\n",
       "      <td>0</td>\n",
       "      <td>0</td>\n",
       "      <td>0</td>\n",
       "      <td>[[1.0137], [-0.2749]]</td>\n",
       "    </tr>\n",
       "    <tr>\n",
       "      <th>[1 0]</th>\n",
       "      <td>[[1.0137], [-0.2749]]</td>\n",
       "      <td>0</td>\n",
       "      <td>1</td>\n",
       "      <td>-1</td>\n",
       "      <td>[[0.9137], [-0.2749]]</td>\n",
       "    </tr>\n",
       "    <tr>\n",
       "      <th>[1 1]</th>\n",
       "      <td>[[0.9137], [-0.2749]]</td>\n",
       "      <td>1</td>\n",
       "      <td>0</td>\n",
       "      <td>1</td>\n",
       "      <td>[[1.0137], [-0.1749]]</td>\n",
       "    </tr>\n",
       "    <tr>\n",
       "      <th rowspan=\"4\" valign=\"top\">7</th>\n",
       "      <th>[0 0]</th>\n",
       "      <td>[[1.0137], [-0.1749]]</td>\n",
       "      <td>0</td>\n",
       "      <td>0</td>\n",
       "      <td>0</td>\n",
       "      <td>[[1.0137], [-0.1749]]</td>\n",
       "    </tr>\n",
       "    <tr>\n",
       "      <th>[0 1]</th>\n",
       "      <td>[[1.0137], [-0.1749]]</td>\n",
       "      <td>0</td>\n",
       "      <td>0</td>\n",
       "      <td>0</td>\n",
       "      <td>[[1.0137], [-0.1749]]</td>\n",
       "    </tr>\n",
       "    <tr>\n",
       "      <th>[1 0]</th>\n",
       "      <td>[[1.0137], [-0.1749]]</td>\n",
       "      <td>0</td>\n",
       "      <td>1</td>\n",
       "      <td>-1</td>\n",
       "      <td>[[0.9137], [-0.1749]]</td>\n",
       "    </tr>\n",
       "    <tr>\n",
       "      <th>[1 1]</th>\n",
       "      <td>[[0.9137], [-0.1749]]</td>\n",
       "      <td>1</td>\n",
       "      <td>0</td>\n",
       "      <td>1</td>\n",
       "      <td>[[1.0137], [-0.0749]]</td>\n",
       "    </tr>\n",
       "    <tr>\n",
       "      <th rowspan=\"4\" valign=\"top\">8</th>\n",
       "      <th>[0 0]</th>\n",
       "      <td>[[1.0137], [-0.0749]]</td>\n",
       "      <td>0</td>\n",
       "      <td>0</td>\n",
       "      <td>0</td>\n",
       "      <td>[[1.0137], [-0.0749]]</td>\n",
       "    </tr>\n",
       "    <tr>\n",
       "      <th>[0 1]</th>\n",
       "      <td>[[1.0137], [-0.0749]]</td>\n",
       "      <td>0</td>\n",
       "      <td>0</td>\n",
       "      <td>0</td>\n",
       "      <td>[[1.0137], [-0.0749]]</td>\n",
       "    </tr>\n",
       "    <tr>\n",
       "      <th>[1 0]</th>\n",
       "      <td>[[1.0137], [-0.0749]]</td>\n",
       "      <td>0</td>\n",
       "      <td>1</td>\n",
       "      <td>-1</td>\n",
       "      <td>[[0.9137], [-0.0749]]</td>\n",
       "    </tr>\n",
       "    <tr>\n",
       "      <th>[1 1]</th>\n",
       "      <td>[[0.9137], [-0.0749]]</td>\n",
       "      <td>1</td>\n",
       "      <td>0</td>\n",
       "      <td>1</td>\n",
       "      <td>[[1.0137], [0.0251]]</td>\n",
       "    </tr>\n",
       "    <tr>\n",
       "      <th rowspan=\"4\" valign=\"top\">9</th>\n",
       "      <th>[0 0]</th>\n",
       "      <td>[[1.0137], [0.0251]]</td>\n",
       "      <td>0</td>\n",
       "      <td>0</td>\n",
       "      <td>0</td>\n",
       "      <td>[[1.0137], [0.0251]]</td>\n",
       "    </tr>\n",
       "    <tr>\n",
       "      <th>[0 1]</th>\n",
       "      <td>[[1.0137], [0.0251]]</td>\n",
       "      <td>0</td>\n",
       "      <td>0</td>\n",
       "      <td>0</td>\n",
       "      <td>[[1.0137], [0.0251]]</td>\n",
       "    </tr>\n",
       "    <tr>\n",
       "      <th>[1 0]</th>\n",
       "      <td>[[1.0137], [0.0251]]</td>\n",
       "      <td>0</td>\n",
       "      <td>1</td>\n",
       "      <td>-1</td>\n",
       "      <td>[[0.9137], [0.0251]]</td>\n",
       "    </tr>\n",
       "    <tr>\n",
       "      <th>[1 1]</th>\n",
       "      <td>[[0.9137], [0.0251]]</td>\n",
       "      <td>1</td>\n",
       "      <td>0</td>\n",
       "      <td>1</td>\n",
       "      <td>[[1.0137], [0.1251]]</td>\n",
       "    </tr>\n",
       "    <tr>\n",
       "      <th rowspan=\"4\" valign=\"top\">10</th>\n",
       "      <th>[0 0]</th>\n",
       "      <td>[[1.0137], [0.1251]]</td>\n",
       "      <td>0</td>\n",
       "      <td>0</td>\n",
       "      <td>0</td>\n",
       "      <td>[[1.0137], [0.1251]]</td>\n",
       "    </tr>\n",
       "    <tr>\n",
       "      <th>[0 1]</th>\n",
       "      <td>[[1.0137], [0.1251]]</td>\n",
       "      <td>0</td>\n",
       "      <td>0</td>\n",
       "      <td>0</td>\n",
       "      <td>[[1.0137], [0.1251]]</td>\n",
       "    </tr>\n",
       "    <tr>\n",
       "      <th>[1 0]</th>\n",
       "      <td>[[1.0137], [0.1251]]</td>\n",
       "      <td>0</td>\n",
       "      <td>1</td>\n",
       "      <td>-1</td>\n",
       "      <td>[[0.9137], [0.1251]]</td>\n",
       "    </tr>\n",
       "    <tr>\n",
       "      <th>[1 1]</th>\n",
       "      <td>[[0.9137], [0.1251]]</td>\n",
       "      <td>1</td>\n",
       "      <td>1</td>\n",
       "      <td>0</td>\n",
       "      <td>[[0.9137], [0.1251]]</td>\n",
       "    </tr>\n",
       "    <tr>\n",
       "      <th rowspan=\"4\" valign=\"top\">11</th>\n",
       "      <th>[0 0]</th>\n",
       "      <td>[[0.9137], [0.1251]]</td>\n",
       "      <td>0</td>\n",
       "      <td>0</td>\n",
       "      <td>0</td>\n",
       "      <td>[[0.9137], [0.1251]]</td>\n",
       "    </tr>\n",
       "    <tr>\n",
       "      <th>[0 1]</th>\n",
       "      <td>[[0.9137], [0.1251]]</td>\n",
       "      <td>0</td>\n",
       "      <td>0</td>\n",
       "      <td>0</td>\n",
       "      <td>[[0.9137], [0.1251]]</td>\n",
       "    </tr>\n",
       "    <tr>\n",
       "      <th>[1 0]</th>\n",
       "      <td>[[0.9137], [0.1251]]</td>\n",
       "      <td>0</td>\n",
       "      <td>0</td>\n",
       "      <td>0</td>\n",
       "      <td>[[0.9137], [0.1251]]</td>\n",
       "    </tr>\n",
       "    <tr>\n",
       "      <th>[1 1]</th>\n",
       "      <td>[[0.9137], [0.1251]]</td>\n",
       "      <td>1</td>\n",
       "      <td>1</td>\n",
       "      <td>0</td>\n",
       "      <td>[[0.9137], [0.1251]]</td>\n",
       "    </tr>\n",
       "  </tbody>\n",
       "</table>\n",
       "</div>"
      ],
      "text/plain": [
       "                      Pesos iniciales Desired Output Yr Actual output Yd  \\\n",
       "Epoch Entradas                                                             \n",
       "1     [0 0]     [[0.8137], [-0.7749]]                 0                0   \n",
       "      [0 1]     [[0.8137], [-0.7749]]                 0                0   \n",
       "      [1 0]     [[0.8137], [-0.7749]]                 0                0   \n",
       "      [1 1]     [[0.8137], [-0.7749]]                 1                0   \n",
       "2     [0 0]     [[0.9137], [-0.6749]]                 0                0   \n",
       "      [0 1]     [[0.9137], [-0.6749]]                 0                0   \n",
       "      [1 0]     [[0.9137], [-0.6749]]                 0                0   \n",
       "      [1 1]     [[0.9137], [-0.6749]]                 1                0   \n",
       "3     [0 0]     [[1.0137], [-0.5749]]                 0                0   \n",
       "      [0 1]     [[1.0137], [-0.5749]]                 0                0   \n",
       "      [1 0]     [[1.0137], [-0.5749]]                 0                1   \n",
       "      [1 1]     [[0.9137], [-0.5749]]                 1                0   \n",
       "4     [0 0]     [[1.0137], [-0.4749]]                 0                0   \n",
       "      [0 1]     [[1.0137], [-0.4749]]                 0                0   \n",
       "      [1 0]     [[1.0137], [-0.4749]]                 0                1   \n",
       "      [1 1]     [[0.9137], [-0.4749]]                 1                0   \n",
       "5     [0 0]     [[1.0137], [-0.3749]]                 0                0   \n",
       "      [0 1]     [[1.0137], [-0.3749]]                 0                0   \n",
       "      [1 0]     [[1.0137], [-0.3749]]                 0                1   \n",
       "      [1 1]     [[0.9137], [-0.3749]]                 1                0   \n",
       "6     [0 0]     [[1.0137], [-0.2749]]                 0                0   \n",
       "      [0 1]     [[1.0137], [-0.2749]]                 0                0   \n",
       "      [1 0]     [[1.0137], [-0.2749]]                 0                1   \n",
       "      [1 1]     [[0.9137], [-0.2749]]                 1                0   \n",
       "7     [0 0]     [[1.0137], [-0.1749]]                 0                0   \n",
       "      [0 1]     [[1.0137], [-0.1749]]                 0                0   \n",
       "      [1 0]     [[1.0137], [-0.1749]]                 0                1   \n",
       "      [1 1]     [[0.9137], [-0.1749]]                 1                0   \n",
       "8     [0 0]     [[1.0137], [-0.0749]]                 0                0   \n",
       "      [0 1]     [[1.0137], [-0.0749]]                 0                0   \n",
       "      [1 0]     [[1.0137], [-0.0749]]                 0                1   \n",
       "      [1 1]     [[0.9137], [-0.0749]]                 1                0   \n",
       "9     [0 0]      [[1.0137], [0.0251]]                 0                0   \n",
       "      [0 1]      [[1.0137], [0.0251]]                 0                0   \n",
       "      [1 0]      [[1.0137], [0.0251]]                 0                1   \n",
       "      [1 1]      [[0.9137], [0.0251]]                 1                0   \n",
       "10    [0 0]      [[1.0137], [0.1251]]                 0                0   \n",
       "      [0 1]      [[1.0137], [0.1251]]                 0                0   \n",
       "      [1 0]      [[1.0137], [0.1251]]                 0                1   \n",
       "      [1 1]      [[0.9137], [0.1251]]                 1                1   \n",
       "11    [0 0]      [[0.9137], [0.1251]]                 0                0   \n",
       "      [0 1]      [[0.9137], [0.1251]]                 0                0   \n",
       "      [1 0]      [[0.9137], [0.1251]]                 0                0   \n",
       "      [1 1]      [[0.9137], [0.1251]]                 1                1   \n",
       "\n",
       "               Error          Pesos finales  \n",
       "Epoch Entradas                               \n",
       "1     [0 0]        0  [[0.8137], [-0.7749]]  \n",
       "      [0 1]        0  [[0.8137], [-0.7749]]  \n",
       "      [1 0]        0  [[0.8137], [-0.7749]]  \n",
       "      [1 1]        1  [[0.9137], [-0.6749]]  \n",
       "2     [0 0]        0  [[0.9137], [-0.6749]]  \n",
       "      [0 1]        0  [[0.9137], [-0.6749]]  \n",
       "      [1 0]        0  [[0.9137], [-0.6749]]  \n",
       "      [1 1]        1  [[1.0137], [-0.5749]]  \n",
       "3     [0 0]        0  [[1.0137], [-0.5749]]  \n",
       "      [0 1]        0  [[1.0137], [-0.5749]]  \n",
       "      [1 0]       -1  [[0.9137], [-0.5749]]  \n",
       "      [1 1]        1  [[1.0137], [-0.4749]]  \n",
       "4     [0 0]        0  [[1.0137], [-0.4749]]  \n",
       "      [0 1]        0  [[1.0137], [-0.4749]]  \n",
       "      [1 0]       -1  [[0.9137], [-0.4749]]  \n",
       "      [1 1]        1  [[1.0137], [-0.3749]]  \n",
       "5     [0 0]        0  [[1.0137], [-0.3749]]  \n",
       "      [0 1]        0  [[1.0137], [-0.3749]]  \n",
       "      [1 0]       -1  [[0.9137], [-0.3749]]  \n",
       "      [1 1]        1  [[1.0137], [-0.2749]]  \n",
       "6     [0 0]        0  [[1.0137], [-0.2749]]  \n",
       "      [0 1]        0  [[1.0137], [-0.2749]]  \n",
       "      [1 0]       -1  [[0.9137], [-0.2749]]  \n",
       "      [1 1]        1  [[1.0137], [-0.1749]]  \n",
       "7     [0 0]        0  [[1.0137], [-0.1749]]  \n",
       "      [0 1]        0  [[1.0137], [-0.1749]]  \n",
       "      [1 0]       -1  [[0.9137], [-0.1749]]  \n",
       "      [1 1]        1  [[1.0137], [-0.0749]]  \n",
       "8     [0 0]        0  [[1.0137], [-0.0749]]  \n",
       "      [0 1]        0  [[1.0137], [-0.0749]]  \n",
       "      [1 0]       -1  [[0.9137], [-0.0749]]  \n",
       "      [1 1]        1   [[1.0137], [0.0251]]  \n",
       "9     [0 0]        0   [[1.0137], [0.0251]]  \n",
       "      [0 1]        0   [[1.0137], [0.0251]]  \n",
       "      [1 0]       -1   [[0.9137], [0.0251]]  \n",
       "      [1 1]        1   [[1.0137], [0.1251]]  \n",
       "10    [0 0]        0   [[1.0137], [0.1251]]  \n",
       "      [0 1]        0   [[1.0137], [0.1251]]  \n",
       "      [1 0]       -1   [[0.9137], [0.1251]]  \n",
       "      [1 1]        0   [[0.9137], [0.1251]]  \n",
       "11    [0 0]        0   [[0.9137], [0.1251]]  \n",
       "      [0 1]        0   [[0.9137], [0.1251]]  \n",
       "      [1 0]        0   [[0.9137], [0.1251]]  \n",
       "      [1 1]        0   [[0.9137], [0.1251]]  "
      ]
     },
     "execution_count": 26,
     "metadata": {},
     "output_type": "execute_result"
    }
   ],
   "source": [
    "df2=df.set_index([\"Epoch\",\"Entradas\"]) \n",
    "df2 #imprimimos la tabla"
   ]
  },
  {
   "cell_type": "code",
   "execution_count": 27,
   "metadata": {},
   "outputs": [
    {
     "data": {
      "image/png": "[encoded data removed]",
      "text/plain": [
       "<Figure size 432x288 with 1 Axes>"
      ]
     },
     "metadata": {
      "needs_background": "light"
     },
     "output_type": "display_data"
    }
   ],
   "source": [
    "plt.plot(np.arange(EpochNecesarios+1)+1,ErroresEpoch) #mostramos los erres que ha tenido en cada epoch\n",
    "axes = plt.gca()\n",
    "axes.set_ylim([0,1])\n",
    "plt.show()"
   ]
  },
  {
   "cell_type": "code",
   "execution_count": 28,
   "metadata": {},
   "outputs": [
    {
     "name": "stdout",
     "output_type": "stream",
     "text": [
      "0\n",
      "0\n",
      "0\n",
      "1\n"
     ]
    }
   ],
   "source": [
    "#comprobamos que son los resultados correctos\n",
    "clasificacion(np.array([0,0]))\n",
    "clasificacion(np.array([0,1]))\n",
    "clasificacion(np.array([1,0]))\n",
    "clasificacion(np.array([1,1]))"
   ]
  },
  {
   "cell_type": "markdown",
   "metadata": {},
   "source": [
    "### Funcion XOR"
   ]
  },
  {
   "cell_type": "code",
   "execution_count": 29,
   "metadata": {},
   "outputs": [
    {
     "data": {
      "image/png": "[encoded data removed]",
      "text/plain": [
       "<Figure size 432x288 with 1 Axes>"
      ]
     },
     "metadata": {
      "needs_background": "light"
     },
     "output_type": "display_data"
    },
    {
     "name": "stdout",
     "output_type": "stream",
     "text": [
      "Ecuación del hiperplano: 1.35*x + -1.48\n"
     ]
    },
    {
     "data": {
      "image/png": "[encoded data removed]",
      "text/plain": [
       "<Figure size 432x288 with 1 Axes>"
      ]
     },
     "metadata": {
      "needs_background": "light"
     },
     "output_type": "display_data"
    },
    {
     "name": "stdout",
     "output_type": "stream",
     "text": [
      "Ecuación del hiperplano: 1.76*x + -1.74\n"
     ]
    },
    {
     "data": {
      "image/png": "[encoded data removed]",
      "text/plain": [
       "<Figure size 432x288 with 1 Axes>"
      ]
     },
     "metadata": {
      "needs_background": "light"
     },
     "output_type": "display_data"
    },
    {
     "name": "stdout",
     "output_type": "stream",
     "text": [
      "Ecuación del hiperplano: 2.13*x + -2.11\n"
     ]
    },
    {
     "data": {
      "image/png": "[encoded data removed]",
      "text/plain": [
       "<Figure size 432x288 with 1 Axes>"
      ]
     },
     "metadata": {
      "needs_background": "light"
     },
     "output_type": "display_data"
    },
    {
     "name": "stdout",
     "output_type": "stream",
     "text": [
      "Ecuación del hiperplano: 2.70*x + -2.67\n"
     ]
    },
    {
     "data": {
      "image/png": "[encoded data removed]",
      "text/plain": [
       "<Figure size 432x288 with 1 Axes>"
      ]
     },
     "metadata": {
      "needs_background": "light"
     },
     "output_type": "display_data"
    },
    {
     "name": "stdout",
     "output_type": "stream",
     "text": [
      "Ecuación del hiperplano: 3.69*x + -3.64\n"
     ]
    },
    {
     "data": {
      "image/png": "[encoded data removed]",
      "text/plain": [
       "<Figure size 432x288 with 1 Axes>"
      ]
     },
     "metadata": {
      "needs_background": "light"
     },
     "output_type": "display_data"
    },
    {
     "name": "stdout",
     "output_type": "stream",
     "text": [
      "Ecuación del hiperplano: 5.79*x + -5.72\n"
     ]
    },
    {
     "data": {
      "image/png": "[encoded data removed]",
      "text/plain": [
       "<Figure size 432x288 with 1 Axes>"
      ]
     },
     "metadata": {
      "needs_background": "light"
     },
     "output_type": "display_data"
    },
    {
     "name": "stdout",
     "output_type": "stream",
     "text": [
      "Ecuación del hiperplano: 13.53*x + -13.34\n"
     ]
    },
    {
     "data": {
      "image/png": "[encoded data removed]",
      "text/plain": [
       "<Figure size 432x288 with 1 Axes>"
      ]
     },
     "metadata": {
      "needs_background": "light"
     },
     "output_type": "display_data"
    },
    {
     "name": "stdout",
     "output_type": "stream",
     "text": [
      "Ecuación del hiperplano: 12.19*x + -13.34\n"
     ]
    },
    {
     "data": {
      "image/png": "[encoded data removed]",
      "text/plain": [
       "<Figure size 432x288 with 1 Axes>"
      ]
     },
     "metadata": {
      "needs_background": "light"
     },
     "output_type": "display_data"
    },
    {
     "name": "stdout",
     "output_type": "stream",
     "text": [
      "Ecuación del hiperplano: 12.19*x + -13.34\n"
     ]
    },
    {
     "data": {
      "image/png": "[encoded data removed]",
      "text/plain": [
       "<Figure size 432x288 with 1 Axes>"
      ]
     },
     "metadata": {
      "needs_background": "light"
     },
     "output_type": "display_data"
    },
    {
     "name": "stdout",
     "output_type": "stream",
     "text": [
      "Ecuación del hiperplano: 12.19*x + -13.34\n"
     ]
    },
    {
     "data": {
      "image/png": "[encoded data removed]",
      "text/plain": [
       "<Figure size 432x288 with 1 Axes>"
      ]
     },
     "metadata": {
      "needs_background": "light"
     },
     "output_type": "display_data"
    },
    {
     "name": "stdout",
     "output_type": "stream",
     "text": [
      "Ecuación del hiperplano: 12.19*x + -13.34\n"
     ]
    },
    {
     "data": {
      "image/png": "[encoded data removed]",
      "text/plain": [
       "<Figure size 432x288 with 1 Axes>"
      ]
     },
     "metadata": {
      "needs_background": "light"
     },
     "output_type": "display_data"
    },
    {
     "name": "stdout",
     "output_type": "stream",
     "text": [
      "Ecuación del hiperplano: 12.19*x + -13.34\n"
     ]
    },
    {
     "data": {
      "image/png": "[encoded data removed]",
      "text/plain": [
       "<Figure size 432x288 with 1 Axes>"
      ]
     },
     "metadata": {
      "needs_background": "light"
     },
     "output_type": "display_data"
    },
    {
     "name": "stdout",
     "output_type": "stream",
     "text": [
      "Ecuación del hiperplano: 12.19*x + -13.34\n"
     ]
    },
    {
     "data": {
      "image/png": "[encoded data removed]",
      "text/plain": [
       "<Figure size 432x288 with 1 Axes>"
      ]
     },
     "metadata": {
      "needs_background": "light"
     },
     "output_type": "display_data"
    },
    {
     "name": "stdout",
     "output_type": "stream",
     "text": [
      "Ecuación del hiperplano: 12.19*x + -13.34\n"
     ]
    },
    {
     "data": {
      "image/png": "[encoded data removed]",
      "text/plain": [
       "<Figure size 432x288 with 1 Axes>"
      ]
     },
     "metadata": {
      "needs_background": "light"
     },
     "output_type": "display_data"
    },
    {
     "name": "stdout",
     "output_type": "stream",
     "text": [
      "Ecuación del hiperplano: 12.19*x + -13.34\n"
     ]
    },
    {
     "data": {
      "image/png": "[encoded data removed]",
      "text/plain": [
       "<Figure size 432x288 with 1 Axes>"
      ]
     },
     "metadata": {
      "needs_background": "light"
     },
     "output_type": "display_data"
    },
    {
     "name": "stdout",
     "output_type": "stream",
     "text": [
      "Ecuación del hiperplano: 12.19*x + -13.34\n"
     ]
    },
    {
     "data": {
      "image/png": "[encoded data removed]",
      "text/plain": [
       "<Figure size 432x288 with 1 Axes>"
      ]
     },
     "metadata": {
      "needs_background": "light"
     },
     "output_type": "display_data"
    },
    {
     "name": "stdout",
     "output_type": "stream",
     "text": [
      "Ecuación del hiperplano: 12.19*x + -13.34\n"
     ]
    },
    {
     "data": {
      "image/png": "[encoded data removed]",
      "text/plain": [
       "<Figure size 432x288 with 1 Axes>"
      ]
     },
     "metadata": {
      "needs_background": "light"
     },
     "output_type": "display_data"
    },
    {
     "name": "stdout",
     "output_type": "stream",
     "text": [
      "Ecuación del hiperplano: 12.19*x + -13.34\n"
     ]
    },
    {
     "data": {
      "image/png": "[encoded data removed]",
      "text/plain": [
       "<Figure size 432x288 with 1 Axes>"
      ]
     },
     "metadata": {
      "needs_background": "light"
     },
     "output_type": "display_data"
    },
    {
     "name": "stdout",
     "output_type": "stream",
     "text": [
      "Ecuación del hiperplano: 12.19*x + -13.34\n"
     ]
    },
    {
     "data": {
      "image/png": "[encoded data removed]",
      "text/plain": [
       "<Figure size 432x288 with 1 Axes>"
      ]
     },
     "metadata": {
      "needs_background": "light"
     },
     "output_type": "display_data"
    },
    {
     "name": "stdout",
     "output_type": "stream",
     "text": [
      "Ecuación del hiperplano: 12.19*x + -13.34\n"
     ]
    },
    {
     "data": {
      "image/png": "[encoded data removed]",
      "text/plain": [
       "<Figure size 432x288 with 1 Axes>"
      ]
     },
     "metadata": {
      "needs_background": "light"
     },
     "output_type": "display_data"
    },
    {
     "name": "stdout",
     "output_type": "stream",
     "text": [
      "Ecuación del hiperplano: 12.19*x + -13.34\n"
     ]
    },
    {
     "data": {
      "image/png": "[encoded data removed]",
      "text/plain": [
       "<Figure size 432x288 with 1 Axes>"
      ]
     },
     "metadata": {
      "needs_background": "light"
     },
     "output_type": "display_data"
    },
    {
     "name": "stdout",
     "output_type": "stream",
     "text": [
      "Ecuación del hiperplano: 12.19*x + -13.34\n"
     ]
    },
    {
     "data": {
      "image/png": "[encoded data removed]",
      "text/plain": [
       "<Figure size 432x288 with 1 Axes>"
      ]
     },
     "metadata": {
      "needs_background": "light"
     },
     "output_type": "display_data"
    },
    {
     "name": "stdout",
     "output_type": "stream",
     "text": [
      "Ecuación del hiperplano: 12.19*x + -13.34\n"
     ]
    },
    {
     "data": {
      "image/png": "[encoded data removed]",
      "text/plain": [
       "<Figure size 432x288 with 1 Axes>"
      ]
     },
     "metadata": {
      "needs_background": "light"
     },
     "output_type": "display_data"
    },
    {
     "name": "stdout",
     "output_type": "stream",
     "text": [
      "Ecuación del hiperplano: 12.19*x + -13.34\n"
     ]
    },
    {
     "data": {
      "image/png": "[encoded data removed]",
      "text/plain": [
       "<Figure size 432x288 with 1 Axes>"
      ]
     },
     "metadata": {
      "needs_background": "light"
     },
     "output_type": "display_data"
    },
    {
     "name": "stdout",
     "output_type": "stream",
     "text": [
      "Ecuación del hiperplano: 12.19*x + -13.34\n"
     ]
    },
    {
     "data": {
      "image/png": "[encoded data removed]",
      "text/plain": [
       "<Figure size 432x288 with 1 Axes>"
      ]
     },
     "metadata": {
      "needs_background": "light"
     },
     "output_type": "display_data"
    },
    {
     "name": "stdout",
     "output_type": "stream",
     "text": [
      "Ecuación del hiperplano: 12.19*x + -13.34\n"
     ]
    },
    {
     "data": {
      "image/png": "[encoded data removed]",
      "text/plain": [
       "<Figure size 432x288 with 1 Axes>"
      ]
     },
     "metadata": {
      "needs_background": "light"
     },
     "output_type": "display_data"
    },
    {
     "name": "stdout",
     "output_type": "stream",
     "text": [
      "Ecuación del hiperplano: 12.19*x + -13.34\n"
     ]
    },
    {
     "data": {
      "image/png": "[encoded data removed]",
      "text/plain": [
       "<Figure size 432x288 with 1 Axes>"
      ]
     },
     "metadata": {
      "needs_background": "light"
     },
     "output_type": "display_data"
    },
    {
     "name": "stdout",
     "output_type": "stream",
     "text": [
      "Ecuación del hiperplano: 12.19*x + -13.34\n"
     ]
    },
    {
     "data": {
      "image/png": "[encoded data removed]",
      "text/plain": [
       "<Figure size 432x288 with 1 Axes>"
      ]
     },
     "metadata": {
      "needs_background": "light"
     },
     "output_type": "display_data"
    },
    {
     "name": "stdout",
     "output_type": "stream",
     "text": [
      "Ecuación del hiperplano: 12.19*x + -13.34\n"
     ]
    },
    {
     "data": {
      "image/png": "[encoded data removed]",
      "text/plain": [
       "<Figure size 432x288 with 1 Axes>"
      ]
     },
     "metadata": {
      "needs_background": "light"
     },
     "output_type": "display_data"
    },
    {
     "name": "stdout",
     "output_type": "stream",
     "text": [
      "Ecuación del hiperplano: 12.19*x + -13.34\n"
     ]
    },
    {
     "data": {
      "text/plain": [
       "array([[ 0.91370773],\n",
       "       [-0.07493999]])"
      ]
     },
     "execution_count": 29,
     "metadata": {},
     "output_type": "execute_result"
    }
   ],
   "source": [
    "pesos=Inipesos #restablecemos los pesos, para tener los generados aleatorimante antes.\n",
    "df.drop(df.index, inplace=True) #eliminamos la tabla anterior\n",
    "#XOR\n",
    "entradas=np.array([[0,0],[0,1],[1,0],[1,1]])\n",
    "salidas=np.array([[0],[1],[1],[0]])\n",
    "\n",
    "#las epochs\n",
    "periodo=30\n",
    "#si ve que el error es 0 antes de llegar al numero de epochs, saldra y nos devolvera en que epoch donde ha conseguido el error 0\n",
    "\n",
    "EpochNecesariosXOR,ErroresEpochXOR=entrenar(entradas,salidas,periodo,False) #ponemos False para indicar que es XOR\n",
    "pesos"
   ]
  },
  {
   "cell_type": "code",
   "execution_count": 30,
   "metadata": {},
   "outputs": [
    {
     "data": {
      "text/html": [
       "<div>\n",
       "<style scoped>\n",
       "    .dataframe tbody tr th:only-of-type {\n",
       "        vertical-align: middle;\n",
       "    }\n",
       "\n",
       "    .dataframe tbody tr th {\n",
       "        vertical-align: top;\n",
       "    }\n",
       "\n",
       "    .dataframe thead th {\n",
       "        text-align: right;\n",
       "    }\n",
       "</style>\n",
       "<table border=\"1\" class=\"dataframe\">\n",
       "  <thead>\n",
       "    <tr style=\"text-align: right;\">\n",
       "      <th></th>\n",
       "      <th></th>\n",
       "      <th>Pesos iniciales</th>\n",
       "      <th>Desired Output Yr</th>\n",
       "      <th>Actual output Yd</th>\n",
       "      <th>Error</th>\n",
       "      <th>Pesos finales</th>\n",
       "    </tr>\n",
       "    <tr>\n",
       "      <th>Epoch</th>\n",
       "      <th>Entradas</th>\n",
       "      <th></th>\n",
       "      <th></th>\n",
       "      <th></th>\n",
       "      <th></th>\n",
       "      <th></th>\n",
       "    </tr>\n",
       "  </thead>\n",
       "  <tbody>\n",
       "    <tr>\n",
       "      <th rowspan=\"4\" valign=\"top\">1</th>\n",
       "      <th>[0 0]</th>\n",
       "      <td>[[0.8137], [-0.7749]]</td>\n",
       "      <td>0</td>\n",
       "      <td>0</td>\n",
       "      <td>0</td>\n",
       "      <td>[[0.8137], [-0.7749]]</td>\n",
       "    </tr>\n",
       "    <tr>\n",
       "      <th>[0 1]</th>\n",
       "      <td>[[0.8137], [-0.7749]]</td>\n",
       "      <td>1</td>\n",
       "      <td>0</td>\n",
       "      <td>1</td>\n",
       "      <td>[[0.8137], [-0.6749]]</td>\n",
       "    </tr>\n",
       "    <tr>\n",
       "      <th>[1 0]</th>\n",
       "      <td>[[0.8137], [-0.6749]]</td>\n",
       "      <td>1</td>\n",
       "      <td>0</td>\n",
       "      <td>1</td>\n",
       "      <td>[[0.9137], [-0.6749]]</td>\n",
       "    </tr>\n",
       "    <tr>\n",
       "      <th>[1 1]</th>\n",
       "      <td>[[0.9137], [-0.6749]]</td>\n",
       "      <td>0</td>\n",
       "      <td>0</td>\n",
       "      <td>0</td>\n",
       "      <td>[[0.9137], [-0.6749]]</td>\n",
       "    </tr>\n",
       "    <tr>\n",
       "      <th>2</th>\n",
       "      <th>[0 0]</th>\n",
       "      <td>[[0.9137], [-0.6749]]</td>\n",
       "      <td>0</td>\n",
       "      <td>0</td>\n",
       "      <td>0</td>\n",
       "      <td>[[0.9137], [-0.6749]]</td>\n",
       "    </tr>\n",
       "    <tr>\n",
       "      <th>...</th>\n",
       "      <th>...</th>\n",
       "      <td>...</td>\n",
       "      <td>...</td>\n",
       "      <td>...</td>\n",
       "      <td>...</td>\n",
       "      <td>...</td>\n",
       "    </tr>\n",
       "    <tr>\n",
       "      <th>29</th>\n",
       "      <th>[1 1]</th>\n",
       "      <td>[[1.0137], [0.0251]]</td>\n",
       "      <td>0</td>\n",
       "      <td>1</td>\n",
       "      <td>-1</td>\n",
       "      <td>[[0.9137], [-0.0749]]</td>\n",
       "    </tr>\n",
       "    <tr>\n",
       "      <th rowspan=\"4\" valign=\"top\">30</th>\n",
       "      <th>[0 0]</th>\n",
       "      <td>[[0.9137], [-0.0749]]</td>\n",
       "      <td>0</td>\n",
       "      <td>0</td>\n",
       "      <td>0</td>\n",
       "      <td>[[0.9137], [-0.0749]]</td>\n",
       "    </tr>\n",
       "    <tr>\n",
       "      <th>[0 1]</th>\n",
       "      <td>[[0.9137], [-0.0749]]</td>\n",
       "      <td>1</td>\n",
       "      <td>0</td>\n",
       "      <td>1</td>\n",
       "      <td>[[0.9137], [0.0251]]</td>\n",
       "    </tr>\n",
       "    <tr>\n",
       "      <th>[1 0]</th>\n",
       "      <td>[[0.9137], [0.0251]]</td>\n",
       "      <td>1</td>\n",
       "      <td>0</td>\n",
       "      <td>1</td>\n",
       "      <td>[[1.0137], [0.0251]]</td>\n",
       "    </tr>\n",
       "    <tr>\n",
       "      <th>[1 1]</th>\n",
       "      <td>[[1.0137], [0.0251]]</td>\n",
       "      <td>0</td>\n",
       "      <td>1</td>\n",
       "      <td>-1</td>\n",
       "      <td>[[0.9137], [-0.0749]]</td>\n",
       "    </tr>\n",
       "  </tbody>\n",
       "</table>\n",
       "<p>120 rows × 5 columns</p>\n",
       "</div>"
      ],
      "text/plain": [
       "                      Pesos iniciales Desired Output Yr Actual output Yd  \\\n",
       "Epoch Entradas                                                             \n",
       "1     [0 0]     [[0.8137], [-0.7749]]                 0                0   \n",
       "      [0 1]     [[0.8137], [-0.7749]]                 1                0   \n",
       "      [1 0]     [[0.8137], [-0.6749]]                 1                0   \n",
       "      [1 1]     [[0.9137], [-0.6749]]                 0                0   \n",
       "2     [0 0]     [[0.9137], [-0.6749]]                 0                0   \n",
       "...                               ...               ...              ...   \n",
       "29    [1 1]      [[1.0137], [0.0251]]                 0                1   \n",
       "30    [0 0]     [[0.9137], [-0.0749]]                 0                0   \n",
       "      [0 1]     [[0.9137], [-0.0749]]                 1                0   \n",
       "      [1 0]      [[0.9137], [0.0251]]                 1                0   \n",
       "      [1 1]      [[1.0137], [0.0251]]                 0                1   \n",
       "\n",
       "               Error          Pesos finales  \n",
       "Epoch Entradas                               \n",
       "1     [0 0]        0  [[0.8137], [-0.7749]]  \n",
       "      [0 1]        1  [[0.8137], [-0.6749]]  \n",
       "      [1 0]        1  [[0.9137], [-0.6749]]  \n",
       "      [1 1]        0  [[0.9137], [-0.6749]]  \n",
       "2     [0 0]        0  [[0.9137], [-0.6749]]  \n",
       "...              ...                    ...  \n",
       "29    [1 1]       -1  [[0.9137], [-0.0749]]  \n",
       "30    [0 0]        0  [[0.9137], [-0.0749]]  \n",
       "      [0 1]        1   [[0.9137], [0.0251]]  \n",
       "      [1 0]        1   [[1.0137], [0.0251]]  \n",
       "      [1 1]       -1  [[0.9137], [-0.0749]]  \n",
       "\n",
       "[120 rows x 5 columns]"
      ]
     },
     "execution_count": 30,
     "metadata": {},
     "output_type": "execute_result"
    }
   ],
   "source": [
    "df2=df.set_index([\"Epoch\",\"Entradas\"])\n",
    "df2#imprimimos la tabla"
   ]
  },
  {
   "cell_type": "code",
   "execution_count": 31,
   "metadata": {},
   "outputs": [
    {
     "data": {
      "image/png": "[encoded data removed]",
      "text/plain": [
       "<Figure size 432x288 with 1 Axes>"
      ]
     },
     "metadata": {
      "needs_background": "light"
     },
     "output_type": "display_data"
    }
   ],
   "source": [
    "plt.plot(np.arange(EpochNecesariosXOR+1)+1,ErroresEpochXOR)#mostramos los erres que ha tenido en cada epoch\n",
    "axes = plt.gca()\n",
    "axes.set_ylim([0,1])\n",
    "plt.show()"
   ]
  },
  {
   "cell_type": "code",
   "execution_count": 32,
   "metadata": {},
   "outputs": [
    {
     "name": "stdout",
     "output_type": "stream",
     "text": [
      "0\n",
      "0\n",
      "0\n",
      "0\n"
     ]
    }
   ],
   "source": [
    "#comprobamos los resultados para XOR\n",
    "clasificacion(np.array([0,0]))\n",
    "clasificacion(np.array([0,1]))\n",
    "clasificacion(np.array([1,0]))\n",
    "clasificacion(np.array([1,1]))\n",
    "#vemos que no son correctos"
   ]
  },
  {
   "cell_type": "markdown",
   "metadata": {},
   "source": [
    "Podemos ver que el XOR no es capaz de resolverlo, esto se debe a que es un problema no lineal."
   ]
  },
  {
   "cell_type": "code",
   "execution_count": null,
   "metadata": {},
   "outputs": [],
   "source": []
  }
 ],
 "metadata": {
  "kernelspec": {
   "display_name": "Python 3",
   "language": "python",
   "name": "python3"
  },
  "language_info": {
   "codemirror_mode": {
    "name": "ipython",
    "version": 3
   },
   "file_extension": ".py",
   "mimetype": "text/x-python",
   "name": "python",
   "nbconvert_exporter": "python",
   "pygments_lexer": "ipython3",
   "version": "3.8.8"
  }
 },
 "nbformat": 4,
 "nbformat_minor": 4
}
