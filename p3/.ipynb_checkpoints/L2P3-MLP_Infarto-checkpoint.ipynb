{
 "cells": [
  {
   "cell_type": "code",
   "execution_count": 2193,
   "metadata": {},
   "outputs": [],
   "source": [
    "from tensorflow.keras.models import Sequential\n",
    "from tensorflow.keras.layers import Dense\n",
    "from tensorflow.keras import optimizers\n",
    "from tensorflow.keras.optimizers import SGD\n",
    "import matplotlib.pyplot as plt\n",
    "import numpy as np\n",
    "import pandas as pd\n",
    "from sklearn import preprocessing\n",
    "from sklearn.model_selection import train_test_split\n",
    "from sklearn.metrics import confusion_matrix\n",
    "from sklearn.metrics import plot_confusion_matrix\n",
    "import sklearn.metrics as metrics\n",
    "np.random.seed(100)"
   ]
  },
  {
   "cell_type": "code",
   "execution_count": 2194,
   "metadata": {},
   "outputs": [
    {
     "data": {
      "text/html": [
       "<div>\n",
       "<style scoped>\n",
       "    .dataframe tbody tr th:only-of-type {\n",
       "        vertical-align: middle;\n",
       "    }\n",
       "\n",
       "    .dataframe tbody tr th {\n",
       "        vertical-align: top;\n",
       "    }\n",
       "\n",
       "    .dataframe thead th {\n",
       "        text-align: right;\n",
       "    }\n",
       "</style>\n",
       "<table border=\"1\" class=\"dataframe\">\n",
       "  <thead>\n",
       "    <tr style=\"text-align: right;\">\n",
       "      <th></th>\n",
       "      <th>id</th>\n",
       "      <th>genero</th>\n",
       "      <th>edad</th>\n",
       "      <th>hipertensión</th>\n",
       "      <th>enfermedad_coronaria</th>\n",
       "      <th>casado</th>\n",
       "      <th>trabajo</th>\n",
       "      <th>residencia</th>\n",
       "      <th>nivel_glucosa</th>\n",
       "      <th>bmi</th>\n",
       "      <th>uso_tabaco</th>\n",
       "      <th>infarto</th>\n",
       "    </tr>\n",
       "  </thead>\n",
       "  <tbody>\n",
       "    <tr>\n",
       "      <th>0</th>\n",
       "      <td>9046</td>\n",
       "      <td>Masculino</td>\n",
       "      <td>67.0</td>\n",
       "      <td>0</td>\n",
       "      <td>1</td>\n",
       "      <td>Si</td>\n",
       "      <td>Privado</td>\n",
       "      <td>Urbana</td>\n",
       "      <td>228.69</td>\n",
       "      <td>36.6</td>\n",
       "      <td>Ex fumador</td>\n",
       "      <td>1</td>\n",
       "    </tr>\n",
       "    <tr>\n",
       "      <th>1</th>\n",
       "      <td>51676</td>\n",
       "      <td>Femenino</td>\n",
       "      <td>61.0</td>\n",
       "      <td>0</td>\n",
       "      <td>0</td>\n",
       "      <td>Si</td>\n",
       "      <td>Autonomo</td>\n",
       "      <td>Rural</td>\n",
       "      <td>202.21</td>\n",
       "      <td>NaN</td>\n",
       "      <td>Nunca</td>\n",
       "      <td>1</td>\n",
       "    </tr>\n",
       "    <tr>\n",
       "      <th>2</th>\n",
       "      <td>31112</td>\n",
       "      <td>Masculino</td>\n",
       "      <td>80.0</td>\n",
       "      <td>0</td>\n",
       "      <td>1</td>\n",
       "      <td>Si</td>\n",
       "      <td>Privado</td>\n",
       "      <td>Rural</td>\n",
       "      <td>105.92</td>\n",
       "      <td>32.5</td>\n",
       "      <td>Nunca</td>\n",
       "      <td>1</td>\n",
       "    </tr>\n",
       "    <tr>\n",
       "      <th>3</th>\n",
       "      <td>60182</td>\n",
       "      <td>Femenino</td>\n",
       "      <td>49.0</td>\n",
       "      <td>0</td>\n",
       "      <td>0</td>\n",
       "      <td>Si</td>\n",
       "      <td>Privado</td>\n",
       "      <td>Urbana</td>\n",
       "      <td>171.23</td>\n",
       "      <td>34.4</td>\n",
       "      <td>Fumador</td>\n",
       "      <td>1</td>\n",
       "    </tr>\n",
       "    <tr>\n",
       "      <th>4</th>\n",
       "      <td>1665</td>\n",
       "      <td>Femenino</td>\n",
       "      <td>79.0</td>\n",
       "      <td>1</td>\n",
       "      <td>0</td>\n",
       "      <td>Si</td>\n",
       "      <td>Autonomo</td>\n",
       "      <td>Rural</td>\n",
       "      <td>174.12</td>\n",
       "      <td>24.0</td>\n",
       "      <td>Nunca</td>\n",
       "      <td>1</td>\n",
       "    </tr>\n",
       "    <tr>\n",
       "      <th>...</th>\n",
       "      <td>...</td>\n",
       "      <td>...</td>\n",
       "      <td>...</td>\n",
       "      <td>...</td>\n",
       "      <td>...</td>\n",
       "      <td>...</td>\n",
       "      <td>...</td>\n",
       "      <td>...</td>\n",
       "      <td>...</td>\n",
       "      <td>...</td>\n",
       "      <td>...</td>\n",
       "      <td>...</td>\n",
       "    </tr>\n",
       "    <tr>\n",
       "      <th>5105</th>\n",
       "      <td>18234</td>\n",
       "      <td>Femenino</td>\n",
       "      <td>80.0</td>\n",
       "      <td>1</td>\n",
       "      <td>0</td>\n",
       "      <td>Si</td>\n",
       "      <td>Privado</td>\n",
       "      <td>Urbana</td>\n",
       "      <td>83.75</td>\n",
       "      <td>NaN</td>\n",
       "      <td>Nunca</td>\n",
       "      <td>0</td>\n",
       "    </tr>\n",
       "    <tr>\n",
       "      <th>5106</th>\n",
       "      <td>44873</td>\n",
       "      <td>Femenino</td>\n",
       "      <td>81.0</td>\n",
       "      <td>0</td>\n",
       "      <td>0</td>\n",
       "      <td>Si</td>\n",
       "      <td>Autonomo</td>\n",
       "      <td>Urbana</td>\n",
       "      <td>125.20</td>\n",
       "      <td>40.0</td>\n",
       "      <td>Nunca</td>\n",
       "      <td>0</td>\n",
       "    </tr>\n",
       "    <tr>\n",
       "      <th>5107</th>\n",
       "      <td>19723</td>\n",
       "      <td>Femenino</td>\n",
       "      <td>35.0</td>\n",
       "      <td>0</td>\n",
       "      <td>0</td>\n",
       "      <td>Si</td>\n",
       "      <td>Autonomo</td>\n",
       "      <td>Rural</td>\n",
       "      <td>82.99</td>\n",
       "      <td>30.6</td>\n",
       "      <td>Nunca</td>\n",
       "      <td>0</td>\n",
       "    </tr>\n",
       "    <tr>\n",
       "      <th>5108</th>\n",
       "      <td>37544</td>\n",
       "      <td>Masculino</td>\n",
       "      <td>51.0</td>\n",
       "      <td>0</td>\n",
       "      <td>0</td>\n",
       "      <td>Si</td>\n",
       "      <td>Privado</td>\n",
       "      <td>Rural</td>\n",
       "      <td>166.29</td>\n",
       "      <td>25.6</td>\n",
       "      <td>Ex fumador</td>\n",
       "      <td>0</td>\n",
       "    </tr>\n",
       "    <tr>\n",
       "      <th>5109</th>\n",
       "      <td>44679</td>\n",
       "      <td>Femenino</td>\n",
       "      <td>44.0</td>\n",
       "      <td>0</td>\n",
       "      <td>0</td>\n",
       "      <td>Si</td>\n",
       "      <td>Funcionario</td>\n",
       "      <td>Urbana</td>\n",
       "      <td>85.28</td>\n",
       "      <td>26.2</td>\n",
       "      <td>NSNC</td>\n",
       "      <td>0</td>\n",
       "    </tr>\n",
       "  </tbody>\n",
       "</table>\n",
       "<p>5110 rows × 12 columns</p>\n",
       "</div>"
      ],
      "text/plain": [
       "         id     genero  edad  hipertensión  enfermedad_coronaria casado  \\\n",
       "0      9046  Masculino  67.0             0                     1     Si   \n",
       "1     51676   Femenino  61.0             0                     0     Si   \n",
       "2     31112  Masculino  80.0             0                     1     Si   \n",
       "3     60182   Femenino  49.0             0                     0     Si   \n",
       "4      1665   Femenino  79.0             1                     0     Si   \n",
       "...     ...        ...   ...           ...                   ...    ...   \n",
       "5105  18234   Femenino  80.0             1                     0     Si   \n",
       "5106  44873   Femenino  81.0             0                     0     Si   \n",
       "5107  19723   Femenino  35.0             0                     0     Si   \n",
       "5108  37544  Masculino  51.0             0                     0     Si   \n",
       "5109  44679   Femenino  44.0             0                     0     Si   \n",
       "\n",
       "          trabajo residencia  nivel_glucosa   bmi  uso_tabaco  infarto  \n",
       "0         Privado     Urbana         228.69  36.6  Ex fumador        1  \n",
       "1        Autonomo      Rural         202.21   NaN       Nunca        1  \n",
       "2         Privado      Rural         105.92  32.5       Nunca        1  \n",
       "3         Privado     Urbana         171.23  34.4     Fumador        1  \n",
       "4        Autonomo      Rural         174.12  24.0       Nunca        1  \n",
       "...           ...        ...            ...   ...         ...      ...  \n",
       "5105      Privado     Urbana          83.75   NaN       Nunca        0  \n",
       "5106     Autonomo     Urbana         125.20  40.0       Nunca        0  \n",
       "5107     Autonomo      Rural          82.99  30.6       Nunca        0  \n",
       "5108      Privado      Rural         166.29  25.6  Ex fumador        0  \n",
       "5109  Funcionario     Urbana          85.28  26.2        NSNC        0  \n",
       "\n",
       "[5110 rows x 12 columns]"
      ]
     },
     "execution_count": 2194,
     "metadata": {},
     "output_type": "execute_result"
    }
   ],
   "source": [
    "pd.set_option('display.max_rows', 10)\n",
    "DataFrameOrg=pd.read_csv('infarto.csv',delimiter=';')\n",
    "DataFrameOrg"
   ]
  },
  {
   "cell_type": "code",
   "execution_count": 2195,
   "metadata": {},
   "outputs": [
    {
     "data": {
      "text/plain": [
       "genero                    0\n",
       "edad                      0\n",
       "hipertensión              0\n",
       "enfermedad_coronaria      0\n",
       "casado                    0\n",
       "                       ... \n",
       "residencia                0\n",
       "nivel_glucosa             0\n",
       "bmi                     201\n",
       "uso_tabaco                0\n",
       "infarto                   0\n",
       "Length: 11, dtype: int64"
      ]
     },
     "execution_count": 2195,
     "metadata": {},
     "output_type": "execute_result"
    }
   ],
   "source": [
    "DataFrame=DataFrameOrg.drop(columns=[\"id\"])\n",
    "DataFrame.isnull().sum()"
   ]
  },
  {
   "cell_type": "code",
   "execution_count": 2196,
   "metadata": {},
   "outputs": [
    {
     "data": {
      "text/plain": [
       "genero                   object\n",
       "edad                    float64\n",
       "hipertensión              int64\n",
       "enfermedad_coronaria      int64\n",
       "casado                   object\n",
       "                         ...   \n",
       "residencia               object\n",
       "nivel_glucosa           float64\n",
       "bmi                     float64\n",
       "uso_tabaco               object\n",
       "infarto                   int64\n",
       "Length: 11, dtype: object"
      ]
     },
     "execution_count": 2196,
     "metadata": {},
     "output_type": "execute_result"
    }
   ],
   "source": [
    "DataFrameSinNa=DataFrame.dropna().copy()\n",
    "DataFrameSinNa.dtypes\n",
    "#DataFrameSinNa=DataFrameSinNa.loc[DataFrameSinNa['uso_tabaco']!='NSNC']"
   ]
  },
  {
   "cell_type": "code",
   "execution_count": 2197,
   "metadata": {},
   "outputs": [],
   "source": [
    "listaAleatorio=np.arange(0,DataFrameSinNa.shape[0]).tolist()\n",
    "indexA=[]\n",
    "for x in range(DataFrameSinNa.shape[0]):\n",
    "    valor=np.random.choice(listaAleatorio)\n",
    "    indexA.append(valor)\n",
    "    listaAleatorio.remove(valor)\n",
    "DataFrameSinNa['indexA'] = indexA\n",
    "DataFrameSinNa=DataFrameSinNa.sort_values(by=['indexA'])\n",
    "DataFrameSinNa=DataFrameSinNa.drop(columns=[\"indexA\"])"
   ]
  },
  {
   "cell_type": "code",
   "execution_count": 2198,
   "metadata": {},
   "outputs": [
    {
     "data": {
      "text/plain": [
       "Femenino     2897\n",
       "Masculino    2011\n",
       "Other           1\n",
       "Name: genero, dtype: int64"
      ]
     },
     "execution_count": 2198,
     "metadata": {},
     "output_type": "execute_result"
    }
   ],
   "source": [
    "DataFrameSinNa['genero'].value_counts()"
   ]
  },
  {
   "cell_type": "code",
   "execution_count": 2199,
   "metadata": {},
   "outputs": [
    {
     "data": {
      "text/plain": [
       "Si    3204\n",
       "No    1705\n",
       "Name: casado, dtype: int64"
      ]
     },
     "execution_count": 2199,
     "metadata": {},
     "output_type": "execute_result"
    }
   ],
   "source": [
    "DataFrameSinNa['casado'].value_counts()"
   ]
  },
  {
   "cell_type": "code",
   "execution_count": 2200,
   "metadata": {},
   "outputs": [
    {
     "data": {
      "text/plain": [
       "Privado          2811\n",
       "Autonomo          775\n",
       "Menor de edad     671\n",
       "Funcionario       630\n",
       "Sin trabajo        22\n",
       "Name: trabajo, dtype: int64"
      ]
     },
     "execution_count": 2200,
     "metadata": {},
     "output_type": "execute_result"
    }
   ],
   "source": [
    "DataFrameSinNa['trabajo'].value_counts()"
   ]
  },
  {
   "cell_type": "code",
   "execution_count": 2201,
   "metadata": {},
   "outputs": [
    {
     "data": {
      "text/plain": [
       "Urbana    2490\n",
       "Rural     2419\n",
       "Name: residencia, dtype: int64"
      ]
     },
     "execution_count": 2201,
     "metadata": {},
     "output_type": "execute_result"
    }
   ],
   "source": [
    "DataFrameSinNa['residencia'].value_counts()"
   ]
  },
  {
   "cell_type": "code",
   "execution_count": 2202,
   "metadata": {},
   "outputs": [
    {
     "data": {
      "text/plain": [
       "Nunca         1852\n",
       "NSNC          1483\n",
       "Ex fumador     837\n",
       "Fumador        737\n",
       "Name: uso_tabaco, dtype: int64"
      ]
     },
     "execution_count": 2202,
     "metadata": {},
     "output_type": "execute_result"
    }
   ],
   "source": [
    "DataFrameSinNa['uso_tabaco'].value_counts()"
   ]
  },
  {
   "cell_type": "code",
   "execution_count": 2203,
   "metadata": {},
   "outputs": [
    {
     "data": {
      "text/html": [
       "<div>\n",
       "<style scoped>\n",
       "    .dataframe tbody tr th:only-of-type {\n",
       "        vertical-align: middle;\n",
       "    }\n",
       "\n",
       "    .dataframe tbody tr th {\n",
       "        vertical-align: top;\n",
       "    }\n",
       "\n",
       "    .dataframe thead th {\n",
       "        text-align: right;\n",
       "    }\n",
       "</style>\n",
       "<table border=\"1\" class=\"dataframe\">\n",
       "  <thead>\n",
       "    <tr style=\"text-align: right;\">\n",
       "      <th></th>\n",
       "      <th>genero</th>\n",
       "      <th>edad</th>\n",
       "      <th>hipertensión</th>\n",
       "      <th>enfermedad_coronaria</th>\n",
       "      <th>casado</th>\n",
       "      <th>trabajo</th>\n",
       "      <th>residencia</th>\n",
       "      <th>nivel_glucosa</th>\n",
       "      <th>bmi</th>\n",
       "      <th>uso_tabaco</th>\n",
       "      <th>infarto</th>\n",
       "    </tr>\n",
       "  </thead>\n",
       "  <tbody>\n",
       "    <tr>\n",
       "      <th>3757</th>\n",
       "      <td>Femenino</td>\n",
       "      <td>54.0</td>\n",
       "      <td>0</td>\n",
       "      <td>0</td>\n",
       "      <td>Si</td>\n",
       "      <td>Privado</td>\n",
       "      <td>Urbana</td>\n",
       "      <td>75.16</td>\n",
       "      <td>38.0</td>\n",
       "      <td>Nunca</td>\n",
       "      <td>0</td>\n",
       "    </tr>\n",
       "    <tr>\n",
       "      <th>2247</th>\n",
       "      <td>Masculino</td>\n",
       "      <td>14.0</td>\n",
       "      <td>0</td>\n",
       "      <td>0</td>\n",
       "      <td>No</td>\n",
       "      <td>Menor de edad</td>\n",
       "      <td>Rural</td>\n",
       "      <td>91.25</td>\n",
       "      <td>23.8</td>\n",
       "      <td>NSNC</td>\n",
       "      <td>0</td>\n",
       "    </tr>\n",
       "    <tr>\n",
       "      <th>38</th>\n",
       "      <td>Masculino</td>\n",
       "      <td>58.0</td>\n",
       "      <td>0</td>\n",
       "      <td>0</td>\n",
       "      <td>No</td>\n",
       "      <td>Privado</td>\n",
       "      <td>Rural</td>\n",
       "      <td>92.62</td>\n",
       "      <td>32.0</td>\n",
       "      <td>NSNC</td>\n",
       "      <td>1</td>\n",
       "    </tr>\n",
       "    <tr>\n",
       "      <th>348</th>\n",
       "      <td>Femenino</td>\n",
       "      <td>25.0</td>\n",
       "      <td>0</td>\n",
       "      <td>0</td>\n",
       "      <td>No</td>\n",
       "      <td>Privado</td>\n",
       "      <td>Rural</td>\n",
       "      <td>66.30</td>\n",
       "      <td>27.2</td>\n",
       "      <td>Nunca</td>\n",
       "      <td>0</td>\n",
       "    </tr>\n",
       "    <tr>\n",
       "      <th>2357</th>\n",
       "      <td>Masculino</td>\n",
       "      <td>62.0</td>\n",
       "      <td>0</td>\n",
       "      <td>0</td>\n",
       "      <td>Si</td>\n",
       "      <td>Privado</td>\n",
       "      <td>Urbana</td>\n",
       "      <td>145.37</td>\n",
       "      <td>33.3</td>\n",
       "      <td>NSNC</td>\n",
       "      <td>0</td>\n",
       "    </tr>\n",
       "    <tr>\n",
       "      <th>...</th>\n",
       "      <td>...</td>\n",
       "      <td>...</td>\n",
       "      <td>...</td>\n",
       "      <td>...</td>\n",
       "      <td>...</td>\n",
       "      <td>...</td>\n",
       "      <td>...</td>\n",
       "      <td>...</td>\n",
       "      <td>...</td>\n",
       "      <td>...</td>\n",
       "      <td>...</td>\n",
       "    </tr>\n",
       "    <tr>\n",
       "      <th>1417</th>\n",
       "      <td>Femenino</td>\n",
       "      <td>41.0</td>\n",
       "      <td>0</td>\n",
       "      <td>0</td>\n",
       "      <td>Si</td>\n",
       "      <td>Privado</td>\n",
       "      <td>Urbana</td>\n",
       "      <td>80.77</td>\n",
       "      <td>21.1</td>\n",
       "      <td>Nunca</td>\n",
       "      <td>0</td>\n",
       "    </tr>\n",
       "    <tr>\n",
       "      <th>33</th>\n",
       "      <td>Masculino</td>\n",
       "      <td>80.0</td>\n",
       "      <td>0</td>\n",
       "      <td>1</td>\n",
       "      <td>Si</td>\n",
       "      <td>Autonomo</td>\n",
       "      <td>Urbana</td>\n",
       "      <td>252.72</td>\n",
       "      <td>30.5</td>\n",
       "      <td>Ex fumador</td>\n",
       "      <td>1</td>\n",
       "    </tr>\n",
       "    <tr>\n",
       "      <th>4912</th>\n",
       "      <td>Femenino</td>\n",
       "      <td>80.0</td>\n",
       "      <td>0</td>\n",
       "      <td>0</td>\n",
       "      <td>Si</td>\n",
       "      <td>Privado</td>\n",
       "      <td>Urbana</td>\n",
       "      <td>73.89</td>\n",
       "      <td>26.7</td>\n",
       "      <td>Ex fumador</td>\n",
       "      <td>0</td>\n",
       "    </tr>\n",
       "    <tr>\n",
       "      <th>3446</th>\n",
       "      <td>Femenino</td>\n",
       "      <td>21.0</td>\n",
       "      <td>0</td>\n",
       "      <td>0</td>\n",
       "      <td>No</td>\n",
       "      <td>Privado</td>\n",
       "      <td>Urbana</td>\n",
       "      <td>88.51</td>\n",
       "      <td>20.5</td>\n",
       "      <td>Nunca</td>\n",
       "      <td>0</td>\n",
       "    </tr>\n",
       "    <tr>\n",
       "      <th>3772</th>\n",
       "      <td>Masculino</td>\n",
       "      <td>80.0</td>\n",
       "      <td>0</td>\n",
       "      <td>0</td>\n",
       "      <td>Si</td>\n",
       "      <td>Autonomo</td>\n",
       "      <td>Rural</td>\n",
       "      <td>196.08</td>\n",
       "      <td>31.0</td>\n",
       "      <td>Ex fumador</td>\n",
       "      <td>0</td>\n",
       "    </tr>\n",
       "  </tbody>\n",
       "</table>\n",
       "<p>4909 rows × 11 columns</p>\n",
       "</div>"
      ],
      "text/plain": [
       "         genero  edad  hipertensión  enfermedad_coronaria casado  \\\n",
       "3757   Femenino  54.0             0                     0     Si   \n",
       "2247  Masculino  14.0             0                     0     No   \n",
       "38    Masculino  58.0             0                     0     No   \n",
       "348    Femenino  25.0             0                     0     No   \n",
       "2357  Masculino  62.0             0                     0     Si   \n",
       "...         ...   ...           ...                   ...    ...   \n",
       "1417   Femenino  41.0             0                     0     Si   \n",
       "33    Masculino  80.0             0                     1     Si   \n",
       "4912   Femenino  80.0             0                     0     Si   \n",
       "3446   Femenino  21.0             0                     0     No   \n",
       "3772  Masculino  80.0             0                     0     Si   \n",
       "\n",
       "            trabajo residencia  nivel_glucosa   bmi  uso_tabaco  infarto  \n",
       "3757        Privado     Urbana          75.16  38.0       Nunca        0  \n",
       "2247  Menor de edad      Rural          91.25  23.8        NSNC        0  \n",
       "38          Privado      Rural          92.62  32.0        NSNC        1  \n",
       "348         Privado      Rural          66.30  27.2       Nunca        0  \n",
       "2357        Privado     Urbana         145.37  33.3        NSNC        0  \n",
       "...             ...        ...            ...   ...         ...      ...  \n",
       "1417        Privado     Urbana          80.77  21.1       Nunca        0  \n",
       "33         Autonomo     Urbana         252.72  30.5  Ex fumador        1  \n",
       "4912        Privado     Urbana          73.89  26.7  Ex fumador        0  \n",
       "3446        Privado     Urbana          88.51  20.5       Nunca        0  \n",
       "3772       Autonomo      Rural         196.08  31.0  Ex fumador        0  \n",
       "\n",
       "[4909 rows x 11 columns]"
      ]
     },
     "execution_count": 2203,
     "metadata": {},
     "output_type": "execute_result"
    }
   ],
   "source": [
    "DNumeric=DataFrameSinNa.copy()\n",
    "DNumeric['genero'] = DNumeric['genero'].astype('category')\n",
    "DNumeric['casado'] = DNumeric['casado'].astype('category')\n",
    "DNumeric['trabajo'] = DNumeric['trabajo'].astype('category')\n",
    "DNumeric['residencia'] = DNumeric['residencia'].astype('category')\n",
    "DNumeric['uso_tabaco'] = DNumeric['uso_tabaco'].astype('category')\n",
    "DNumeric"
   ]
  },
  {
   "cell_type": "code",
   "execution_count": 2204,
   "metadata": {},
   "outputs": [
    {
     "data": {
      "text/plain": [
       "genero                     int8\n",
       "edad                    float64\n",
       "hipertensión              int64\n",
       "enfermedad_coronaria      int64\n",
       "casado                     int8\n",
       "                         ...   \n",
       "residencia                 int8\n",
       "nivel_glucosa           float64\n",
       "bmi                     float64\n",
       "uso_tabaco                 int8\n",
       "infarto                   int64\n",
       "Length: 11, dtype: object"
      ]
     },
     "execution_count": 2204,
     "metadata": {},
     "output_type": "execute_result"
    }
   ],
   "source": [
    "DNumeric[\"genero\"] = DNumeric[\"genero\"].cat.codes\n",
    "DNumeric[\"casado\"] = DNumeric[\"casado\"].cat.codes\n",
    "DNumeric[\"trabajo\"] = DNumeric[\"trabajo\"].cat.codes\n",
    "DNumeric[\"residencia\"] = DNumeric[\"residencia\"].cat.codes\n",
    "DNumeric[\"uso_tabaco\"] = DNumeric[\"uso_tabaco\"].cat.codes\n",
    "DNumeric.dtypes"
   ]
  },
  {
   "cell_type": "code",
   "execution_count": 2205,
   "metadata": {},
   "outputs": [
    {
     "data": {
      "text/plain": [
       "array([[0],\n",
       "       [0],\n",
       "       [1],\n",
       "       ...,\n",
       "       [0],\n",
       "       [0],\n",
       "       [0]], dtype=int64)"
      ]
     },
     "execution_count": 2205,
     "metadata": {},
     "output_type": "execute_result"
    }
   ],
   "source": [
    "Dseparacion=DNumeric.copy()\n",
    "y=Dseparacion.infarto\n",
    "Dseparacion=Dseparacion.drop(columns=[\"infarto\"])\n",
    "y = np.array(y)\n",
    "Ytotales=y.reshape(y.shape[0],1)\n",
    "Ytotales"
   ]
  },
  {
   "cell_type": "code",
   "execution_count": 2206,
   "metadata": {
    "scrolled": true
   },
   "outputs": [
    {
     "data": {
      "text/plain": [
       "array([[0.  , 0.66, 0.  , ..., 0.09, 0.32, 1.  ],\n",
       "       [0.5 , 0.17, 0.  , ..., 0.17, 0.15, 0.67],\n",
       "       [0.5 , 0.71, 0.  , ..., 0.17, 0.25, 0.67],\n",
       "       ...,\n",
       "       [0.  , 0.98, 0.  , ..., 0.09, 0.19, 0.  ],\n",
       "       [0.  , 0.26, 0.  , ..., 0.15, 0.12, 1.  ],\n",
       "       [0.5 , 0.98, 0.  , ..., 0.65, 0.24, 0.  ]])"
      ]
     },
     "execution_count": 2206,
     "metadata": {},
     "output_type": "execute_result"
    }
   ],
   "source": [
    "x = Dseparacion.values #returns a numpy array\n",
    "scaler = preprocessing.MinMaxScaler()\n",
    "Xtotales = scaler.fit_transform(x)\n",
    "Xtotales"
   ]
  },
  {
   "cell_type": "code",
   "execution_count": 2207,
   "metadata": {},
   "outputs": [],
   "source": [
    "X, X_test, Y, Y_test = train_test_split(Xtotales,Ytotales, test_size=0.1)"
   ]
  },
  {
   "cell_type": "code",
   "execution_count": 2208,
   "metadata": {},
   "outputs": [],
   "source": [
    "model=Sequential()"
   ]
  },
  {
   "cell_type": "code",
   "execution_count": 2209,
   "metadata": {},
   "outputs": [],
   "source": [
    "model.add(Dense(200,input_dim=Dseparacion.shape[1],activation='relu'))\n",
    "model.add(Dense(20, activation='relu'))\n",
    "model.add(Dense(1, activation='sigmoid'))"
   ]
  },
  {
   "cell_type": "code",
   "execution_count": 2210,
   "metadata": {},
   "outputs": [],
   "source": [
    "model.compile(loss='mean_squared_error', optimizer='adam', metrics=['accuracy'])"
   ]
  },
  {
   "cell_type": "code",
   "execution_count": 2211,
   "metadata": {},
   "outputs": [
    {
     "name": "stdout",
     "output_type": "stream",
     "text": [
      "Epoch 1/30\n",
      "111/111 [==============================] - 0s 1ms/step - loss: 0.0689 - accuracy: 0.9414 - val_loss: 0.0394 - val_accuracy: 0.9604\n",
      "Epoch 2/30\n",
      "111/111 [==============================] - 0s 676us/step - loss: 0.0432 - accuracy: 0.9559 - val_loss: 0.0387 - val_accuracy: 0.9604\n",
      "Epoch 3/30\n",
      "111/111 [==============================] - 0s 685us/step - loss: 0.0420 - accuracy: 0.9559 - val_loss: 0.0380 - val_accuracy: 0.9604\n",
      "Epoch 4/30\n",
      "111/111 [==============================] - 0s 676us/step - loss: 0.0411 - accuracy: 0.9559 - val_loss: 0.0380 - val_accuracy: 0.9604\n",
      "Epoch 5/30\n",
      "111/111 [==============================] - 0s 676us/step - loss: 0.0406 - accuracy: 0.9559 - val_loss: 0.0375 - val_accuracy: 0.9604\n",
      "Epoch 6/30\n",
      "111/111 [==============================] - 0s 694us/step - loss: 0.0401 - accuracy: 0.9559 - val_loss: 0.0369 - val_accuracy: 0.9604\n",
      "Epoch 7/30\n",
      "111/111 [==============================] - 0s 685us/step - loss: 0.0396 - accuracy: 0.9559 - val_loss: 0.0365 - val_accuracy: 0.9604\n",
      "Epoch 8/30\n",
      "111/111 [==============================] - 0s 676us/step - loss: 0.0392 - accuracy: 0.9559 - val_loss: 0.0361 - val_accuracy: 0.9604\n",
      "Epoch 9/30\n",
      "111/111 [==============================] - 0s 685us/step - loss: 0.0389 - accuracy: 0.9559 - val_loss: 0.0359 - val_accuracy: 0.9604\n",
      "Epoch 10/30\n",
      "111/111 [==============================] - 0s 676us/step - loss: 0.0387 - accuracy: 0.9559 - val_loss: 0.0359 - val_accuracy: 0.9604\n",
      "Epoch 11/30\n",
      "111/111 [==============================] - 0s 700us/step - loss: 0.0387 - accuracy: 0.9559 - val_loss: 0.0356 - val_accuracy: 0.9604\n",
      "Epoch 12/30\n",
      "111/111 [==============================] - 0s 676us/step - loss: 0.0384 - accuracy: 0.9559 - val_loss: 0.0358 - val_accuracy: 0.9604\n",
      "Epoch 13/30\n",
      "111/111 [==============================] - 0s 667us/step - loss: 0.0379 - accuracy: 0.9559 - val_loss: 0.0358 - val_accuracy: 0.9604\n",
      "Epoch 14/30\n",
      "111/111 [==============================] - 0s 676us/step - loss: 0.0380 - accuracy: 0.9559 - val_loss: 0.0356 - val_accuracy: 0.9604\n",
      "Epoch 15/30\n",
      "111/111 [==============================] - 0s 680us/step - loss: 0.0376 - accuracy: 0.9559 - val_loss: 0.0355 - val_accuracy: 0.9604\n",
      "Epoch 16/30\n",
      "111/111 [==============================] - 0s 676us/step - loss: 0.0374 - accuracy: 0.9559 - val_loss: 0.0359 - val_accuracy: 0.9604\n",
      "Epoch 17/30\n",
      "111/111 [==============================] - 0s 676us/step - loss: 0.0375 - accuracy: 0.9561 - val_loss: 0.0360 - val_accuracy: 0.9604\n",
      "Epoch 18/30\n",
      "111/111 [==============================] - 0s 656us/step - loss: 0.0372 - accuracy: 0.9567 - val_loss: 0.0362 - val_accuracy: 0.9615\n",
      "Epoch 19/30\n",
      "111/111 [==============================] - 0s 667us/step - loss: 0.0370 - accuracy: 0.9564 - val_loss: 0.0359 - val_accuracy: 0.9615\n",
      "Epoch 20/30\n",
      "111/111 [==============================] - 0s 676us/step - loss: 0.0371 - accuracy: 0.9564 - val_loss: 0.0355 - val_accuracy: 0.9604\n",
      "Epoch 21/30\n",
      "111/111 [==============================] - 0s 649us/step - loss: 0.0365 - accuracy: 0.9564 - val_loss: 0.0355 - val_accuracy: 0.9604\n",
      "Epoch 22/30\n",
      "111/111 [==============================] - 0s 685us/step - loss: 0.0365 - accuracy: 0.9564 - val_loss: 0.0357 - val_accuracy: 0.9615\n",
      "Epoch 23/30\n",
      "111/111 [==============================] - 0s 703us/step - loss: 0.0364 - accuracy: 0.9570 - val_loss: 0.0362 - val_accuracy: 0.9615\n",
      "Epoch 24/30\n",
      "111/111 [==============================] - 0s 667us/step - loss: 0.0364 - accuracy: 0.9573 - val_loss: 0.0366 - val_accuracy: 0.9615\n",
      "Epoch 25/30\n",
      "111/111 [==============================] - 0s 685us/step - loss: 0.0363 - accuracy: 0.9564 - val_loss: 0.0360 - val_accuracy: 0.9604\n",
      "Epoch 26/30\n",
      "111/111 [==============================] - 0s 676us/step - loss: 0.0359 - accuracy: 0.9576 - val_loss: 0.0361 - val_accuracy: 0.9604\n",
      "Epoch 27/30\n",
      "111/111 [==============================] - 0s 667us/step - loss: 0.0359 - accuracy: 0.9573 - val_loss: 0.0370 - val_accuracy: 0.9615\n",
      "Epoch 28/30\n",
      "111/111 [==============================] - 0s 676us/step - loss: 0.0356 - accuracy: 0.9573 - val_loss: 0.0369 - val_accuracy: 0.9627\n",
      "Epoch 29/30\n",
      "111/111 [==============================] - 0s 685us/step - loss: 0.0358 - accuracy: 0.9576 - val_loss: 0.0369 - val_accuracy: 0.9604\n",
      "Epoch 30/30\n",
      "111/111 [==============================] - 0s 676us/step - loss: 0.0358 - accuracy: 0.9573 - val_loss: 0.0361 - val_accuracy: 0.9615\n"
     ]
    }
   ],
   "source": [
    "hist=model.fit(X, Y,batch_size=32,validation_split=0.2, epochs=30)"
   ]
  },
  {
   "cell_type": "code",
   "execution_count": 2212,
   "metadata": {},
   "outputs": [
    {
     "name": "stdout",
     "output_type": "stream",
     "text": [
      "16/16 [==============================] - 0s 562us/step - loss: 0.0345 - accuracy: 0.9633\n"
     ]
    },
    {
     "data": {
      "text/plain": [
       "[0.03448314219713211, 0.9633401036262512]"
      ]
     },
     "execution_count": 2212,
     "metadata": {},
     "output_type": "execute_result"
    }
   ],
   "source": [
    "model.evaluate(X_test, Y_test)"
   ]
  },
  {
   "cell_type": "code",
   "execution_count": 2213,
   "metadata": {},
   "outputs": [
    {
     "data": {
      "text/plain": [
       "<tf.Tensor: shape=(4418, 1), dtype=float32, numpy=\n",
       "array([[0.08],\n",
       "       [0.04],\n",
       "       [0.01],\n",
       "       ...,\n",
       "       [0.  ],\n",
       "       [0.04],\n",
       "       [0.04]], dtype=float32)>"
      ]
     },
     "execution_count": 2213,
     "metadata": {},
     "output_type": "execute_result"
    }
   ],
   "source": [
    "model(X)"
   ]
  },
  {
   "cell_type": "code",
   "execution_count": 2214,
   "metadata": {
    "scrolled": true
   },
   "outputs": [
    {
     "data": {
      "image/png": "[encoded data removed]",
      "text/plain": [
       "<Figure size 432x288 with 1 Axes>"
      ]
     },
     "metadata": {
      "needs_background": "light"
     },
     "output_type": "display_data"
    }
   ],
   "source": [
    "\n",
    "plt.plot(hist.history['accuracy'])\n",
    "plt.plot(hist.history['val_accuracy'])\n",
    "plt.title('model accuracy')\n",
    "plt.ylabel('accuracy')\n",
    "plt.xlabel('epoch')\n",
    "plt.legend(['train', 'validacion'], loc='upper left')\n",
    "plt.show()\n"
   ]
  },
  {
   "cell_type": "code",
   "execution_count": 2215,
   "metadata": {},
   "outputs": [
    {
     "data": {
      "image/png": "[encoded data removed]",
      "text/plain": [
       "<Figure size 432x288 with 1 Axes>"
      ]
     },
     "metadata": {
      "needs_background": "light"
     },
     "output_type": "display_data"
    }
   ],
   "source": [
    "plt.plot(hist.history['loss'])\n",
    "plt.plot(hist.history['val_loss'])\n",
    "plt.title('model loss')\n",
    "plt.ylabel('loss')\n",
    "plt.xlabel('epoch')\n",
    "plt.legend(['train', 'validacion'], loc='upper left')\n",
    "plt.show()"
   ]
  },
  {
   "cell_type": "code",
   "execution_count": 2216,
   "metadata": {},
   "outputs": [],
   "source": [
    "p=model(Xtotales)\n",
    "p=p.numpy()\n",
    "p2=p.round()\n",
    "DataFrameSinNa['prediccion']=p\n",
    "DataFrameSinNa['prediccion Round']=p2"
   ]
  },
  {
   "cell_type": "code",
   "execution_count": 2217,
   "metadata": {},
   "outputs": [
    {
     "data": {
      "text/html": [
       "<div>\n",
       "<style scoped>\n",
       "    .dataframe tbody tr th:only-of-type {\n",
       "        vertical-align: middle;\n",
       "    }\n",
       "\n",
       "    .dataframe tbody tr th {\n",
       "        vertical-align: top;\n",
       "    }\n",
       "\n",
       "    .dataframe thead th {\n",
       "        text-align: right;\n",
       "    }\n",
       "</style>\n",
       "<table border=\"1\" class=\"dataframe\">\n",
       "  <thead>\n",
       "    <tr style=\"text-align: right;\">\n",
       "      <th></th>\n",
       "      <th>genero</th>\n",
       "      <th>edad</th>\n",
       "      <th>hipertensión</th>\n",
       "      <th>enfermedad_coronaria</th>\n",
       "      <th>casado</th>\n",
       "      <th>trabajo</th>\n",
       "      <th>residencia</th>\n",
       "      <th>nivel_glucosa</th>\n",
       "      <th>bmi</th>\n",
       "      <th>uso_tabaco</th>\n",
       "      <th>infarto</th>\n",
       "      <th>prediccion</th>\n",
       "      <th>prediccion Round</th>\n",
       "    </tr>\n",
       "  </thead>\n",
       "  <tbody>\n",
       "    <tr>\n",
       "      <th>168</th>\n",
       "      <td>Femenino</td>\n",
       "      <td>79.0</td>\n",
       "      <td>1</td>\n",
       "      <td>0</td>\n",
       "      <td>No</td>\n",
       "      <td>Funcionario</td>\n",
       "      <td>Urbana</td>\n",
       "      <td>98.02</td>\n",
       "      <td>22.3</td>\n",
       "      <td>Ex fumador</td>\n",
       "      <td>1</td>\n",
       "      <td>0.519046</td>\n",
       "      <td>1.0</td>\n",
       "    </tr>\n",
       "    <tr>\n",
       "      <th>83</th>\n",
       "      <td>Femenino</td>\n",
       "      <td>68.0</td>\n",
       "      <td>1</td>\n",
       "      <td>0</td>\n",
       "      <td>No</td>\n",
       "      <td>Autonomo</td>\n",
       "      <td>Urbana</td>\n",
       "      <td>79.79</td>\n",
       "      <td>29.7</td>\n",
       "      <td>Nunca</td>\n",
       "      <td>1</td>\n",
       "      <td>0.563614</td>\n",
       "      <td>1.0</td>\n",
       "    </tr>\n",
       "    <tr>\n",
       "      <th>229</th>\n",
       "      <td>Femenino</td>\n",
       "      <td>80.0</td>\n",
       "      <td>1</td>\n",
       "      <td>0</td>\n",
       "      <td>No</td>\n",
       "      <td>Privado</td>\n",
       "      <td>Urbana</td>\n",
       "      <td>66.03</td>\n",
       "      <td>35.4</td>\n",
       "      <td>Nunca</td>\n",
       "      <td>1</td>\n",
       "      <td>0.631633</td>\n",
       "      <td>1.0</td>\n",
       "    </tr>\n",
       "    <tr>\n",
       "      <th>173</th>\n",
       "      <td>Femenino</td>\n",
       "      <td>80.0</td>\n",
       "      <td>1</td>\n",
       "      <td>0</td>\n",
       "      <td>Si</td>\n",
       "      <td>Autonomo</td>\n",
       "      <td>Rural</td>\n",
       "      <td>91.02</td>\n",
       "      <td>32.9</td>\n",
       "      <td>Ex fumador</td>\n",
       "      <td>1</td>\n",
       "      <td>0.531764</td>\n",
       "      <td>1.0</td>\n",
       "    </tr>\n",
       "    <tr>\n",
       "      <th>163</th>\n",
       "      <td>Femenino</td>\n",
       "      <td>78.0</td>\n",
       "      <td>1</td>\n",
       "      <td>0</td>\n",
       "      <td>No</td>\n",
       "      <td>Privado</td>\n",
       "      <td>Urbana</td>\n",
       "      <td>203.87</td>\n",
       "      <td>45.7</td>\n",
       "      <td>Nunca</td>\n",
       "      <td>1</td>\n",
       "      <td>0.589636</td>\n",
       "      <td>1.0</td>\n",
       "    </tr>\n",
       "    <tr>\n",
       "      <th>131</th>\n",
       "      <td>Femenino</td>\n",
       "      <td>78.0</td>\n",
       "      <td>1</td>\n",
       "      <td>0</td>\n",
       "      <td>No</td>\n",
       "      <td>Privado</td>\n",
       "      <td>Urbana</td>\n",
       "      <td>130.54</td>\n",
       "      <td>20.1</td>\n",
       "      <td>Nunca</td>\n",
       "      <td>1</td>\n",
       "      <td>0.707904</td>\n",
       "      <td>1.0</td>\n",
       "    </tr>\n",
       "    <tr>\n",
       "      <th>220</th>\n",
       "      <td>Masculino</td>\n",
       "      <td>81.0</td>\n",
       "      <td>1</td>\n",
       "      <td>1</td>\n",
       "      <td>Si</td>\n",
       "      <td>Privado</td>\n",
       "      <td>Urbana</td>\n",
       "      <td>250.89</td>\n",
       "      <td>28.1</td>\n",
       "      <td>Fumador</td>\n",
       "      <td>1</td>\n",
       "      <td>0.539704</td>\n",
       "      <td>1.0</td>\n",
       "    </tr>\n",
       "  </tbody>\n",
       "</table>\n",
       "</div>"
      ],
      "text/plain": [
       "        genero  edad  hipertensión  enfermedad_coronaria casado      trabajo  \\\n",
       "168   Femenino  79.0             1                     0     No  Funcionario   \n",
       "83    Femenino  68.0             1                     0     No     Autonomo   \n",
       "229   Femenino  80.0             1                     0     No      Privado   \n",
       "173   Femenino  80.0             1                     0     Si     Autonomo   \n",
       "163   Femenino  78.0             1                     0     No      Privado   \n",
       "131   Femenino  78.0             1                     0     No      Privado   \n",
       "220  Masculino  81.0             1                     1     Si      Privado   \n",
       "\n",
       "    residencia  nivel_glucosa   bmi  uso_tabaco  infarto  prediccion  \\\n",
       "168     Urbana          98.02  22.3  Ex fumador        1    0.519046   \n",
       "83      Urbana          79.79  29.7       Nunca        1    0.563614   \n",
       "229     Urbana          66.03  35.4       Nunca        1    0.631633   \n",
       "173      Rural          91.02  32.9  Ex fumador        1    0.531764   \n",
       "163     Urbana         203.87  45.7       Nunca        1    0.589636   \n",
       "131     Urbana         130.54  20.1       Nunca        1    0.707904   \n",
       "220     Urbana         250.89  28.1     Fumador        1    0.539704   \n",
       "\n",
       "     prediccion Round  \n",
       "168               1.0  \n",
       "83                1.0  \n",
       "229               1.0  \n",
       "173               1.0  \n",
       "163               1.0  \n",
       "131               1.0  \n",
       "220               1.0  "
      ]
     },
     "execution_count": 2217,
     "metadata": {},
     "output_type": "execute_result"
    }
   ],
   "source": [
    "pd.set_option('display.max_rows', None)\n",
    "Dtemporal=DataFrameSinNa.loc[(DataFrameSinNa['prediccion Round']==1.0) & (DataFrameSinNa['infarto']==1.0)]\n",
    "Dtemporal"
   ]
  },
  {
   "cell_type": "code",
   "execution_count": 2218,
   "metadata": {},
   "outputs": [
    {
     "name": "stdout",
     "output_type": "stream",
     "text": [
      "(7,)\n",
      "0.5833286898476737\n"
     ]
    },
    {
     "data": {
      "text/plain": [
       "3.349282296650718"
      ]
     },
     "execution_count": 2218,
     "metadata": {},
     "output_type": "execute_result"
    }
   ],
   "source": [
    "dlis=Dtemporal[\"prediccion\"].tolist()\n",
    "dlis=np.array(dlis)\n",
    "print(dlis.shape)\n",
    "print(dlis.mean())\n",
    "Numeros1=DataFrameSinNa.loc[(DataFrameSinNa['infarto']==1.0)].shape[0]\n",
    "(np.count_nonzero(p2)/Numeros1) *100"
   ]
  },
  {
   "cell_type": "code",
   "execution_count": 2267,
   "metadata": {},
   "outputs": [
    {
     "data": {
      "text/plain": [
       "array([[   7,  202],\n",
       "       [   0, 4700]], dtype=int64)"
      ]
     },
     "execution_count": 2267,
     "metadata": {},
     "output_type": "execute_result"
    }
   ],
   "source": [
    "Ypredict=p2\n",
    "Ypredict = Ypredict.astype(np.int64)\n",
    "labl=[1,0]\n",
    "matrix = confusion_matrix(Ytotales.flatten(), Ypredict.flatten(),labels=labl)\n",
    "matrix"
   ]
  },
  {
   "cell_type": "code",
   "execution_count": 2274,
   "metadata": {},
   "outputs": [
    {
     "name": "stdout",
     "output_type": "stream",
     "text": [
      "[[   7  202]\n",
      " [   0 4700]]\n"
     ]
    },
    {
     "data": {
      "image/png": "[encoded data removed]",
      "text/plain": [
       "<Figure size 432x288 with 2 Axes>"
      ]
     },
     "metadata": {
      "needs_background": "light"
     },
     "output_type": "display_data"
    }
   ],
   "source": [
    "#mostramos la matriz de confusion pintada y le pasamos en ytest y pred los valores\n",
    "#q tenia q dar y los q da \n",
    "\n",
    "y_test = Ytotales.ravel()\n",
    "\n",
    "pred = Ypredict.ravel()\n",
    "\n",
    "print(matrix)\n",
    "fig = plt.figure()\n",
    "ax = fig.add_subplot(111)\n",
    "cax = ax.matshow(matrix,cmap='RdYlGn')\n",
    "plt.title('Confusion matrix of the classifier')\n",
    "fig.colorbar(cax)\n",
    "ax.set_xticks(labl)\n",
    "ax.set_yticks(labl)\n",
    "ax.set_xticklabels(labl)\n",
    "ax.set_yticklabels(labl)\n",
    "plt.xlabel('Predicted')\n",
    "plt.ylabel('True')\n",
    "\n",
    "plt.show()\n",
    "\n"
   ]
  },
  {
   "cell_type": "markdown",
   "metadata": {},
   "source": [
    "![title](a.png)"
   ]
  },
  {
   "cell_type": "code",
   "execution_count": null,
   "metadata": {},
   "outputs": [],
   "source": []
  }
 ],
 "metadata": {
  "kernelspec": {
   "display_name": "Python 3",
   "language": "python",
   "name": "python3"
  },
  "language_info": {
   "codemirror_mode": {
    "name": "ipython",
    "version": 3
   },
   "file_extension": ".py",
   "mimetype": "text/x-python",
   "name": "python",
   "nbconvert_exporter": "python",
   "pygments_lexer": "ipython3",
   "version": "3.8.8"
  }
 },
 "nbformat": 4,
 "nbformat_minor": 4
}
