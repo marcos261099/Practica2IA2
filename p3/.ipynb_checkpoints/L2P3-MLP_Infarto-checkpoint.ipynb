{
 "cells": [
  {
   "cell_type": "code",
   "execution_count": 211,
   "metadata": {},
   "outputs": [
    {
     "data": {
      "text/plain": [
       "2196"
      ]
     },
     "execution_count": 211,
     "metadata": {},
     "output_type": "execute_result"
    }
   ],
   "source": [
    "#declaramos librebias\n",
    "from tensorflow.keras.models import Sequential\n",
    "from tensorflow.keras.layers import Dense\n",
    "from tensorflow.keras import optimizers\n",
    "from tensorflow.keras.optimizers import SGD\n",
    "from tensorflow.python.framework import ops\n",
    "import tensorflow as tf\n",
    "\n",
    "import matplotlib.pyplot as plt\n",
    "from matplotlib.colors import ListedColormap\n",
    "\n",
    "import numpy as np\n",
    "import pandas as pd\n",
    "\n",
    "from sklearn import preprocessing\n",
    "from sklearn.model_selection import train_test_split\n",
    "from sklearn.metrics import confusion_matrix\n",
    "from sklearn.metrics import plot_confusion_matrix\n",
    "import sklearn.metrics as metrics\n",
    "from sklearn.linear_model import LinearRegression\n",
    "from sklearn.ensemble import IsolationForest\n",
    "from sklearn.metrics import mean_absolute_error\n",
    "from sklearn.metrics import precision_score\n",
    "from sklearn.metrics import recall_score\n",
    "from sklearn.metrics import accuracy_score\n",
    "\n",
    "a=2196 #ponemos semilla\n",
    "np.random.seed(a)\n",
    "tf.random.set_seed(a)\n",
    "a"
   ]
  },
  {
   "cell_type": "code",
   "execution_count": 212,
   "metadata": {},
   "outputs": [
    {
     "data": {
      "text/html": [
       "<div>\n",
       "<style scoped>\n",
       "    .dataframe tbody tr th:only-of-type {\n",
       "        vertical-align: middle;\n",
       "    }\n",
       "\n",
       "    .dataframe tbody tr th {\n",
       "        vertical-align: top;\n",
       "    }\n",
       "\n",
       "    .dataframe thead th {\n",
       "        text-align: right;\n",
       "    }\n",
       "</style>\n",
       "<table border=\"1\" class=\"dataframe\">\n",
       "  <thead>\n",
       "    <tr style=\"text-align: right;\">\n",
       "      <th></th>\n",
       "      <th>id</th>\n",
       "      <th>genero</th>\n",
       "      <th>edad</th>\n",
       "      <th>hipertensión</th>\n",
       "      <th>enfermedad_coronaria</th>\n",
       "      <th>casado</th>\n",
       "      <th>trabajo</th>\n",
       "      <th>residencia</th>\n",
       "      <th>nivel_glucosa</th>\n",
       "      <th>bmi</th>\n",
       "      <th>uso_tabaco</th>\n",
       "      <th>infarto</th>\n",
       "    </tr>\n",
       "  </thead>\n",
       "  <tbody>\n",
       "    <tr>\n",
       "      <th>0</th>\n",
       "      <td>9046</td>\n",
       "      <td>Masculino</td>\n",
       "      <td>67.0</td>\n",
       "      <td>0</td>\n",
       "      <td>1</td>\n",
       "      <td>Si</td>\n",
       "      <td>Privado</td>\n",
       "      <td>Urbana</td>\n",
       "      <td>228.69</td>\n",
       "      <td>36.6</td>\n",
       "      <td>Ex fumador</td>\n",
       "      <td>1</td>\n",
       "    </tr>\n",
       "    <tr>\n",
       "      <th>1</th>\n",
       "      <td>51676</td>\n",
       "      <td>Femenino</td>\n",
       "      <td>61.0</td>\n",
       "      <td>0</td>\n",
       "      <td>0</td>\n",
       "      <td>Si</td>\n",
       "      <td>Autonomo</td>\n",
       "      <td>Rural</td>\n",
       "      <td>202.21</td>\n",
       "      <td>NaN</td>\n",
       "      <td>Nunca</td>\n",
       "      <td>1</td>\n",
       "    </tr>\n",
       "    <tr>\n",
       "      <th>2</th>\n",
       "      <td>31112</td>\n",
       "      <td>Masculino</td>\n",
       "      <td>80.0</td>\n",
       "      <td>0</td>\n",
       "      <td>1</td>\n",
       "      <td>Si</td>\n",
       "      <td>Privado</td>\n",
       "      <td>Rural</td>\n",
       "      <td>105.92</td>\n",
       "      <td>32.5</td>\n",
       "      <td>Nunca</td>\n",
       "      <td>1</td>\n",
       "    </tr>\n",
       "    <tr>\n",
       "      <th>3</th>\n",
       "      <td>60182</td>\n",
       "      <td>Femenino</td>\n",
       "      <td>49.0</td>\n",
       "      <td>0</td>\n",
       "      <td>0</td>\n",
       "      <td>Si</td>\n",
       "      <td>Privado</td>\n",
       "      <td>Urbana</td>\n",
       "      <td>171.23</td>\n",
       "      <td>34.4</td>\n",
       "      <td>Fumador</td>\n",
       "      <td>1</td>\n",
       "    </tr>\n",
       "    <tr>\n",
       "      <th>4</th>\n",
       "      <td>1665</td>\n",
       "      <td>Femenino</td>\n",
       "      <td>79.0</td>\n",
       "      <td>1</td>\n",
       "      <td>0</td>\n",
       "      <td>Si</td>\n",
       "      <td>Autonomo</td>\n",
       "      <td>Rural</td>\n",
       "      <td>174.12</td>\n",
       "      <td>24.0</td>\n",
       "      <td>Nunca</td>\n",
       "      <td>1</td>\n",
       "    </tr>\n",
       "    <tr>\n",
       "      <th>...</th>\n",
       "      <td>...</td>\n",
       "      <td>...</td>\n",
       "      <td>...</td>\n",
       "      <td>...</td>\n",
       "      <td>...</td>\n",
       "      <td>...</td>\n",
       "      <td>...</td>\n",
       "      <td>...</td>\n",
       "      <td>...</td>\n",
       "      <td>...</td>\n",
       "      <td>...</td>\n",
       "      <td>...</td>\n",
       "    </tr>\n",
       "    <tr>\n",
       "      <th>5105</th>\n",
       "      <td>18234</td>\n",
       "      <td>Femenino</td>\n",
       "      <td>80.0</td>\n",
       "      <td>1</td>\n",
       "      <td>0</td>\n",
       "      <td>Si</td>\n",
       "      <td>Privado</td>\n",
       "      <td>Urbana</td>\n",
       "      <td>83.75</td>\n",
       "      <td>NaN</td>\n",
       "      <td>Nunca</td>\n",
       "      <td>0</td>\n",
       "    </tr>\n",
       "    <tr>\n",
       "      <th>5106</th>\n",
       "      <td>44873</td>\n",
       "      <td>Femenino</td>\n",
       "      <td>81.0</td>\n",
       "      <td>0</td>\n",
       "      <td>0</td>\n",
       "      <td>Si</td>\n",
       "      <td>Autonomo</td>\n",
       "      <td>Urbana</td>\n",
       "      <td>125.20</td>\n",
       "      <td>40.0</td>\n",
       "      <td>Nunca</td>\n",
       "      <td>0</td>\n",
       "    </tr>\n",
       "    <tr>\n",
       "      <th>5107</th>\n",
       "      <td>19723</td>\n",
       "      <td>Femenino</td>\n",
       "      <td>35.0</td>\n",
       "      <td>0</td>\n",
       "      <td>0</td>\n",
       "      <td>Si</td>\n",
       "      <td>Autonomo</td>\n",
       "      <td>Rural</td>\n",
       "      <td>82.99</td>\n",
       "      <td>30.6</td>\n",
       "      <td>Nunca</td>\n",
       "      <td>0</td>\n",
       "    </tr>\n",
       "    <tr>\n",
       "      <th>5108</th>\n",
       "      <td>37544</td>\n",
       "      <td>Masculino</td>\n",
       "      <td>51.0</td>\n",
       "      <td>0</td>\n",
       "      <td>0</td>\n",
       "      <td>Si</td>\n",
       "      <td>Privado</td>\n",
       "      <td>Rural</td>\n",
       "      <td>166.29</td>\n",
       "      <td>25.6</td>\n",
       "      <td>Ex fumador</td>\n",
       "      <td>0</td>\n",
       "    </tr>\n",
       "    <tr>\n",
       "      <th>5109</th>\n",
       "      <td>44679</td>\n",
       "      <td>Femenino</td>\n",
       "      <td>44.0</td>\n",
       "      <td>0</td>\n",
       "      <td>0</td>\n",
       "      <td>Si</td>\n",
       "      <td>Funcionario</td>\n",
       "      <td>Urbana</td>\n",
       "      <td>85.28</td>\n",
       "      <td>26.2</td>\n",
       "      <td>NSNC</td>\n",
       "      <td>0</td>\n",
       "    </tr>\n",
       "  </tbody>\n",
       "</table>\n",
       "<p>5110 rows × 12 columns</p>\n",
       "</div>"
      ],
      "text/plain": [
       "         id     genero  edad  hipertensión  enfermedad_coronaria casado  \\\n",
       "0      9046  Masculino  67.0             0                     1     Si   \n",
       "1     51676   Femenino  61.0             0                     0     Si   \n",
       "2     31112  Masculino  80.0             0                     1     Si   \n",
       "3     60182   Femenino  49.0             0                     0     Si   \n",
       "4      1665   Femenino  79.0             1                     0     Si   \n",
       "...     ...        ...   ...           ...                   ...    ...   \n",
       "5105  18234   Femenino  80.0             1                     0     Si   \n",
       "5106  44873   Femenino  81.0             0                     0     Si   \n",
       "5107  19723   Femenino  35.0             0                     0     Si   \n",
       "5108  37544  Masculino  51.0             0                     0     Si   \n",
       "5109  44679   Femenino  44.0             0                     0     Si   \n",
       "\n",
       "          trabajo residencia  nivel_glucosa   bmi  uso_tabaco  infarto  \n",
       "0         Privado     Urbana         228.69  36.6  Ex fumador        1  \n",
       "1        Autonomo      Rural         202.21   NaN       Nunca        1  \n",
       "2         Privado      Rural         105.92  32.5       Nunca        1  \n",
       "3         Privado     Urbana         171.23  34.4     Fumador        1  \n",
       "4        Autonomo      Rural         174.12  24.0       Nunca        1  \n",
       "...           ...        ...            ...   ...         ...      ...  \n",
       "5105      Privado     Urbana          83.75   NaN       Nunca        0  \n",
       "5106     Autonomo     Urbana         125.20  40.0       Nunca        0  \n",
       "5107     Autonomo      Rural          82.99  30.6       Nunca        0  \n",
       "5108      Privado      Rural         166.29  25.6  Ex fumador        0  \n",
       "5109  Funcionario     Urbana          85.28  26.2        NSNC        0  \n",
       "\n",
       "[5110 rows x 12 columns]"
      ]
     },
     "execution_count": 212,
     "metadata": {},
     "output_type": "execute_result"
    }
   ],
   "source": [
    "pd.set_option('display.max_rows', 12) #decimos que muestro solo 12 lineas\n",
    "DataFrameOrg=pd.read_csv('infarto.csv',delimiter=';') # leemos el csv, y le decimos que el delimitador es: \";\"\n",
    "DataFrameOrg # lo mostramos"
   ]
  },
  {
   "cell_type": "code",
   "execution_count": 213,
   "metadata": {},
   "outputs": [
    {
     "data": {
      "text/plain": [
       "genero                    0\n",
       "edad                      0\n",
       "hipertensión              0\n",
       "enfermedad_coronaria      0\n",
       "casado                    0\n",
       "trabajo                   0\n",
       "residencia                0\n",
       "nivel_glucosa             0\n",
       "bmi                     201\n",
       "uso_tabaco                0\n",
       "infarto                   0\n",
       "dtype: int64"
      ]
     },
     "execution_count": 213,
     "metadata": {},
     "output_type": "execute_result"
    }
   ],
   "source": [
    "DataFrame=DataFrameOrg.drop(columns=[\"id\"])# eliminaos la columna de ID\n",
    "DataFrame.isnull().sum() # vemos si alguna columna tiene alguna valor "
   ]
  },
  {
   "cell_type": "code",
   "execution_count": 214,
   "metadata": {},
   "outputs": [
    {
     "data": {
      "text/plain": [
       "genero                   object\n",
       "edad                    float64\n",
       "hipertensión              int64\n",
       "enfermedad_coronaria      int64\n",
       "casado                   object\n",
       "trabajo                  object\n",
       "residencia               object\n",
       "nivel_glucosa           float64\n",
       "bmi                     float64\n",
       "uso_tabaco               object\n",
       "infarto                   int64\n",
       "dtype: object"
      ]
     },
     "execution_count": 214,
     "metadata": {},
     "output_type": "execute_result"
    }
   ],
   "source": [
    "DataFrameSinNa=DataFrame.dropna().copy() #eliminamos las lineas que tiene el bmi nan\n",
    "DataFrameSinNa.dtypes # mostramos de que tipo son cada columna"
   ]
  },
  {
   "cell_type": "markdown",
   "metadata": {},
   "source": [
    "### Comprobamos los valores cualitativos"
   ]
  },
  {
   "cell_type": "code",
   "execution_count": 215,
   "metadata": {
    "scrolled": true
   },
   "outputs": [
    {
     "data": {
      "text/plain": [
       "Femenino     2897\n",
       "Masculino    2011\n",
       "Other           1\n",
       "Name: genero, dtype: int64"
      ]
     },
     "execution_count": 215,
     "metadata": {},
     "output_type": "execute_result"
    }
   ],
   "source": [
    "DataFrameSinNa['genero'].value_counts() # los de genero"
   ]
  },
  {
   "cell_type": "code",
   "execution_count": 216,
   "metadata": {},
   "outputs": [
    {
     "data": {
      "text/plain": [
       "Si    3204\n",
       "No    1705\n",
       "Name: casado, dtype: int64"
      ]
     },
     "execution_count": 216,
     "metadata": {},
     "output_type": "execute_result"
    }
   ],
   "source": [
    "DataFrameSinNa['casado'].value_counts() # los de casado"
   ]
  },
  {
   "cell_type": "code",
   "execution_count": 217,
   "metadata": {},
   "outputs": [
    {
     "data": {
      "text/plain": [
       "Privado          2811\n",
       "Autonomo          775\n",
       "Menor de edad     671\n",
       "Funcionario       630\n",
       "Sin trabajo        22\n",
       "Name: trabajo, dtype: int64"
      ]
     },
     "execution_count": 217,
     "metadata": {},
     "output_type": "execute_result"
    }
   ],
   "source": [
    "DataFrameSinNa['trabajo'].value_counts() # los de trabajo"
   ]
  },
  {
   "cell_type": "code",
   "execution_count": 218,
   "metadata": {},
   "outputs": [
    {
     "data": {
      "text/plain": [
       "Urbana    2490\n",
       "Rural     2419\n",
       "Name: residencia, dtype: int64"
      ]
     },
     "execution_count": 218,
     "metadata": {},
     "output_type": "execute_result"
    }
   ],
   "source": [
    "DataFrameSinNa['residencia'].value_counts()# los de residencia"
   ]
  },
  {
   "cell_type": "code",
   "execution_count": 219,
   "metadata": {},
   "outputs": [
    {
     "data": {
      "text/plain": [
       "Nunca         1852\n",
       "NSNC          1483\n",
       "Ex fumador     837\n",
       "Fumador        737\n",
       "Name: uso_tabaco, dtype: int64"
      ]
     },
     "execution_count": 219,
     "metadata": {},
     "output_type": "execute_result"
    }
   ],
   "source": [
    "DataFrameSinNa['uso_tabaco'].value_counts()# los del tabaco"
   ]
  },
  {
   "cell_type": "code",
   "execution_count": 220,
   "metadata": {},
   "outputs": [
    {
     "data": {
      "text/html": [
       "<div>\n",
       "<style scoped>\n",
       "    .dataframe tbody tr th:only-of-type {\n",
       "        vertical-align: middle;\n",
       "    }\n",
       "\n",
       "    .dataframe tbody tr th {\n",
       "        vertical-align: top;\n",
       "    }\n",
       "\n",
       "    .dataframe thead th {\n",
       "        text-align: right;\n",
       "    }\n",
       "</style>\n",
       "<table border=\"1\" class=\"dataframe\">\n",
       "  <thead>\n",
       "    <tr style=\"text-align: right;\">\n",
       "      <th></th>\n",
       "      <th>genero</th>\n",
       "      <th>edad</th>\n",
       "      <th>hipertensión</th>\n",
       "      <th>enfermedad_coronaria</th>\n",
       "      <th>casado</th>\n",
       "      <th>trabajo</th>\n",
       "      <th>residencia</th>\n",
       "      <th>nivel_glucosa</th>\n",
       "      <th>bmi</th>\n",
       "      <th>uso_tabaco</th>\n",
       "      <th>infarto</th>\n",
       "    </tr>\n",
       "  </thead>\n",
       "  <tbody>\n",
       "    <tr>\n",
       "      <th>0</th>\n",
       "      <td>Masculino</td>\n",
       "      <td>2</td>\n",
       "      <td>0</td>\n",
       "      <td>1</td>\n",
       "      <td>Si</td>\n",
       "      <td>Privado</td>\n",
       "      <td>Urbana</td>\n",
       "      <td>0</td>\n",
       "      <td>0</td>\n",
       "      <td>Ex fumador</td>\n",
       "      <td>1</td>\n",
       "    </tr>\n",
       "    <tr>\n",
       "      <th>2</th>\n",
       "      <td>Masculino</td>\n",
       "      <td>1</td>\n",
       "      <td>0</td>\n",
       "      <td>1</td>\n",
       "      <td>Si</td>\n",
       "      <td>Privado</td>\n",
       "      <td>Rural</td>\n",
       "      <td>2</td>\n",
       "      <td>0</td>\n",
       "      <td>Nunca</td>\n",
       "      <td>1</td>\n",
       "    </tr>\n",
       "    <tr>\n",
       "      <th>3</th>\n",
       "      <td>Femenino</td>\n",
       "      <td>3</td>\n",
       "      <td>0</td>\n",
       "      <td>0</td>\n",
       "      <td>Si</td>\n",
       "      <td>Privado</td>\n",
       "      <td>Urbana</td>\n",
       "      <td>1</td>\n",
       "      <td>0</td>\n",
       "      <td>Fumador</td>\n",
       "      <td>1</td>\n",
       "    </tr>\n",
       "    <tr>\n",
       "      <th>4</th>\n",
       "      <td>Femenino</td>\n",
       "      <td>1</td>\n",
       "      <td>1</td>\n",
       "      <td>0</td>\n",
       "      <td>Si</td>\n",
       "      <td>Autonomo</td>\n",
       "      <td>Rural</td>\n",
       "      <td>1</td>\n",
       "      <td>2</td>\n",
       "      <td>Nunca</td>\n",
       "      <td>1</td>\n",
       "    </tr>\n",
       "    <tr>\n",
       "      <th>5</th>\n",
       "      <td>Masculino</td>\n",
       "      <td>1</td>\n",
       "      <td>0</td>\n",
       "      <td>0</td>\n",
       "      <td>Si</td>\n",
       "      <td>Privado</td>\n",
       "      <td>Urbana</td>\n",
       "      <td>1</td>\n",
       "      <td>1</td>\n",
       "      <td>Ex fumador</td>\n",
       "      <td>1</td>\n",
       "    </tr>\n",
       "    <tr>\n",
       "      <th>...</th>\n",
       "      <td>...</td>\n",
       "      <td>...</td>\n",
       "      <td>...</td>\n",
       "      <td>...</td>\n",
       "      <td>...</td>\n",
       "      <td>...</td>\n",
       "      <td>...</td>\n",
       "      <td>...</td>\n",
       "      <td>...</td>\n",
       "      <td>...</td>\n",
       "      <td>...</td>\n",
       "    </tr>\n",
       "    <tr>\n",
       "      <th>5104</th>\n",
       "      <td>Femenino</td>\n",
       "      <td>4</td>\n",
       "      <td>0</td>\n",
       "      <td>0</td>\n",
       "      <td>No</td>\n",
       "      <td>Menor de edad</td>\n",
       "      <td>Rural</td>\n",
       "      <td>2</td>\n",
       "      <td>2</td>\n",
       "      <td>NSNC</td>\n",
       "      <td>0</td>\n",
       "    </tr>\n",
       "    <tr>\n",
       "      <th>5106</th>\n",
       "      <td>Femenino</td>\n",
       "      <td>1</td>\n",
       "      <td>0</td>\n",
       "      <td>0</td>\n",
       "      <td>Si</td>\n",
       "      <td>Autonomo</td>\n",
       "      <td>Urbana</td>\n",
       "      <td>2</td>\n",
       "      <td>0</td>\n",
       "      <td>Nunca</td>\n",
       "      <td>0</td>\n",
       "    </tr>\n",
       "    <tr>\n",
       "      <th>5107</th>\n",
       "      <td>Femenino</td>\n",
       "      <td>3</td>\n",
       "      <td>0</td>\n",
       "      <td>0</td>\n",
       "      <td>Si</td>\n",
       "      <td>Autonomo</td>\n",
       "      <td>Rural</td>\n",
       "      <td>2</td>\n",
       "      <td>0</td>\n",
       "      <td>Nunca</td>\n",
       "      <td>0</td>\n",
       "    </tr>\n",
       "    <tr>\n",
       "      <th>5108</th>\n",
       "      <td>Masculino</td>\n",
       "      <td>2</td>\n",
       "      <td>0</td>\n",
       "      <td>0</td>\n",
       "      <td>Si</td>\n",
       "      <td>Privado</td>\n",
       "      <td>Rural</td>\n",
       "      <td>1</td>\n",
       "      <td>1</td>\n",
       "      <td>Ex fumador</td>\n",
       "      <td>0</td>\n",
       "    </tr>\n",
       "    <tr>\n",
       "      <th>5109</th>\n",
       "      <td>Femenino</td>\n",
       "      <td>3</td>\n",
       "      <td>0</td>\n",
       "      <td>0</td>\n",
       "      <td>Si</td>\n",
       "      <td>Funcionario</td>\n",
       "      <td>Urbana</td>\n",
       "      <td>2</td>\n",
       "      <td>1</td>\n",
       "      <td>NSNC</td>\n",
       "      <td>0</td>\n",
       "    </tr>\n",
       "  </tbody>\n",
       "</table>\n",
       "<p>4909 rows × 11 columns</p>\n",
       "</div>"
      ],
      "text/plain": [
       "         genero  edad  hipertensión  enfermedad_coronaria casado  \\\n",
       "0     Masculino     2             0                     1     Si   \n",
       "2     Masculino     1             0                     1     Si   \n",
       "3      Femenino     3             0                     0     Si   \n",
       "4      Femenino     1             1                     0     Si   \n",
       "5     Masculino     1             0                     0     Si   \n",
       "...         ...   ...           ...                   ...    ...   \n",
       "5104   Femenino     4             0                     0     No   \n",
       "5106   Femenino     1             0                     0     Si   \n",
       "5107   Femenino     3             0                     0     Si   \n",
       "5108  Masculino     2             0                     0     Si   \n",
       "5109   Femenino     3             0                     0     Si   \n",
       "\n",
       "            trabajo residencia  nivel_glucosa  bmi  uso_tabaco  infarto  \n",
       "0           Privado     Urbana              0    0  Ex fumador        1  \n",
       "2           Privado      Rural              2    0       Nunca        1  \n",
       "3           Privado     Urbana              1    0     Fumador        1  \n",
       "4          Autonomo      Rural              1    2       Nunca        1  \n",
       "5           Privado     Urbana              1    1  Ex fumador        1  \n",
       "...             ...        ...            ...  ...         ...      ...  \n",
       "5104  Menor de edad      Rural              2    2        NSNC        0  \n",
       "5106       Autonomo     Urbana              2    0       Nunca        0  \n",
       "5107       Autonomo      Rural              2    0       Nunca        0  \n",
       "5108        Privado      Rural              1    1  Ex fumador        0  \n",
       "5109    Funcionario     Urbana              2    1        NSNC        0  \n",
       "\n",
       "[4909 rows x 11 columns]"
      ]
     },
     "execution_count": 220,
     "metadata": {},
     "output_type": "execute_result"
    }
   ],
   "source": [
    "DNumeric=DataFrameSinNa.copy()\n",
    "# aqui pasaremos estoas columnas a category\n",
    "# para convertirlos posteriormente a cuantitativos\n",
    "DNumeric['genero'] = DNumeric['genero'].astype('category')\n",
    "DNumeric['casado'] = DNumeric['casado'].astype('category')\n",
    "DNumeric['trabajo'] = DNumeric['trabajo'].astype('category')\n",
    "DNumeric['residencia'] = DNumeric['residencia'].astype('category')\n",
    "DNumeric['uso_tabaco'] = DNumeric['uso_tabaco'].astype('category')\n",
    "\n",
    "#para optimizar hemos decidido dividir los atributos de edad, bmi, nivel_glucosa en rangos\n",
    "# estos rangos no han sido arbitrarios, sino que estan basados en rangos osficial\n",
    "#ej: mas de 30 de bmi, sobreperso\n",
    "#entre 30 y 24.9 normal ... y asi\n",
    "#explicado en mas detalle en la memoria.\n",
    "DNumeric['edad'] = np.select([DNumeric['edad']>=75, DNumeric['edad']>=50,DNumeric['edad']>=25],[1, 2,3], default=4)\n",
    "DNumeric['bmi'] = np.select([DNumeric['bmi']>=30, DNumeric['bmi']>=24.9,DNumeric['bmi']>=18.5],[0, 1,2], default=3)\n",
    "DNumeric['nivel_glucosa'] = np.select([DNumeric['nivel_glucosa']>=200, DNumeric['nivel_glucosa']>=150],[0, 1], default=2)\n",
    "DNumeric"
   ]
  },
  {
   "cell_type": "code",
   "execution_count": 221,
   "metadata": {},
   "outputs": [],
   "source": [
    "DNumeric[\"genero\"] = DNumeric[\"genero\"].cat.codes\n",
    "DNumeric[\"casado\"] = DNumeric[\"casado\"].cat.codes\n",
    "DNumeric[\"trabajo\"] = DNumeric[\"trabajo\"].cat.codes\n",
    "DNumeric[\"residencia\"] = DNumeric[\"residencia\"].cat.codes\n",
    "DNumeric[\"uso_tabaco\"] = DNumeric[\"uso_tabaco\"].cat.codes\n",
    "\n",
    "#DNumeric=DNumeric.drop(columns=[\"residencia\"])\n"
   ]
  },
  {
   "cell_type": "code",
   "execution_count": 222,
   "metadata": {},
   "outputs": [
    {
     "data": {
      "text/plain": [
       "209"
      ]
     },
     "execution_count": 222,
     "metadata": {},
     "output_type": "execute_result"
    }
   ],
   "source": [
    "numeroinfartos=DataFrameSinNa['infarto'].value_counts()[1]\n",
    "numeroinfartos# extramoes el nuemro de infartos que tenemos"
   ]
  },
  {
   "cell_type": "code",
   "execution_count": 223,
   "metadata": {},
   "outputs": [
    {
     "data": {
      "text/plain": [
       "array([[1],\n",
       "       [1],\n",
       "       [1],\n",
       "       ...,\n",
       "       [0],\n",
       "       [0],\n",
       "       [0]], dtype=int64)"
      ]
     },
     "execution_count": 223,
     "metadata": {},
     "output_type": "execute_result"
    }
   ],
   "source": [
    "Dseparacion=DNumeric.copy()\n",
    "y=Dseparacion.infarto\n",
    "Dseparacion=Dseparacion.drop(columns=[\"infarto\"]) # eliminamos la columna infarto\n",
    "y = np.array(y)\n",
    "Ytotales=y.reshape(y.shape[0],1)# cambiamos la dimension de (X,) a (X,1)\n",
    "Ytotales # extramos la columa de infarto"
   ]
  },
  {
   "cell_type": "code",
   "execution_count": 224,
   "metadata": {
    "scrolled": false
   },
   "outputs": [
    {
     "data": {
      "text/plain": [
       "array([[0.5       , 0.33333333, 0.        , ..., 0.        , 0.        ,\n",
       "        0.        ],\n",
       "       [0.5       , 0.        , 0.        , ..., 1.        , 0.        ,\n",
       "        1.        ],\n",
       "       [0.        , 0.66666667, 0.        , ..., 0.5       , 0.        ,\n",
       "        0.33333333],\n",
       "       ...,\n",
       "       [0.        , 0.66666667, 0.        , ..., 1.        , 0.        ,\n",
       "        1.        ],\n",
       "       [0.5       , 0.33333333, 0.        , ..., 0.5       , 0.33333333,\n",
       "        0.        ],\n",
       "       [0.        , 0.66666667, 0.        , ..., 1.        , 0.33333333,\n",
       "        0.66666667]])"
      ]
     },
     "execution_count": 224,
     "metadata": {},
     "output_type": "execute_result"
    }
   ],
   "source": [
    "x = Dseparacion.values #returns a numpy array\n",
    "scaler = preprocessing.MinMaxScaler() #hacemos la normalizacion de los datos\n",
    "Xtotales = scaler.fit_transform(x)\n",
    "Xtotales #mostramos los datos"
   ]
  },
  {
   "cell_type": "code",
   "execution_count": 225,
   "metadata": {},
   "outputs": [],
   "source": [
    "# aqui lo que haremos es asegurarnos, que la mayoria de los infartos vayan para train\n",
    "Xinfartos=Xtotales[:numeroinfartos] # extraemos los infartos \n",
    "Yinfartos=Ytotales[:numeroinfartos]\n",
    "#damos el 10% a test\n",
    "Xinfartos, X_test0, Yinfartos, Y_test0 = train_test_split(Xinfartos,Yinfartos, test_size=0.1,random_state=42)\n",
    "#damos el 10% a validation del resto\n",
    "Xinfartos, X_validation0, Yinfartos, Y_validation0 = train_test_split(Xinfartos,Yinfartos, test_size=0.1,random_state=42)\n",
    "\n",
    "#nos quedamos con los que no le han dado infarto\n",
    "XtotalesSinInfartos=Xtotales[numeroinfartos:]\n",
    "YtotalesSinInfartos=Ytotales[numeroinfartos:]"
   ]
  },
  {
   "cell_type": "code",
   "execution_count": 226,
   "metadata": {
    "scrolled": true
   },
   "outputs": [],
   "source": [
    "# de los que no hay infarto damos un 15% a test\n",
    "X, X_test, Y, Y_test = train_test_split(XtotalesSinInfartos,YtotalesSinInfartos, test_size=0.15,random_state=42)\n",
    "# ahora del train quitamos un 15% para validation\n",
    "X, X_validation, Y, Y_validation = train_test_split(X,Y, test_size=0.15,random_state=42)\n",
    "\n",
    "#unimos los infartos con los no infartos, tanto para el train, como para el validation, como para el test\n",
    "X = np.concatenate((Xinfartos, X))\n",
    "Y = np.concatenate((Yinfartos, Y))\n",
    "\n",
    "X_test = np.concatenate((X_test0, X_test))\n",
    "Y_test = np.concatenate((Y_test0, Y_test))\n",
    "\n",
    "X_validation = np.concatenate((X_validation0, X_validation))\n",
    "Y_validation = np.concatenate((Y_validation0, Y_validation))"
   ]
  },
  {
   "cell_type": "code",
   "execution_count": 227,
   "metadata": {},
   "outputs": [],
   "source": [
    "model=Sequential() #sequencial fully-conected"
   ]
  },
  {
   "cell_type": "code",
   "execution_count": 228,
   "metadata": {},
   "outputs": [],
   "source": [
    "#definimos las capas y las neuronas de cada capa.\n",
    "model.add(Dense(165,input_dim=Dseparacion.shape[1],activation='relu')) # capa de entra y capa ocula\n",
    "model.add(Dense(55, activation='relu'))\n",
    "model.add(Dense(40, activation='relu'))\n",
    "model.add(Dense(1, activation='sigmoid')) # salida"
   ]
  },
  {
   "cell_type": "code",
   "execution_count": 229,
   "metadata": {},
   "outputs": [],
   "source": [
    "model.compile(loss='mean_squared_error', optimizer='adam', metrics=['accuracy'])# poneoms de optimizador =\"adam\""
   ]
  },
  {
   "cell_type": "code",
   "execution_count": 230,
   "metadata": {
    "scrolled": true
   },
   "outputs": [
    {
     "name": "stdout",
     "output_type": "stream",
     "text": [
      "Epoch 1/35\n",
      "112/112 [==============================] - 0s 3ms/step - loss: 0.0624 - accuracy: 0.9430 - val_loss: 0.0294 - val_accuracy: 0.9693\n",
      "Epoch 2/35\n",
      "112/112 [==============================] - 0s 1ms/step - loss: 0.0426 - accuracy: 0.9526 - val_loss: 0.0313 - val_accuracy: 0.9693\n",
      "Epoch 3/35\n",
      "112/112 [==============================] - 0s 1ms/step - loss: 0.0417 - accuracy: 0.9526 - val_loss: 0.0297 - val_accuracy: 0.9693\n",
      "Epoch 4/35\n",
      "112/112 [==============================] - 0s 1ms/step - loss: 0.0410 - accuracy: 0.9526 - val_loss: 0.0300 - val_accuracy: 0.9693\n",
      "Epoch 5/35\n",
      "112/112 [==============================] - 0s 2ms/step - loss: 0.0413 - accuracy: 0.9526 - val_loss: 0.0314 - val_accuracy: 0.9693\n",
      "Epoch 6/35\n",
      "112/112 [==============================] - 0s 2ms/step - loss: 0.0405 - accuracy: 0.9526 - val_loss: 0.0311 - val_accuracy: 0.9693\n",
      "Epoch 7/35\n",
      "112/112 [==============================] - 0s 1ms/step - loss: 0.0403 - accuracy: 0.9526 - val_loss: 0.0324 - val_accuracy: 0.9693\n",
      "Epoch 8/35\n",
      "112/112 [==============================] - 0s 1ms/step - loss: 0.0404 - accuracy: 0.9526 - val_loss: 0.0293 - val_accuracy: 0.9693\n",
      "Epoch 9/35\n",
      "112/112 [==============================] - 0s 1ms/step - loss: 0.0400 - accuracy: 0.9526 - val_loss: 0.0300 - val_accuracy: 0.9693\n",
      "Epoch 10/35\n",
      "112/112 [==============================] - 0s 1ms/step - loss: 0.0397 - accuracy: 0.9526 - val_loss: 0.0314 - val_accuracy: 0.9693\n",
      "Epoch 11/35\n",
      "112/112 [==============================] - 0s 1ms/step - loss: 0.0400 - accuracy: 0.9526 - val_loss: 0.0309 - val_accuracy: 0.9693\n",
      "Epoch 12/35\n",
      "112/112 [==============================] - 0s 1ms/step - loss: 0.0392 - accuracy: 0.9520 - val_loss: 0.0301 - val_accuracy: 0.9693\n",
      "Epoch 13/35\n",
      "112/112 [==============================] - 0s 1ms/step - loss: 0.0392 - accuracy: 0.9529 - val_loss: 0.0349 - val_accuracy: 0.9677\n",
      "Epoch 14/35\n",
      "112/112 [==============================] - 0s 2ms/step - loss: 0.0388 - accuracy: 0.9537 - val_loss: 0.0309 - val_accuracy: 0.9693\n",
      "Epoch 15/35\n",
      "112/112 [==============================] - 0s 1ms/step - loss: 0.0391 - accuracy: 0.9523 - val_loss: 0.0319 - val_accuracy: 0.9693\n",
      "Epoch 16/35\n",
      "112/112 [==============================] - 0s 1ms/step - loss: 0.0382 - accuracy: 0.9540 - val_loss: 0.0311 - val_accuracy: 0.9693\n",
      "Epoch 17/35\n",
      "112/112 [==============================] - 0s 1ms/step - loss: 0.0380 - accuracy: 0.9534 - val_loss: 0.0335 - val_accuracy: 0.9661\n",
      "Epoch 18/35\n",
      "112/112 [==============================] - 0s 1ms/step - loss: 0.0380 - accuracy: 0.9545 - val_loss: 0.0328 - val_accuracy: 0.9693\n",
      "Epoch 19/35\n",
      "112/112 [==============================] - 0s 2ms/step - loss: 0.0376 - accuracy: 0.9554 - val_loss: 0.0341 - val_accuracy: 0.9661\n",
      "Epoch 20/35\n",
      "112/112 [==============================] - 0s 1ms/step - loss: 0.0374 - accuracy: 0.9551 - val_loss: 0.0373 - val_accuracy: 0.9628\n",
      "Epoch 21/35\n",
      "112/112 [==============================] - 0s 2ms/step - loss: 0.0371 - accuracy: 0.9562 - val_loss: 0.0318 - val_accuracy: 0.9661\n",
      "Epoch 22/35\n",
      "112/112 [==============================] - 0s 1ms/step - loss: 0.0368 - accuracy: 0.9562 - val_loss: 0.0374 - val_accuracy: 0.9612\n",
      "Epoch 23/35\n",
      "112/112 [==============================] - 0s 1ms/step - loss: 0.0362 - accuracy: 0.9576 - val_loss: 0.0371 - val_accuracy: 0.9580\n",
      "Epoch 24/35\n",
      "112/112 [==============================] - 0s 2ms/step - loss: 0.0359 - accuracy: 0.9585 - val_loss: 0.0362 - val_accuracy: 0.9628\n",
      "Epoch 25/35\n",
      "112/112 [==============================] - 0s 2ms/step - loss: 0.0357 - accuracy: 0.9582 - val_loss: 0.0353 - val_accuracy: 0.9596\n",
      "Epoch 26/35\n",
      "112/112 [==============================] - 0s 2ms/step - loss: 0.0353 - accuracy: 0.9593 - val_loss: 0.0327 - val_accuracy: 0.9661\n",
      "Epoch 27/35\n",
      "112/112 [==============================] - 0s 2ms/step - loss: 0.0353 - accuracy: 0.9585 - val_loss: 0.0359 - val_accuracy: 0.9596\n",
      "Epoch 28/35\n",
      "112/112 [==============================] - 0s 2ms/step - loss: 0.0343 - accuracy: 0.9604 - val_loss: 0.0366 - val_accuracy: 0.9612\n",
      "Epoch 29/35\n",
      "112/112 [==============================] - 0s 1ms/step - loss: 0.0347 - accuracy: 0.9602 - val_loss: 0.0364 - val_accuracy: 0.9596\n",
      "Epoch 30/35\n",
      "112/112 [==============================] - 0s 1ms/step - loss: 0.0336 - accuracy: 0.9621 - val_loss: 0.0338 - val_accuracy: 0.9612\n",
      "Epoch 31/35\n",
      "112/112 [==============================] - 0s 1ms/step - loss: 0.0335 - accuracy: 0.9618 - val_loss: 0.0407 - val_accuracy: 0.9499\n",
      "Epoch 32/35\n",
      "112/112 [==============================] - 0s 2ms/step - loss: 0.0333 - accuracy: 0.9604 - val_loss: 0.0345 - val_accuracy: 0.9612\n",
      "Epoch 33/35\n",
      "112/112 [==============================] - 0s 2ms/step - loss: 0.0333 - accuracy: 0.9610 - val_loss: 0.0391 - val_accuracy: 0.9548\n",
      "Epoch 34/35\n",
      "112/112 [==============================] - 0s 2ms/step - loss: 0.0328 - accuracy: 0.9624 - val_loss: 0.0372 - val_accuracy: 0.9580\n",
      "Epoch 35/35\n",
      "112/112 [==============================] - 0s 2ms/step - loss: 0.0321 - accuracy: 0.9621 - val_loss: 0.0394 - val_accuracy: 0.9580\n"
     ]
    }
   ],
   "source": [
    "hist=model.fit(X, Y,batch_size=32,validation_data=(X_validation,Y_validation), epochs=35)"
   ]
  },
  {
   "cell_type": "code",
   "execution_count": 231,
   "metadata": {},
   "outputs": [
    {
     "name": "stdout",
     "output_type": "stream",
     "text": [
      "112/112 [==============================] - 0s 1ms/step - loss: 0.0301 - accuracy: 0.9655\n"
     ]
    },
    {
     "data": {
      "text/plain": [
       "[0.030083337798714638, 0.9654881954193115]"
      ]
     },
     "execution_count": 231,
     "metadata": {},
     "output_type": "execute_result"
    }
   ],
   "source": [
    "model.evaluate(X, Y) # del train"
   ]
  },
  {
   "cell_type": "code",
   "execution_count": 232,
   "metadata": {},
   "outputs": [
    {
     "name": "stdout",
     "output_type": "stream",
     "text": [
      "20/20 [==============================] - 0s 1ms/step - loss: 0.0394 - accuracy: 0.9580\n"
     ]
    },
    {
     "data": {
      "text/plain": [
       "[0.039445243775844574, 0.9579967856407166]"
      ]
     },
     "execution_count": 232,
     "metadata": {},
     "output_type": "execute_result"
    }
   ],
   "source": [
    "model.evaluate(X_validation, Y_validation) # del validation"
   ]
  },
  {
   "cell_type": "code",
   "execution_count": 233,
   "metadata": {
    "scrolled": true
   },
   "outputs": [
    {
     "data": {
      "image/png": "[encoded data removed]",
      "text/plain": [
       "<Figure size 432x288 with 1 Axes>"
      ]
     },
     "metadata": {
      "needs_background": "light"
     },
     "output_type": "display_data"
    }
   ],
   "source": [
    "#representamos el model accuracy\n",
    "plt.plot(hist.history['accuracy'])\n",
    "plt.plot(hist.history['val_accuracy'])\n",
    "plt.title('model accuracy')\n",
    "plt.ylabel('accuracy') # eje y\n",
    "plt.xlabel('epoch') # eje x\n",
    "plt.legend(['train', 'validacion'], loc='upper left') # ponemos la leyenda\n",
    "plt.show() # lo mostramos\n"
   ]
  },
  {
   "cell_type": "code",
   "execution_count": 234,
   "metadata": {},
   "outputs": [
    {
     "data": {
      "image/png": "[encoded data removed]",
      "text/plain": [
       "<Figure size 432x288 with 1 Axes>"
      ]
     },
     "metadata": {
      "needs_background": "light"
     },
     "output_type": "display_data"
    }
   ],
   "source": [
    "#representamos el model loss\n",
    "plt.plot(hist.history['loss'])\n",
    "plt.plot(hist.history['val_loss'])\n",
    "plt.title('model loss') # titulo\n",
    "plt.ylabel('loss') # eje y\n",
    "plt.xlabel('epoch') # eje x\n",
    "plt.legend(['train', 'validacion'], loc='upper left') # leyenda\n",
    "plt.show() # lo mostramos"
   ]
  },
  {
   "cell_type": "markdown",
   "metadata": {},
   "source": [
    "### Confusion matrix Total de datos"
   ]
  },
  {
   "cell_type": "code",
   "execution_count": 235,
   "metadata": {},
   "outputs": [
    {
     "name": "stdout",
     "output_type": "stream",
     "text": [
      "[[  53  156]\n",
      " [  21 4679]]\n"
     ]
    },
    {
     "data": {
      "image/png": "[encoded data removed]",
      "text/plain": [
       "<Figure size 432x288 with 2 Axes>"
      ]
     },
     "metadata": {
      "needs_background": "light"
     },
     "output_type": "display_data"
    }
   ],
   "source": [
    "YpredictT=model(Xtotales) # las predictiones para los datos\n",
    "YpredictT=YpredictT.numpy() # los pasamos a numpy\n",
    "YpredictT=YpredictT.round() # los redondeamos\n",
    "YpredictT = YpredictT.astype(np.int64) # los ponemos tipo integer\n",
    "\n",
    "#sacamos la matriz de confusion\n",
    "labl=[1,0]\n",
    "matrix = confusion_matrix(Ytotales.flatten(), YpredictT.flatten(),labels=labl)\n",
    "\n",
    "print(matrix) # imprimimos la matriz\n",
    "fig = plt.figure()\n",
    "ax = fig.add_subplot(111)\n",
    "cax = ax.matshow(matrix,cmap='Wistia')#Establecemos los colores\n",
    "plt.title('Confusion matrix Total') # ponemos los titulos\n",
    "\n",
    "#fig.colorbar(cax)\n",
    "ax.set_xticks(labl)\n",
    "ax.set_yticks(labl)\n",
    "ax.set_xticklabels(['Modelo negativo(0)','Modelo Positivo(1)'])\n",
    "ax.set_yticklabels(['Real negativo(0)','Real Positivo(1)'])\n",
    "plt.colorbar(cax) # enseñamos la barra de colores\n",
    "\n",
    "# esto lo hacemos para poner en cada cuadrado el nuemro correspondiente y el color verde o rojo\n",
    "for (i, j), z in np.ndenumerate(matrix): # recorremos la matriz\n",
    "    t=ax.text(j, i, '{:0.1f}'.format(z), ha='center', va='center')\n",
    "    if i ==j: #si es 0,0 o 1,1 enotnces poneos el color verde\n",
    "        t.set_bbox(dict(facecolor='green', edgecolor='green' ,linewidth=20))\n",
    "    else: # sino ponemos el rojo\n",
    "        t.set_bbox(dict(facecolor='red', edgecolor='red' ,linewidth=20))\n",
    "\n",
    "plt.show() #lo mostramos"
   ]
  },
  {
   "cell_type": "markdown",
   "metadata": {},
   "source": [
    "### Confusion matrix datos de prueba"
   ]
  },
  {
   "cell_type": "code",
   "execution_count": 236,
   "metadata": {},
   "outputs": [
    {
     "name": "stdout",
     "output_type": "stream",
     "text": [
      "[[  2  19]\n",
      " [  9 696]]\n"
     ]
    },
    {
     "data": {
      "image/png": "[encoded data removed]",
      "text/plain": [
       "<Figure size 432x288 with 2 Axes>"
      ]
     },
     "metadata": {
      "needs_background": "light"
     },
     "output_type": "display_data"
    }
   ],
   "source": [
    "Ypredict=model(X_test) # las predictiones para los datos\n",
    "Ypredict=Ypredict.numpy() # los pasamos a numpy\n",
    "Ypredict=Ypredict.round() # los redondeamos\n",
    "Ypredict = Ypredict.astype(np.int64) # los ponemos tipo integer\n",
    "\n",
    "#sacamos la matriz de confusion\n",
    "labl=[1,0]\n",
    "matrix = confusion_matrix(Y_test.flatten(), Ypredict.flatten(),labels=labl)\n",
    "\n",
    "print(matrix) # imprimimos la matriz\n",
    "fig = plt.figure()\n",
    "ax = fig.add_subplot(111)\n",
    "cax = ax.matshow(matrix,cmap='Wistia')#Establecemos los colores\n",
    "plt.title('Confusion matrix datos prueba') # ponemos los titulos\n",
    "\n",
    "#fig.colorbar(cax)\n",
    "ax.set_xticks(labl)\n",
    "ax.set_yticks(labl)\n",
    "ax.set_xticklabels(['Modelo negativo(0)','Modelo Positivo(1)'])\n",
    "ax.set_yticklabels(['Real negativo(0)','Real Positivo(1)'])\n",
    "plt.colorbar(cax) # enseñamos la barra de colores\n",
    "\n",
    "# esto lo hacemos para poner en cada cuadrado el nuemro correspondiente y el color verde o rojo\n",
    "for (i, j), z in np.ndenumerate(matrix): # recorremos la matriz\n",
    "    t=ax.text(j, i, '{:0.1f}'.format(z), ha='center', va='center')\n",
    "    if i ==j: #si es 0,0 o 1,1 enotnces poneos el color verde\n",
    "        t.set_bbox(dict(facecolor='green', edgecolor='green' ,linewidth=20))\n",
    "    else: # sino ponemos el rojo\n",
    "        t.set_bbox(dict(facecolor='red', edgecolor='red' ,linewidth=20))\n",
    "\n",
    "plt.show() #lo mostramos"
   ]
  },
  {
   "cell_type": "markdown",
   "metadata": {},
   "source": [
    "![title](a.png)"
   ]
  },
  {
   "cell_type": "markdown",
   "metadata": {},
   "source": [
    "### Test"
   ]
  },
  {
   "cell_type": "code",
   "execution_count": 237,
   "metadata": {},
   "outputs": [
    {
     "name": "stdout",
     "output_type": "stream",
     "text": [
      "precision test:0.18181818181818182\n",
      "recall test:0.09523809523809523\n",
      "accuracy test:0.9614325068870524\n"
     ]
    }
   ],
   "source": [
    "print(\"precision test:\" + str(precision_score(Y_test, Ypredict))) # sacamos la precision\n",
    "print(\"recall test:\" + str(recall_score(Y_test, Ypredict))) # sacamos el recall\n",
    "print(\"accuracy test:\" + str(accuracy_score(Y_test, Ypredict))) # sacamos el accuracy\n"
   ]
  },
  {
   "cell_type": "markdown",
   "metadata": {},
   "source": [
    "### Totales"
   ]
  },
  {
   "cell_type": "code",
   "execution_count": 238,
   "metadata": {
    "scrolled": true
   },
   "outputs": [
    {
     "name": "stdout",
     "output_type": "stream",
     "text": [
      "precision total:0.7162162162162162\n",
      "recall total:0.2535885167464115\n",
      "accuracy total:0.9639437767366063\n"
     ]
    }
   ],
   "source": [
    "print(\"precision total:\" + str(precision_score(Ytotales, YpredictT)))  # sacamos la precision\n",
    "print(\"recall total:\" + str(recall_score(Ytotales, YpredictT)))  # sacamos el recall\n",
    "print(\"accuracy total:\" + str(accuracy_score(Ytotales, YpredictT))) # sacamos el accuracy"
   ]
  },
  {
   "cell_type": "markdown",
   "metadata": {},
   "source": [
    "### Que caracteristica influye mas o menos"
   ]
  },
  {
   "cell_type": "code",
   "execution_count": 239,
   "metadata": {},
   "outputs": [
    {
     "name": "stdout",
     "output_type": "stream",
     "text": [
      "genero\n",
      "0.13379514\n",
      "edad\n",
      "0.14631346\n",
      "hipertensión\n",
      "0.09800337\n",
      "enfermedad_coronaria\n",
      "0.09702198\n",
      "casado\n",
      "0.10366627\n",
      "trabajo\n",
      "0.11630464\n",
      "residencia\n",
      "0.103384085\n",
      "nivel_glucosa\n",
      "0.13325961\n",
      "bmi\n",
      "0.15152863\n",
      "uso_tabaco\n",
      "0.115261935\n"
     ]
    }
   ],
   "source": [
    "#sacamos la media de los pesos conectados a cada entrada, para saber cual de ellas influyen mas\n",
    "temp=abs(model.get_weights()[0])\n",
    "for index,x in enumerate(temp):\n",
    "    print(Dseparacion.columns[index]) #imprimimos el nombre de cada entrada\n",
    "    print(x.mean()) # imprimimos la media"
   ]
  },
  {
   "cell_type": "code",
   "execution_count": null,
   "metadata": {},
   "outputs": [],
   "source": []
  },
  {
   "cell_type": "code",
   "execution_count": null,
   "metadata": {},
   "outputs": [],
   "source": []
  }
 ],
 "metadata": {
  "kernelspec": {
   "display_name": "Python 3",
   "language": "python",
   "name": "python3"
  },
  "language_info": {
   "codemirror_mode": {
    "name": "ipython",
    "version": 3
   },
   "file_extension": ".py",
   "mimetype": "text/x-python",
   "name": "python",
   "nbconvert_exporter": "python",
   "pygments_lexer": "ipython3",
   "version": "3.8.8"
  }
 },
 "nbformat": 4,
 "nbformat_minor": 4
}
