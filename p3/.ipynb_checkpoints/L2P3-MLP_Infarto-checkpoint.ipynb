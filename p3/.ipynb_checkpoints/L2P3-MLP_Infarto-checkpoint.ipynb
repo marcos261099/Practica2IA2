{
 "cells": [
  {
   "cell_type": "code",
   "execution_count": 2714,
   "metadata": {},
   "outputs": [],
   "source": [
    "from tensorflow.keras.models import Sequential\n",
    "from tensorflow.keras.layers import Dense\n",
    "from tensorflow.keras import optimizers\n",
    "from tensorflow.keras.optimizers import SGD\n",
    "import matplotlib.pyplot as plt\n",
    "import numpy as np\n",
    "import pandas as pd\n",
    "from sklearn import preprocessing\n",
    "from sklearn.model_selection import train_test_split\n"
   ]
  },
  {
   "cell_type": "code",
   "execution_count": 2715,
   "metadata": {},
   "outputs": [
    {
     "data": {
      "text/html": [
       "<div>\n",
       "<style scoped>\n",
       "    .dataframe tbody tr th:only-of-type {\n",
       "        vertical-align: middle;\n",
       "    }\n",
       "\n",
       "    .dataframe tbody tr th {\n",
       "        vertical-align: top;\n",
       "    }\n",
       "\n",
       "    .dataframe thead th {\n",
       "        text-align: right;\n",
       "    }\n",
       "</style>\n",
       "<table border=\"1\" class=\"dataframe\">\n",
       "  <thead>\n",
       "    <tr style=\"text-align: right;\">\n",
       "      <th></th>\n",
       "      <th>id</th>\n",
       "      <th>genero</th>\n",
       "      <th>edad</th>\n",
       "      <th>hipertensión</th>\n",
       "      <th>enfermedad_coronaria</th>\n",
       "      <th>casado</th>\n",
       "      <th>trabajo</th>\n",
       "      <th>residencia</th>\n",
       "      <th>nivel_glucosa</th>\n",
       "      <th>bmi</th>\n",
       "      <th>uso_tabaco</th>\n",
       "      <th>infarto</th>\n",
       "    </tr>\n",
       "  </thead>\n",
       "  <tbody>\n",
       "    <tr>\n",
       "      <th>0</th>\n",
       "      <td>9046</td>\n",
       "      <td>Masculino</td>\n",
       "      <td>67.0</td>\n",
       "      <td>0</td>\n",
       "      <td>1</td>\n",
       "      <td>Si</td>\n",
       "      <td>Privado</td>\n",
       "      <td>Urbana</td>\n",
       "      <td>228.69</td>\n",
       "      <td>36.6</td>\n",
       "      <td>Ex fumador</td>\n",
       "      <td>1</td>\n",
       "    </tr>\n",
       "    <tr>\n",
       "      <th>1</th>\n",
       "      <td>51676</td>\n",
       "      <td>Femenino</td>\n",
       "      <td>61.0</td>\n",
       "      <td>0</td>\n",
       "      <td>0</td>\n",
       "      <td>Si</td>\n",
       "      <td>Autonomo</td>\n",
       "      <td>Rural</td>\n",
       "      <td>202.21</td>\n",
       "      <td>NaN</td>\n",
       "      <td>Nunca</td>\n",
       "      <td>1</td>\n",
       "    </tr>\n",
       "    <tr>\n",
       "      <th>2</th>\n",
       "      <td>31112</td>\n",
       "      <td>Masculino</td>\n",
       "      <td>80.0</td>\n",
       "      <td>0</td>\n",
       "      <td>1</td>\n",
       "      <td>Si</td>\n",
       "      <td>Privado</td>\n",
       "      <td>Rural</td>\n",
       "      <td>105.92</td>\n",
       "      <td>32.5</td>\n",
       "      <td>Nunca</td>\n",
       "      <td>1</td>\n",
       "    </tr>\n",
       "    <tr>\n",
       "      <th>3</th>\n",
       "      <td>60182</td>\n",
       "      <td>Femenino</td>\n",
       "      <td>49.0</td>\n",
       "      <td>0</td>\n",
       "      <td>0</td>\n",
       "      <td>Si</td>\n",
       "      <td>Privado</td>\n",
       "      <td>Urbana</td>\n",
       "      <td>171.23</td>\n",
       "      <td>34.4</td>\n",
       "      <td>Fumador</td>\n",
       "      <td>1</td>\n",
       "    </tr>\n",
       "    <tr>\n",
       "      <th>4</th>\n",
       "      <td>1665</td>\n",
       "      <td>Femenino</td>\n",
       "      <td>79.0</td>\n",
       "      <td>1</td>\n",
       "      <td>0</td>\n",
       "      <td>Si</td>\n",
       "      <td>Autonomo</td>\n",
       "      <td>Rural</td>\n",
       "      <td>174.12</td>\n",
       "      <td>24.0</td>\n",
       "      <td>Nunca</td>\n",
       "      <td>1</td>\n",
       "    </tr>\n",
       "    <tr>\n",
       "      <th>...</th>\n",
       "      <td>...</td>\n",
       "      <td>...</td>\n",
       "      <td>...</td>\n",
       "      <td>...</td>\n",
       "      <td>...</td>\n",
       "      <td>...</td>\n",
       "      <td>...</td>\n",
       "      <td>...</td>\n",
       "      <td>...</td>\n",
       "      <td>...</td>\n",
       "      <td>...</td>\n",
       "      <td>...</td>\n",
       "    </tr>\n",
       "    <tr>\n",
       "      <th>5105</th>\n",
       "      <td>18234</td>\n",
       "      <td>Femenino</td>\n",
       "      <td>80.0</td>\n",
       "      <td>1</td>\n",
       "      <td>0</td>\n",
       "      <td>Si</td>\n",
       "      <td>Privado</td>\n",
       "      <td>Urbana</td>\n",
       "      <td>83.75</td>\n",
       "      <td>NaN</td>\n",
       "      <td>Nunca</td>\n",
       "      <td>0</td>\n",
       "    </tr>\n",
       "    <tr>\n",
       "      <th>5106</th>\n",
       "      <td>44873</td>\n",
       "      <td>Femenino</td>\n",
       "      <td>81.0</td>\n",
       "      <td>0</td>\n",
       "      <td>0</td>\n",
       "      <td>Si</td>\n",
       "      <td>Autonomo</td>\n",
       "      <td>Urbana</td>\n",
       "      <td>125.20</td>\n",
       "      <td>40.0</td>\n",
       "      <td>Nunca</td>\n",
       "      <td>0</td>\n",
       "    </tr>\n",
       "    <tr>\n",
       "      <th>5107</th>\n",
       "      <td>19723</td>\n",
       "      <td>Femenino</td>\n",
       "      <td>35.0</td>\n",
       "      <td>0</td>\n",
       "      <td>0</td>\n",
       "      <td>Si</td>\n",
       "      <td>Autonomo</td>\n",
       "      <td>Rural</td>\n",
       "      <td>82.99</td>\n",
       "      <td>30.6</td>\n",
       "      <td>Nunca</td>\n",
       "      <td>0</td>\n",
       "    </tr>\n",
       "    <tr>\n",
       "      <th>5108</th>\n",
       "      <td>37544</td>\n",
       "      <td>Masculino</td>\n",
       "      <td>51.0</td>\n",
       "      <td>0</td>\n",
       "      <td>0</td>\n",
       "      <td>Si</td>\n",
       "      <td>Privado</td>\n",
       "      <td>Rural</td>\n",
       "      <td>166.29</td>\n",
       "      <td>25.6</td>\n",
       "      <td>Ex fumador</td>\n",
       "      <td>0</td>\n",
       "    </tr>\n",
       "    <tr>\n",
       "      <th>5109</th>\n",
       "      <td>44679</td>\n",
       "      <td>Femenino</td>\n",
       "      <td>44.0</td>\n",
       "      <td>0</td>\n",
       "      <td>0</td>\n",
       "      <td>Si</td>\n",
       "      <td>Funcionario</td>\n",
       "      <td>Urbana</td>\n",
       "      <td>85.28</td>\n",
       "      <td>26.2</td>\n",
       "      <td>NSNC</td>\n",
       "      <td>0</td>\n",
       "    </tr>\n",
       "  </tbody>\n",
       "</table>\n",
       "<p>5110 rows × 12 columns</p>\n",
       "</div>"
      ],
      "text/plain": [
       "         id     genero  edad  hipertensión  enfermedad_coronaria casado  \\\n",
       "0      9046  Masculino  67.0             0                     1     Si   \n",
       "1     51676   Femenino  61.0             0                     0     Si   \n",
       "2     31112  Masculino  80.0             0                     1     Si   \n",
       "3     60182   Femenino  49.0             0                     0     Si   \n",
       "4      1665   Femenino  79.0             1                     0     Si   \n",
       "...     ...        ...   ...           ...                   ...    ...   \n",
       "5105  18234   Femenino  80.0             1                     0     Si   \n",
       "5106  44873   Femenino  81.0             0                     0     Si   \n",
       "5107  19723   Femenino  35.0             0                     0     Si   \n",
       "5108  37544  Masculino  51.0             0                     0     Si   \n",
       "5109  44679   Femenino  44.0             0                     0     Si   \n",
       "\n",
       "          trabajo residencia  nivel_glucosa   bmi  uso_tabaco  infarto  \n",
       "0         Privado     Urbana         228.69  36.6  Ex fumador        1  \n",
       "1        Autonomo      Rural         202.21   NaN       Nunca        1  \n",
       "2         Privado      Rural         105.92  32.5       Nunca        1  \n",
       "3         Privado     Urbana         171.23  34.4     Fumador        1  \n",
       "4        Autonomo      Rural         174.12  24.0       Nunca        1  \n",
       "...           ...        ...            ...   ...         ...      ...  \n",
       "5105      Privado     Urbana          83.75   NaN       Nunca        0  \n",
       "5106     Autonomo     Urbana         125.20  40.0       Nunca        0  \n",
       "5107     Autonomo      Rural          82.99  30.6       Nunca        0  \n",
       "5108      Privado      Rural         166.29  25.6  Ex fumador        0  \n",
       "5109  Funcionario     Urbana          85.28  26.2        NSNC        0  \n",
       "\n",
       "[5110 rows x 12 columns]"
      ]
     },
     "execution_count": 2715,
     "metadata": {},
     "output_type": "execute_result"
    }
   ],
   "source": [
    "pd.set_option('display.max_rows', 10)\n",
    "DataFrameOrg=pd.read_csv('infarto.csv',delimiter=';')\n",
    "DataFrameOrg"
   ]
  },
  {
   "cell_type": "code",
   "execution_count": 2716,
   "metadata": {},
   "outputs": [
    {
     "data": {
      "text/plain": [
       "genero                    0\n",
       "edad                      0\n",
       "hipertensión              0\n",
       "enfermedad_coronaria      0\n",
       "casado                    0\n",
       "                       ... \n",
       "residencia                0\n",
       "nivel_glucosa             0\n",
       "bmi                     201\n",
       "uso_tabaco                0\n",
       "infarto                   0\n",
       "Length: 11, dtype: int64"
      ]
     },
     "execution_count": 2716,
     "metadata": {},
     "output_type": "execute_result"
    }
   ],
   "source": [
    "DataFrame=DataFrameOrg.drop(columns=[\"id\"])\n",
    "DataFrame.isnull().sum()"
   ]
  },
  {
   "cell_type": "code",
   "execution_count": 2717,
   "metadata": {},
   "outputs": [
    {
     "data": {
      "text/plain": [
       "genero                   object\n",
       "edad                    float64\n",
       "hipertensión              int64\n",
       "enfermedad_coronaria      int64\n",
       "casado                   object\n",
       "                         ...   \n",
       "residencia               object\n",
       "nivel_glucosa           float64\n",
       "bmi                     float64\n",
       "uso_tabaco               object\n",
       "infarto                   int64\n",
       "Length: 11, dtype: object"
      ]
     },
     "execution_count": 2717,
     "metadata": {},
     "output_type": "execute_result"
    }
   ],
   "source": [
    "DataFrameSinNa=DataFrame.dropna().copy()\n",
    "DataFrameSinNa.dtypes\n",
    "#DataFrameSinNa=DataFrameSinNa.loc[DataFrameSinNa['uso_tabaco']!='NSNC']"
   ]
  },
  {
   "cell_type": "code",
   "execution_count": 2718,
   "metadata": {},
   "outputs": [],
   "source": [
    "listaAleatorio=np.arange(0,DataFrameSinNa.shape[0]).tolist()\n",
    "indexA=[]\n",
    "for x in range(DataFrameSinNa.shape[0]):\n",
    "    valor=np.random.choice(listaAleatorio)\n",
    "    indexA.append(valor)\n",
    "    listaAleatorio.remove(valor)\n",
    "DataFrameSinNa['indexA'] = indexA\n",
    "DataFrameSinNa=DataFrameSinNa.sort_values(by=['indexA'])\n",
    "DataFrameSinNa=DataFrameSinNa.drop(columns=[\"indexA\"])"
   ]
  },
  {
   "cell_type": "code",
   "execution_count": 2719,
   "metadata": {},
   "outputs": [
    {
     "data": {
      "text/plain": [
       "Femenino     2897\n",
       "Masculino    2011\n",
       "Other           1\n",
       "Name: genero, dtype: int64"
      ]
     },
     "execution_count": 2719,
     "metadata": {},
     "output_type": "execute_result"
    }
   ],
   "source": [
    "DataFrameSinNa['genero'].value_counts()"
   ]
  },
  {
   "cell_type": "code",
   "execution_count": 2720,
   "metadata": {},
   "outputs": [
    {
     "data": {
      "text/plain": [
       "Si    3204\n",
       "No    1705\n",
       "Name: casado, dtype: int64"
      ]
     },
     "execution_count": 2720,
     "metadata": {},
     "output_type": "execute_result"
    }
   ],
   "source": [
    "DataFrameSinNa['casado'].value_counts()"
   ]
  },
  {
   "cell_type": "code",
   "execution_count": 2721,
   "metadata": {},
   "outputs": [
    {
     "data": {
      "text/plain": [
       "Privado          2811\n",
       "Autonomo          775\n",
       "Menor de edad     671\n",
       "Funcionario       630\n",
       "Sin trabajo        22\n",
       "Name: trabajo, dtype: int64"
      ]
     },
     "execution_count": 2721,
     "metadata": {},
     "output_type": "execute_result"
    }
   ],
   "source": [
    "DataFrameSinNa['trabajo'].value_counts()"
   ]
  },
  {
   "cell_type": "code",
   "execution_count": 2722,
   "metadata": {},
   "outputs": [
    {
     "data": {
      "text/plain": [
       "Urbana    2490\n",
       "Rural     2419\n",
       "Name: residencia, dtype: int64"
      ]
     },
     "execution_count": 2722,
     "metadata": {},
     "output_type": "execute_result"
    }
   ],
   "source": [
    "DataFrameSinNa['residencia'].value_counts()"
   ]
  },
  {
   "cell_type": "code",
   "execution_count": 2723,
   "metadata": {},
   "outputs": [
    {
     "data": {
      "text/plain": [
       "Nunca         1852\n",
       "NSNC          1483\n",
       "Ex fumador     837\n",
       "Fumador        737\n",
       "Name: uso_tabaco, dtype: int64"
      ]
     },
     "execution_count": 2723,
     "metadata": {},
     "output_type": "execute_result"
    }
   ],
   "source": [
    "DataFrameSinNa['uso_tabaco'].value_counts()"
   ]
  },
  {
   "cell_type": "code",
   "execution_count": 2724,
   "metadata": {},
   "outputs": [
    {
     "data": {
      "text/html": [
       "<div>\n",
       "<style scoped>\n",
       "    .dataframe tbody tr th:only-of-type {\n",
       "        vertical-align: middle;\n",
       "    }\n",
       "\n",
       "    .dataframe tbody tr th {\n",
       "        vertical-align: top;\n",
       "    }\n",
       "\n",
       "    .dataframe thead th {\n",
       "        text-align: right;\n",
       "    }\n",
       "</style>\n",
       "<table border=\"1\" class=\"dataframe\">\n",
       "  <thead>\n",
       "    <tr style=\"text-align: right;\">\n",
       "      <th></th>\n",
       "      <th>genero</th>\n",
       "      <th>edad</th>\n",
       "      <th>hipertensión</th>\n",
       "      <th>enfermedad_coronaria</th>\n",
       "      <th>casado</th>\n",
       "      <th>trabajo</th>\n",
       "      <th>residencia</th>\n",
       "      <th>nivel_glucosa</th>\n",
       "      <th>bmi</th>\n",
       "      <th>uso_tabaco</th>\n",
       "      <th>infarto</th>\n",
       "    </tr>\n",
       "  </thead>\n",
       "  <tbody>\n",
       "    <tr>\n",
       "      <th>930</th>\n",
       "      <td>Masculino</td>\n",
       "      <td>80.0</td>\n",
       "      <td>0</td>\n",
       "      <td>0</td>\n",
       "      <td>Si</td>\n",
       "      <td>Autonomo</td>\n",
       "      <td>Rural</td>\n",
       "      <td>236.84</td>\n",
       "      <td>26.8</td>\n",
       "      <td>Nunca</td>\n",
       "      <td>0</td>\n",
       "    </tr>\n",
       "    <tr>\n",
       "      <th>1200</th>\n",
       "      <td>Femenino</td>\n",
       "      <td>76.0</td>\n",
       "      <td>0</td>\n",
       "      <td>0</td>\n",
       "      <td>Si</td>\n",
       "      <td>Privado</td>\n",
       "      <td>Urbana</td>\n",
       "      <td>198.02</td>\n",
       "      <td>38.7</td>\n",
       "      <td>NSNC</td>\n",
       "      <td>0</td>\n",
       "    </tr>\n",
       "    <tr>\n",
       "      <th>1315</th>\n",
       "      <td>Masculino</td>\n",
       "      <td>55.0</td>\n",
       "      <td>1</td>\n",
       "      <td>0</td>\n",
       "      <td>Si</td>\n",
       "      <td>Autonomo</td>\n",
       "      <td>Rural</td>\n",
       "      <td>82.81</td>\n",
       "      <td>44.3</td>\n",
       "      <td>Nunca</td>\n",
       "      <td>0</td>\n",
       "    </tr>\n",
       "    <tr>\n",
       "      <th>992</th>\n",
       "      <td>Masculino</td>\n",
       "      <td>82.0</td>\n",
       "      <td>0</td>\n",
       "      <td>1</td>\n",
       "      <td>Si</td>\n",
       "      <td>Autonomo</td>\n",
       "      <td>Rural</td>\n",
       "      <td>72.93</td>\n",
       "      <td>27.1</td>\n",
       "      <td>Ex fumador</td>\n",
       "      <td>0</td>\n",
       "    </tr>\n",
       "    <tr>\n",
       "      <th>2721</th>\n",
       "      <td>Femenino</td>\n",
       "      <td>17.0</td>\n",
       "      <td>0</td>\n",
       "      <td>0</td>\n",
       "      <td>No</td>\n",
       "      <td>Sin trabajo</td>\n",
       "      <td>Rural</td>\n",
       "      <td>88.57</td>\n",
       "      <td>31.1</td>\n",
       "      <td>Nunca</td>\n",
       "      <td>0</td>\n",
       "    </tr>\n",
       "    <tr>\n",
       "      <th>...</th>\n",
       "      <td>...</td>\n",
       "      <td>...</td>\n",
       "      <td>...</td>\n",
       "      <td>...</td>\n",
       "      <td>...</td>\n",
       "      <td>...</td>\n",
       "      <td>...</td>\n",
       "      <td>...</td>\n",
       "      <td>...</td>\n",
       "      <td>...</td>\n",
       "      <td>...</td>\n",
       "    </tr>\n",
       "    <tr>\n",
       "      <th>4386</th>\n",
       "      <td>Femenino</td>\n",
       "      <td>21.0</td>\n",
       "      <td>0</td>\n",
       "      <td>0</td>\n",
       "      <td>No</td>\n",
       "      <td>Privado</td>\n",
       "      <td>Rural</td>\n",
       "      <td>74.24</td>\n",
       "      <td>32.7</td>\n",
       "      <td>Nunca</td>\n",
       "      <td>0</td>\n",
       "    </tr>\n",
       "    <tr>\n",
       "      <th>261</th>\n",
       "      <td>Femenino</td>\n",
       "      <td>37.0</td>\n",
       "      <td>0</td>\n",
       "      <td>0</td>\n",
       "      <td>Si</td>\n",
       "      <td>Privado</td>\n",
       "      <td>Rural</td>\n",
       "      <td>162.96</td>\n",
       "      <td>39.4</td>\n",
       "      <td>Nunca</td>\n",
       "      <td>0</td>\n",
       "    </tr>\n",
       "    <tr>\n",
       "      <th>5046</th>\n",
       "      <td>Masculino</td>\n",
       "      <td>44.0</td>\n",
       "      <td>0</td>\n",
       "      <td>0</td>\n",
       "      <td>Si</td>\n",
       "      <td>Privado</td>\n",
       "      <td>Urbana</td>\n",
       "      <td>89.68</td>\n",
       "      <td>34.6</td>\n",
       "      <td>NSNC</td>\n",
       "      <td>0</td>\n",
       "    </tr>\n",
       "    <tr>\n",
       "      <th>3486</th>\n",
       "      <td>Femenino</td>\n",
       "      <td>13.0</td>\n",
       "      <td>0</td>\n",
       "      <td>0</td>\n",
       "      <td>No</td>\n",
       "      <td>Privado</td>\n",
       "      <td>Urbana</td>\n",
       "      <td>62.57</td>\n",
       "      <td>20.9</td>\n",
       "      <td>NSNC</td>\n",
       "      <td>0</td>\n",
       "    </tr>\n",
       "    <tr>\n",
       "      <th>1050</th>\n",
       "      <td>Masculino</td>\n",
       "      <td>61.0</td>\n",
       "      <td>0</td>\n",
       "      <td>0</td>\n",
       "      <td>Si</td>\n",
       "      <td>Privado</td>\n",
       "      <td>Urbana</td>\n",
       "      <td>99.16</td>\n",
       "      <td>26.6</td>\n",
       "      <td>Fumador</td>\n",
       "      <td>0</td>\n",
       "    </tr>\n",
       "  </tbody>\n",
       "</table>\n",
       "<p>4909 rows × 11 columns</p>\n",
       "</div>"
      ],
      "text/plain": [
       "         genero  edad  hipertensión  enfermedad_coronaria casado      trabajo  \\\n",
       "930   Masculino  80.0             0                     0     Si     Autonomo   \n",
       "1200   Femenino  76.0             0                     0     Si      Privado   \n",
       "1315  Masculino  55.0             1                     0     Si     Autonomo   \n",
       "992   Masculino  82.0             0                     1     Si     Autonomo   \n",
       "2721   Femenino  17.0             0                     0     No  Sin trabajo   \n",
       "...         ...   ...           ...                   ...    ...          ...   \n",
       "4386   Femenino  21.0             0                     0     No      Privado   \n",
       "261    Femenino  37.0             0                     0     Si      Privado   \n",
       "5046  Masculino  44.0             0                     0     Si      Privado   \n",
       "3486   Femenino  13.0             0                     0     No      Privado   \n",
       "1050  Masculino  61.0             0                     0     Si      Privado   \n",
       "\n",
       "     residencia  nivel_glucosa   bmi  uso_tabaco  infarto  \n",
       "930       Rural         236.84  26.8       Nunca        0  \n",
       "1200     Urbana         198.02  38.7        NSNC        0  \n",
       "1315      Rural          82.81  44.3       Nunca        0  \n",
       "992       Rural          72.93  27.1  Ex fumador        0  \n",
       "2721      Rural          88.57  31.1       Nunca        0  \n",
       "...         ...            ...   ...         ...      ...  \n",
       "4386      Rural          74.24  32.7       Nunca        0  \n",
       "261       Rural         162.96  39.4       Nunca        0  \n",
       "5046     Urbana          89.68  34.6        NSNC        0  \n",
       "3486     Urbana          62.57  20.9        NSNC        0  \n",
       "1050     Urbana          99.16  26.6     Fumador        0  \n",
       "\n",
       "[4909 rows x 11 columns]"
      ]
     },
     "execution_count": 2724,
     "metadata": {},
     "output_type": "execute_result"
    }
   ],
   "source": [
    "DNumeric=DataFrameSinNa.copy()\n",
    "DNumeric['genero'] = DNumeric['genero'].astype('category')\n",
    "DNumeric['casado'] = DNumeric['casado'].astype('category')\n",
    "DNumeric['trabajo'] = DNumeric['trabajo'].astype('category')\n",
    "DNumeric['residencia'] = DNumeric['residencia'].astype('category')\n",
    "DNumeric['uso_tabaco'] = DNumeric['uso_tabaco'].astype('category')\n",
    "DNumeric"
   ]
  },
  {
   "cell_type": "code",
   "execution_count": 2725,
   "metadata": {},
   "outputs": [
    {
     "data": {
      "text/plain": [
       "genero                     int8\n",
       "edad                    float64\n",
       "hipertensión              int64\n",
       "enfermedad_coronaria      int64\n",
       "casado                     int8\n",
       "                         ...   \n",
       "residencia                 int8\n",
       "nivel_glucosa           float64\n",
       "bmi                     float64\n",
       "uso_tabaco                 int8\n",
       "infarto                   int64\n",
       "Length: 11, dtype: object"
      ]
     },
     "execution_count": 2725,
     "metadata": {},
     "output_type": "execute_result"
    }
   ],
   "source": [
    "DNumeric[\"genero\"] = DNumeric[\"genero\"].cat.codes\n",
    "DNumeric[\"casado\"] = DNumeric[\"casado\"].cat.codes\n",
    "DNumeric[\"trabajo\"] = DNumeric[\"trabajo\"].cat.codes\n",
    "DNumeric[\"residencia\"] = DNumeric[\"residencia\"].cat.codes\n",
    "DNumeric[\"uso_tabaco\"] = DNumeric[\"uso_tabaco\"].cat.codes\n",
    "DNumeric.dtypes"
   ]
  },
  {
   "cell_type": "code",
   "execution_count": 2726,
   "metadata": {},
   "outputs": [
    {
     "data": {
      "text/plain": [
       "array([[0],\n",
       "       [0],\n",
       "       [0],\n",
       "       ...,\n",
       "       [0],\n",
       "       [0],\n",
       "       [0]], dtype=int64)"
      ]
     },
     "execution_count": 2726,
     "metadata": {},
     "output_type": "execute_result"
    }
   ],
   "source": [
    "Dseparacion=DNumeric.copy()\n",
    "y=Dseparacion.infarto\n",
    "Dseparacion=Dseparacion.drop(columns=[\"infarto\"])\n",
    "y = np.array(y)\n",
    "Ytotales=y.reshape(y.shape[0],1)\n",
    "Ytotales"
   ]
  },
  {
   "cell_type": "code",
   "execution_count": 2727,
   "metadata": {
    "scrolled": true
   },
   "outputs": [
    {
     "data": {
      "text/plain": [
       "array([[0.5       , 0.97558594, 0.        , ..., 0.83888838, 0.18900344,\n",
       "        1.        ],\n",
       "       [0.        , 0.92675781, 0.        , ..., 0.65968055, 0.32531501,\n",
       "        0.66666667],\n",
       "       [0.5       , 0.67041016, 1.        , ..., 0.12782753, 0.38946163,\n",
       "        1.        ],\n",
       "       ...,\n",
       "       [0.5       , 0.53613281, 0.        , ..., 0.15954206, 0.27835052,\n",
       "        0.66666667],\n",
       "       [0.        , 0.15771484, 0.        , ..., 0.03439202, 0.12142039,\n",
       "        0.66666667],\n",
       "       [0.5       , 0.74365234, 0.        , ..., 0.20330533, 0.18671249,\n",
       "        0.33333333]])"
      ]
     },
     "execution_count": 2727,
     "metadata": {},
     "output_type": "execute_result"
    }
   ],
   "source": [
    "x = Dseparacion.values #returns a numpy array\n",
    "scaler = preprocessing.MinMaxScaler()\n",
    "Xtotales = scaler.fit_transform(x)\n",
    "Xtotales"
   ]
  },
  {
   "cell_type": "code",
   "execution_count": 2728,
   "metadata": {},
   "outputs": [],
   "source": [
    "X, X_test, Y, Y_test = train_test_split(Xtotales,Ytotales, test_size=0.1)"
   ]
  },
  {
   "cell_type": "code",
   "execution_count": 2729,
   "metadata": {},
   "outputs": [],
   "source": [
    "model=Sequential()"
   ]
  },
  {
   "cell_type": "code",
   "execution_count": 2730,
   "metadata": {},
   "outputs": [],
   "source": [
    "model.add(Dense(30,input_dim=Dseparacion.shape[1],activation='relu'))\n",
    "model.add(Dense(1, activation='sigmoid'))"
   ]
  },
  {
   "cell_type": "code",
   "execution_count": 2731,
   "metadata": {},
   "outputs": [],
   "source": [
    "model.compile(loss='mean_squared_error', optimizer='adam', metrics=['accuracy'])"
   ]
  },
  {
   "cell_type": "code",
   "execution_count": 2732,
   "metadata": {},
   "outputs": [
    {
     "name": "stdout",
     "output_type": "stream",
     "text": [
      "Epoch 1/30\n",
      "3976/3976 [==============================] - 2s 415us/step - loss: 0.0448 - accuracy: 0.9565 - val_loss: 0.0381 - val_accuracy: 0.9593\n",
      "Epoch 2/30\n",
      "3976/3976 [==============================] - 2s 398us/step - loss: 0.0409 - accuracy: 0.9565 - val_loss: 0.0378 - val_accuracy: 0.9593\n",
      "Epoch 3/30\n",
      "3976/3976 [==============================] - 2s 400us/step - loss: 0.0401 - accuracy: 0.9562 - val_loss: 0.0371 - val_accuracy: 0.9593\n",
      "Epoch 4/30\n",
      "3976/3976 [==============================] - 2s 399us/step - loss: 0.0392 - accuracy: 0.9565 - val_loss: 0.0406 - val_accuracy: 0.9638\n",
      "Epoch 5/30\n",
      "3976/3976 [==============================] - 2s 402us/step - loss: 0.0389 - accuracy: 0.9567 - val_loss: 0.0377 - val_accuracy: 0.9593\n",
      "Epoch 6/30\n",
      "3976/3976 [==============================] - 2s 401us/step - loss: 0.0386 - accuracy: 0.9562 - val_loss: 0.0369 - val_accuracy: 0.9593\n",
      "Epoch 7/30\n",
      "3976/3976 [==============================] - 2s 400us/step - loss: 0.0386 - accuracy: 0.9560 - val_loss: 0.0385 - val_accuracy: 0.9593\n",
      "Epoch 8/30\n",
      "3976/3976 [==============================] - 2s 399us/step - loss: 0.0384 - accuracy: 0.9565 - val_loss: 0.0361 - val_accuracy: 0.9593\n",
      "Epoch 9/30\n",
      "3976/3976 [==============================] - 2s 400us/step - loss: 0.0384 - accuracy: 0.9562 - val_loss: 0.0364 - val_accuracy: 0.9593\n",
      "Epoch 10/30\n",
      "3976/3976 [==============================] - 2s 400us/step - loss: 0.0383 - accuracy: 0.9565 - val_loss: 0.0360 - val_accuracy: 0.9593\n",
      "Epoch 11/30\n",
      "3976/3976 [==============================] - 2s 404us/step - loss: 0.0380 - accuracy: 0.9562 - val_loss: 0.0379 - val_accuracy: 0.9593\n",
      "Epoch 12/30\n",
      "3976/3976 [==============================] - 2s 399us/step - loss: 0.0378 - accuracy: 0.9567 - val_loss: 0.0364 - val_accuracy: 0.9593\n",
      "Epoch 13/30\n",
      "3976/3976 [==============================] - 2s 400us/step - loss: 0.0377 - accuracy: 0.9562 - val_loss: 0.0372 - val_accuracy: 0.9593\n",
      "Epoch 14/30\n",
      "3976/3976 [==============================] - 2s 401us/step - loss: 0.0378 - accuracy: 0.9565 - val_loss: 0.0362 - val_accuracy: 0.9593\n",
      "Epoch 15/30\n",
      "3976/3976 [==============================] - 2s 402us/step - loss: 0.0377 - accuracy: 0.9565 - val_loss: 0.0360 - val_accuracy: 0.9593\n",
      "Epoch 16/30\n",
      "3976/3976 [==============================] - 2s 401us/step - loss: 0.0378 - accuracy: 0.9565 - val_loss: 0.0381 - val_accuracy: 0.9593\n",
      "Epoch 17/30\n",
      "3976/3976 [==============================] - 2s 401us/step - loss: 0.0374 - accuracy: 0.9562 - val_loss: 0.0365 - val_accuracy: 0.9593\n",
      "Epoch 18/30\n",
      "3976/3976 [==============================] - 2s 400us/step - loss: 0.0375 - accuracy: 0.9565 - val_loss: 0.0378 - val_accuracy: 0.9548\n",
      "Epoch 19/30\n",
      "3976/3976 [==============================] - 2s 400us/step - loss: 0.0371 - accuracy: 0.9567 - val_loss: 0.0361 - val_accuracy: 0.9593\n",
      "Epoch 20/30\n",
      "3976/3976 [==============================] - 2s 400us/step - loss: 0.0371 - accuracy: 0.9560 - val_loss: 0.0363 - val_accuracy: 0.9593\n",
      "Epoch 21/30\n",
      "3976/3976 [==============================] - 2s 400us/step - loss: 0.0373 - accuracy: 0.9562 - val_loss: 0.0372 - val_accuracy: 0.9570\n",
      "Epoch 22/30\n",
      "3976/3976 [==============================] - 2s 400us/step - loss: 0.0370 - accuracy: 0.9572 - val_loss: 0.0364 - val_accuracy: 0.9593\n",
      "Epoch 23/30\n",
      "3976/3976 [==============================] - 2s 400us/step - loss: 0.0370 - accuracy: 0.9567 - val_loss: 0.0371 - val_accuracy: 0.9548\n",
      "Epoch 24/30\n",
      "3976/3976 [==============================] - 2s 399us/step - loss: 0.0369 - accuracy: 0.9570 - val_loss: 0.0364 - val_accuracy: 0.9593\n",
      "Epoch 25/30\n",
      "3976/3976 [==============================] - 2s 398us/step - loss: 0.0369 - accuracy: 0.9575 - val_loss: 0.0364 - val_accuracy: 0.9593\n",
      "Epoch 26/30\n",
      "3976/3976 [==============================] - 2s 400us/step - loss: 0.0371 - accuracy: 0.9565 - val_loss: 0.0372 - val_accuracy: 0.9570\n",
      "Epoch 27/30\n",
      "3976/3976 [==============================] - 2s 400us/step - loss: 0.0366 - accuracy: 0.9575 - val_loss: 0.0361 - val_accuracy: 0.9593\n",
      "Epoch 28/30\n",
      "3976/3976 [==============================] - 2s 399us/step - loss: 0.0368 - accuracy: 0.9570 - val_loss: 0.0357 - val_accuracy: 0.9593\n",
      "Epoch 29/30\n",
      "3976/3976 [==============================] - 2s 400us/step - loss: 0.0365 - accuracy: 0.9575 - val_loss: 0.0374 - val_accuracy: 0.9548\n",
      "Epoch 30/30\n",
      "3976/3976 [==============================] - 2s 399us/step - loss: 0.0367 - accuracy: 0.9577 - val_loss: 0.0364 - val_accuracy: 0.9593\n"
     ]
    }
   ],
   "source": [
    "hist=model.fit(X, Y,batch_size=1,validation_split=0.1, epochs=30)"
   ]
  },
  {
   "cell_type": "code",
   "execution_count": 2733,
   "metadata": {},
   "outputs": [
    {
     "name": "stdout",
     "output_type": "stream",
     "text": [
      " 1/16 [>.............................] - ETA: 0s - loss: 0.0028 - accuracy: 1.0000WARNING:tensorflow:Callbacks method `on_test_batch_end` is slow compared to the batch time (batch time: 0.0000s vs `on_test_batch_end` time: 0.0010s). Check your callbacks.\n",
      "16/16 [==============================] - 0s 813us/step - loss: 0.0343 - accuracy: 0.9633\n"
     ]
    },
    {
     "data": {
      "text/plain": [
       "[0.03433036059141159, 0.9633401036262512]"
      ]
     },
     "execution_count": 2733,
     "metadata": {},
     "output_type": "execute_result"
    }
   ],
   "source": [
    "model.evaluate(X_test, Y_test)"
   ]
  },
  {
   "cell_type": "code",
   "execution_count": 2734,
   "metadata": {},
   "outputs": [
    {
     "data": {
      "text/plain": [
       "<tf.Tensor: shape=(4418, 1), dtype=float32, numpy=\n",
       "array([[0.14899036],\n",
       "       [0.00335097],\n",
       "       [0.00788876],\n",
       "       ...,\n",
       "       [0.03398564],\n",
       "       [0.0423376 ],\n",
       "       [0.06376708]], dtype=float32)>"
      ]
     },
     "execution_count": 2734,
     "metadata": {},
     "output_type": "execute_result"
    }
   ],
   "source": [
    "model(X)"
   ]
  },
  {
   "cell_type": "code",
   "execution_count": 2735,
   "metadata": {
    "scrolled": true
   },
   "outputs": [
    {
     "data": {
      "image/png": "[encoded data removed]",
      "text/plain": [
       "<Figure size 432x288 with 1 Axes>"
      ]
     },
     "metadata": {
      "needs_background": "light"
     },
     "output_type": "display_data"
    }
   ],
   "source": [
    "\n",
    "plt.plot(hist.history['accuracy'])\n",
    "plt.plot(hist.history['val_accuracy'])\n",
    "plt.title('model accuracy')\n",
    "plt.ylabel('accuracy')\n",
    "plt.xlabel('epoch')\n",
    "plt.legend(['train', 'validacion'], loc='upper left')\n",
    "plt.show()\n"
   ]
  },
  {
   "cell_type": "code",
   "execution_count": 2736,
   "metadata": {},
   "outputs": [
    {
     "data": {
      "image/png": "[encoded data removed]",
      "text/plain": [
       "<Figure size 432x288 with 1 Axes>"
      ]
     },
     "metadata": {
      "needs_background": "light"
     },
     "output_type": "display_data"
    }
   ],
   "source": [
    "plt.plot(hist.history['loss'])\n",
    "plt.plot(hist.history['val_loss'])\n",
    "plt.title('model loss')\n",
    "plt.ylabel('loss')\n",
    "plt.xlabel('epoch')\n",
    "plt.legend(['train', 'validacion'], loc='upper left')\n",
    "plt.show()"
   ]
  },
  {
   "cell_type": "code",
   "execution_count": 2737,
   "metadata": {},
   "outputs": [],
   "source": [
    "p=model(Xtotales)\n",
    "\n",
    "p=p.numpy()\n",
    "p2=p.round()\n",
    "DataFrameSinNa['prediccion']=p\n",
    "DataFrameSinNa['prediccion Round']=p2"
   ]
  },
  {
   "cell_type": "code",
   "execution_count": 2738,
   "metadata": {},
   "outputs": [
    {
     "data": {
      "text/html": [
       "<div>\n",
       "<style scoped>\n",
       "    .dataframe tbody tr th:only-of-type {\n",
       "        vertical-align: middle;\n",
       "    }\n",
       "\n",
       "    .dataframe tbody tr th {\n",
       "        vertical-align: top;\n",
       "    }\n",
       "\n",
       "    .dataframe thead th {\n",
       "        text-align: right;\n",
       "    }\n",
       "</style>\n",
       "<table border=\"1\" class=\"dataframe\">\n",
       "  <thead>\n",
       "    <tr style=\"text-align: right;\">\n",
       "      <th></th>\n",
       "      <th>genero</th>\n",
       "      <th>edad</th>\n",
       "      <th>hipertensión</th>\n",
       "      <th>enfermedad_coronaria</th>\n",
       "      <th>casado</th>\n",
       "      <th>trabajo</th>\n",
       "      <th>residencia</th>\n",
       "      <th>nivel_glucosa</th>\n",
       "      <th>bmi</th>\n",
       "      <th>uso_tabaco</th>\n",
       "      <th>infarto</th>\n",
       "      <th>prediccion</th>\n",
       "      <th>prediccion Round</th>\n",
       "    </tr>\n",
       "  </thead>\n",
       "  <tbody>\n",
       "  </tbody>\n",
       "</table>\n",
       "</div>"
      ],
      "text/plain": [
       "Empty DataFrame\n",
       "Columns: [genero, edad, hipertensión, enfermedad_coronaria, casado, trabajo, residencia, nivel_glucosa, bmi, uso_tabaco, infarto, prediccion, prediccion Round]\n",
       "Index: []"
      ]
     },
     "execution_count": 2738,
     "metadata": {},
     "output_type": "execute_result"
    }
   ],
   "source": [
    "pd.set_option('display.max_rows', None)\n",
    "DataFrameSinNa.loc[DataFrameSinNa['prediccion Round']==1.0]"
   ]
  },
  {
   "cell_type": "code",
   "execution_count": null,
   "metadata": {},
   "outputs": [],
   "source": []
  }
 ],
 "metadata": {
  "kernelspec": {
   "display_name": "Python 3",
   "language": "python",
   "name": "python3"
  },
  "language_info": {
   "codemirror_mode": {
    "name": "ipython",
    "version": 3
   },
   "file_extension": ".py",
   "mimetype": "text/x-python",
   "name": "python",
   "nbconvert_exporter": "python",
   "pygments_lexer": "ipython3",
   "version": "3.8.8"
  }
 },
 "nbformat": 4,
 "nbformat_minor": 4
}
